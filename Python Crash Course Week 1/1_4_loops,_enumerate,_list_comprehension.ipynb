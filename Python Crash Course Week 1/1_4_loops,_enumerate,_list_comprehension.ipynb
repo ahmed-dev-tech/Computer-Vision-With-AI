{
  "nbformat": 4,
  "nbformat_minor": 0,
  "metadata": {
    "anaconda-cloud": {
      "environment": null,
      "summary": "Python Crash Course"
    },
    "kernelspec": {
      "display_name": "Python 3",
      "language": "python",
      "name": "python3"
    },
    "language_info": {
      "codemirror_mode": {
        "name": "ipython",
        "version": 3
      },
      "file_extension": ".py",
      "mimetype": "text/x-python",
      "name": "python",
      "nbconvert_exporter": "python",
      "pygments_lexer": "ipython3",
      "version": "3.7.3"
    },
    "colab": {
      "name": "1.4 loops, enumerate, list comprehension.ipynb",
      "provenance": []
    }
  },
  "cells": [
    {
      "cell_type": "markdown",
      "metadata": {
        "id": "tvFE9ZnJymuW"
      },
      "source": [
        "# **Python Crash Course**"
      ]
    },
    {
      "cell_type": "markdown",
      "metadata": {
        "id": "zgWgX67eymua"
      },
      "source": [
        "Generating Random Numbers:\n",
        "By using the python random libray you can generate random numbers, the ability to generate random numbers is very important in many programs including most games. <br>\n",
        "**Generate random integers between range 5-15**"
      ]
    },
    {
      "cell_type": "code",
      "metadata": {
        "colab": {
          "base_uri": "https://localhost:8080/"
        },
        "id": "yq8A5Ggeymub",
        "outputId": "e02af189-3cb4-4d97-9f98-ad03051ce74c"
      },
      "source": [
        "import random\n",
        "random.randint(5,15)"
      ],
      "execution_count": null,
      "outputs": [
        {
          "output_type": "execute_result",
          "data": {
            "text/plain": [
              "8"
            ]
          },
          "metadata": {
            "tags": []
          },
          "execution_count": 1
        }
      ]
    },
    {
      "cell_type": "markdown",
      "metadata": {
        "id": "Ium-8qYdymuc"
      },
      "source": [
        "**Note:** there are a lot of useful things you can do with the random , but we are covering that right now"
      ]
    },
    {
      "cell_type": "markdown",
      "metadata": {
        "id": "cUpwfe2Fymud"
      },
      "source": [
        "### **Loops**"
      ]
    },
    {
      "cell_type": "markdown",
      "metadata": {
        "id": "5_PbAa5Rymud"
      },
      "source": [
        "### **For Loops**"
      ]
    },
    {
      "cell_type": "markdown",
      "metadata": {
        "id": "buk0N1Jmymud"
      },
      "source": [
        "*The for loop is a very important loop design and its used to iterate over the items of any sequence including the Python list, string, tuple etc.*"
      ]
    },
    {
      "cell_type": "code",
      "metadata": {
        "id": "KijT7OADymue"
      },
      "source": [
        "seq = ['cat','dog','boy','girl','mango']"
      ],
      "execution_count": null,
      "outputs": []
    },
    {
      "cell_type": "code",
      "metadata": {
        "colab": {
          "base_uri": "https://localhost:8080/"
        },
        "id": "OJteJCcwymue",
        "outputId": "ec6faa12-0c14-4594-b174-a9a7cfaa5a5c"
      },
      "source": [
        "for item in seq:\n",
        "    print(item)"
      ],
      "execution_count": null,
      "outputs": [
        {
          "output_type": "stream",
          "text": [
            "cat\n",
            "dog\n",
            "boy\n",
            "girl\n",
            "mango\n"
          ],
          "name": "stdout"
        }
      ]
    },
    {
      "cell_type": "markdown",
      "metadata": {
        "id": "dg3r-2Dcymuf"
      },
      "source": [
        "The Loop iterates by lenght of sequence times"
      ]
    },
    {
      "cell_type": "code",
      "metadata": {
        "colab": {
          "base_uri": "https://localhost:8080/"
        },
        "id": "hOyY1ZChymuf",
        "outputId": "61bece8a-3c97-4eec-c1f6-7214256a66f4"
      },
      "source": [
        "print(len(seq))"
      ],
      "execution_count": null,
      "outputs": [
        {
          "output_type": "stream",
          "text": [
            "5\n"
          ],
          "name": "stdout"
        }
      ]
    },
    {
      "cell_type": "markdown",
      "metadata": {
        "id": "Oi2gXKfaymug"
      },
      "source": [
        "### **While Loops**"
      ]
    },
    {
      "cell_type": "markdown",
      "metadata": {
        "id": "Ci5tr1ptymug"
      },
      "source": [
        "**The while loop runs as long as the expression (condition) evaluates to True and execute the program block. The condition is checked every time at the beginning of the loop and the first time when the expression evaluates to False, the loop stops without executing any remaining statement(s).**"
      ]
    },
    {
      "cell_type": "code",
      "metadata": {
        "colab": {
          "base_uri": "https://localhost:8080/"
        },
        "id": "tVCmmpTwymuh",
        "outputId": "4e43263c-32e6-4da5-d006-2f2fdfd912ac"
      },
      "source": [
        "i = 0\n",
        "\n",
        "while i < 5:\n",
        "    print('i is: {}'.format(i))\n",
        "    i = i+1\n",
        "    \n",
        "print('looping Completed')"
      ],
      "execution_count": null,
      "outputs": [
        {
          "output_type": "stream",
          "text": [
            "i is: 0\n",
            "i is: 1\n",
            "i is: 2\n",
            "i is: 3\n",
            "i is: 4\n",
            "looping Completed\n"
          ],
          "name": "stdout"
        }
      ]
    },
    {
      "cell_type": "markdown",
      "metadata": {
        "id": "HSBUnf3eymuh"
      },
      "source": [
        "**Infinite Loops** , Don't create infinite while loops , these are ones which will always stay true and never be false, an easy example of creating an infinite while loop is this: `while True:` or `while 1` or `while i < 5:` in which you never increase the value of i so i stays below 5. "
      ]
    },
    {
      "cell_type": "markdown",
      "metadata": {
        "id": "oQnvk7v5ymuh"
      },
      "source": [
        "**break**: You can use `break` keyword to break/exit out of an infinte loop, so infinite while loops are acceptable if you plan to use `break`"
      ]
    },
    {
      "cell_type": "markdown",
      "metadata": {
        "id": "-aFnjEH0ymui"
      },
      "source": [
        "See below we break out of the loop when i is > 3"
      ]
    },
    {
      "cell_type": "code",
      "metadata": {
        "colab": {
          "base_uri": "https://localhost:8080/"
        },
        "id": "EZGrqXBMymui",
        "outputId": "ff20aac0-46d6-4616-f7c4-84e87b4489fc"
      },
      "source": [
        "i=0\n",
        "while True:\n",
        "    print('i is: {}'.format(i))\n",
        "    i = i+1\n",
        "    if i > 3:\n",
        "        break\n",
        "        \n",
        "print('Breaked out of the Infinite Loop')"
      ],
      "execution_count": null,
      "outputs": [
        {
          "output_type": "stream",
          "text": [
            "i is: 0\n",
            "i is: 1\n",
            "i is: 2\n",
            "i is: 3\n",
            "Breaked out of the Infinite Loop\n"
          ],
          "name": "stdout"
        }
      ]
    },
    {
      "cell_type": "markdown",
      "metadata": {
        "id": "H6J0_r-qymui"
      },
      "source": [
        "###  <font style=\"color:rgb(134,19,348)\"> Looping With range()    </font>"
      ]
    },
    {
      "cell_type": "markdown",
      "metadata": {
        "id": "EQf_NZp5ymuj"
      },
      "source": [
        "#### The range() function returns a list of consecutive integers. The function has one, two or three parameters where last two parameters are optional. It is widely used for loops."
      ]
    },
    {
      "cell_type": "markdown",
      "metadata": {
        "id": "n17o07xwymuj"
      },
      "source": [
        "This range will allow you to loop n times, n is the param passed inside the range"
      ]
    },
    {
      "cell_type": "code",
      "metadata": {
        "colab": {
          "base_uri": "https://localhost:8080/"
        },
        "id": "e9z2sqErymuj",
        "outputId": "4cb21de5-8198-4bc5-fd82-fcf8b0eaf796"
      },
      "source": [
        "for i in range(5):  #note the upper limit is not included\n",
        "    print(i)"
      ],
      "execution_count": null,
      "outputs": [
        {
          "output_type": "stream",
          "text": [
            "0\n",
            "1\n",
            "2\n",
            "3\n",
            "4\n"
          ],
          "name": "stdout"
        }
      ]
    },
    {
      "cell_type": "markdown",
      "metadata": {
        "id": "z9AeYQeiymuk"
      },
      "source": [
        "See the range starts from 0 and does not include the upper limit"
      ]
    },
    {
      "cell_type": "markdown",
      "metadata": {
        "id": "XqtPpoqzymul"
      },
      "source": [
        "You can also set define a range between numbers to loop"
      ]
    },
    {
      "cell_type": "code",
      "metadata": {
        "colab": {
          "base_uri": "https://localhost:8080/"
        },
        "id": "z4C999K9ymul",
        "outputId": "15a5d4a6-df4f-403d-d952-54d26977bb2a"
      },
      "source": [
        "for i in range(5,10):  \n",
        "    print(i)"
      ],
      "execution_count": null,
      "outputs": [
        {
          "output_type": "stream",
          "text": [
            "5\n",
            "6\n",
            "7\n",
            "8\n",
            "9\n"
          ],
          "name": "stdout"
        }
      ]
    },
    {
      "cell_type": "markdown",
      "metadata": {
        "id": "H9GyA-bPymum"
      },
      "source": [
        "You can also define a step size which tells you how much to move by for the next step or next iteration of the loop"
      ]
    },
    {
      "cell_type": "code",
      "metadata": {
        "colab": {
          "base_uri": "https://localhost:8080/"
        },
        "id": "1O84pYlJymum",
        "outputId": "0d72e612-272d-4bdb-9a96-1fdd88fcfae5"
      },
      "source": [
        "for i in range(1,10,2):  # using step size of 2 \n",
        "    print(i)"
      ],
      "execution_count": null,
      "outputs": [
        {
          "output_type": "stream",
          "text": [
            "1\n",
            "3\n",
            "5\n",
            "7\n",
            "9\n"
          ],
          "name": "stdout"
        }
      ]
    },
    {
      "cell_type": "markdown",
      "metadata": {
        "id": "cxN0AhLpymum"
      },
      "source": [
        "Range can also be used to create a list like this:"
      ]
    },
    {
      "cell_type": "code",
      "metadata": {
        "colab": {
          "base_uri": "https://localhost:8080/"
        },
        "id": "SPvVyvtPymun",
        "outputId": "cb541e8e-a624-4e94-e625-2455354360aa"
      },
      "source": [
        "list(range(10,18))"
      ],
      "execution_count": null,
      "outputs": [
        {
          "output_type": "execute_result",
          "data": {
            "text/plain": [
              "[10, 11, 12, 13, 14, 15, 16, 17]"
            ]
          },
          "metadata": {
            "tags": []
          },
          "execution_count": 11
        }
      ]
    },
    {
      "cell_type": "markdown",
      "metadata": {
        "id": "lpTsBeBbymun"
      },
      "source": [
        "### **Enumerate**"
      ]
    },
    {
      "cell_type": "markdown",
      "metadata": {
        "id": "DWxOEFSLymun"
      },
      "source": [
        "**It allows us to loop over something and have an automatic counter <br>\n",
        "If you want access to the index of each element within the body of a loop, use the built-in enumerate function**"
      ]
    },
    {
      "cell_type": "code",
      "metadata": {
        "colab": {
          "base_uri": "https://localhost:8080/"
        },
        "id": "GtAa_MW_ymun",
        "outputId": "4077bfac-9c05-4901-9d95-ef023a86cac9"
      },
      "source": [
        "animals = ['cat', 'dog', 'monkey']\n",
        "for idx, animal in enumerate(animals):   \n",
        "    print ( '#{}: {}'.format(idx + 1, animal))"
      ],
      "execution_count": null,
      "outputs": [
        {
          "output_type": "stream",
          "text": [
            "#1: cat\n",
            "#2: dog\n",
            "#3: monkey\n"
          ],
          "name": "stdout"
        }
      ]
    },
    {
      "cell_type": "markdown",
      "metadata": {
        "id": "iY40qaX6ymuo"
      },
      "source": [
        "Doing the Same thing with For loop"
      ]
    },
    {
      "cell_type": "code",
      "metadata": {
        "colab": {
          "base_uri": "https://localhost:8080/"
        },
        "id": "AvKE4g4yymuo",
        "outputId": "2303d2a9-c428-4277-efdb-a5d6629c94fd"
      },
      "source": [
        "i = 0\n",
        "for animal in animals:\n",
        "    i += 1\n",
        "    print('#{} {}'.format(i,animal))"
      ],
      "execution_count": null,
      "outputs": [
        {
          "output_type": "stream",
          "text": [
            "#1 cat\n",
            "#2 dog\n",
            "#3 monkey\n"
          ],
          "name": "stdout"
        }
      ]
    },
    {
      "cell_type": "markdown",
      "metadata": {
        "id": "1zqvGedvymuo"
      },
      "source": [
        "Now doing the above with a Dictionary"
      ]
    },
    {
      "cell_type": "code",
      "metadata": {
        "colab": {
          "base_uri": "https://localhost:8080/"
        },
        "id": "hv7bB7Yhymup",
        "outputId": "412a6b10-37b2-4ed4-9176-beda64a730a3"
      },
      "source": [
        "d = {'cat': 1, 'dog': 2, 'monkey': 3}\n",
        "for animal in d:\n",
        "    index = d[animal]\n",
        "    print('#{} {}'.format(index,animal))"
      ],
      "execution_count": null,
      "outputs": [
        {
          "output_type": "stream",
          "text": [
            "#1 cat\n",
            "#2 dog\n",
            "#3 monkey\n"
          ],
          "name": "stdout"
        }
      ]
    },
    {
      "cell_type": "markdown",
      "metadata": {
        "id": "bBbeG62mymup"
      },
      "source": [
        "The proper way to do it with a dictionary"
      ]
    },
    {
      "cell_type": "code",
      "metadata": {
        "colab": {
          "base_uri": "https://localhost:8080/"
        },
        "id": "TpdsDZnEymup",
        "outputId": "05b189dc-881e-4e84-95c3-55caff0b34b0"
      },
      "source": [
        "for key,value in d.items():\n",
        "    print('#{} {}'.format(value,key))"
      ],
      "execution_count": null,
      "outputs": [
        {
          "output_type": "stream",
          "text": [
            "#1 cat\n",
            "#2 dog\n",
            "#3 monkey\n"
          ],
          "name": "stdout"
        }
      ]
    },
    {
      "cell_type": "markdown",
      "metadata": {
        "id": "mBSLij7fymuq"
      },
      "source": [
        "### <font style=\"color:rgb(34,169,134)\"> Assignment 4: Random Quizz Generator</font> <br>\n",
        "Create a random Quizz generator that asks user 7 or 12 random math questions like multiplications, addtions , subtractions with random numbers. And at the end gives the user their percentage of score with a Grade."
      ]
    },
    {
      "cell_type": "markdown",
      "metadata": {
        "id": "p6MP27Gjymuq"
      },
      "source": [
        "### **List comprehension**"
      ]
    },
    {
      "cell_type": "markdown",
      "metadata": {
        "id": "OfkOnEC9ymuq"
      },
      "source": [
        "**Elegant way to define and create lists based on existing lists. <br>\n",
        " A list comprehension consists of the following parts:**\n",
        "\n",
        "1. An Input Sequence\n",
        "\n",
        "2. A Variable representing members of the input sequence.\n",
        "\n",
        "3. An Optional Predicate expression.\n",
        "\n",
        "4.  An Output Expression producing elements of the output list from members of the Input Sequence that satisfy the predicate."
      ]
    },
    {
      "cell_type": "markdown",
      "metadata": {
        "id": "ZeNEK_8bymur"
      },
      "source": [
        "So lets suppose you want to take a list of 4 elements like below and modify it such that it becomes a list of its squares. <br>\n",
        "First lets do that with normal python code"
      ]
    },
    {
      "cell_type": "code",
      "metadata": {
        "id": "Rn067eEYymur"
      },
      "source": [
        "x = [1,2,3,4]"
      ],
      "execution_count": null,
      "outputs": []
    },
    {
      "cell_type": "code",
      "metadata": {
        "colab": {
          "base_uri": "https://localhost:8080/"
        },
        "id": "rCv6w_tuymur",
        "outputId": "00318297-44e8-418e-963b-42350b9bad79"
      },
      "source": [
        "#using for loop\n",
        "out = []\n",
        "for item in x:\n",
        "    out.append(item**2)\n",
        "print(out)"
      ],
      "execution_count": null,
      "outputs": [
        {
          "output_type": "stream",
          "text": [
            "[1, 4, 9, 16]\n"
          ],
          "name": "stdout"
        }
      ]
    },
    {
      "cell_type": "markdown",
      "metadata": {
        "id": "_TFxvLuyymus"
      },
      "source": [
        "So it took us 4 lines and with list comprehension its just 1 line of code"
      ]
    },
    {
      "cell_type": "code",
      "metadata": {
        "colab": {
          "base_uri": "https://localhost:8080/"
        },
        "id": "xw9bVDf8ymus",
        "outputId": "fbf89c88-3143-4aaa-db79-902035aa9743"
      },
      "source": [
        "#using list comprehesion\n",
        "[item**2 for item in x]\n",
        "# part of functional programming"
      ],
      "execution_count": null,
      "outputs": [
        {
          "output_type": "execute_result",
          "data": {
            "text/plain": [
              "[1, 4, 9, 16]"
            ]
          },
          "metadata": {
            "tags": []
          },
          "execution_count": 18
        }
      ]
    },
    {
      "cell_type": "markdown",
      "metadata": {
        "id": "NFf5E-sBymut"
      },
      "source": [
        "Similarly list comprehension can become more complex and include conditions too, now here we are adding 2 to the original list elements if there are greater than 3"
      ]
    },
    {
      "cell_type": "code",
      "metadata": {
        "colab": {
          "base_uri": "https://localhost:8080/"
        },
        "id": "0FIMtBViymut",
        "outputId": "23f4aec9-a039-4964-c6f6-4d678ccaa811"
      },
      "source": [
        "[ item +2 for item in x if item >= 3 ]"
      ],
      "execution_count": null,
      "outputs": [
        {
          "output_type": "execute_result",
          "data": {
            "text/plain": [
              "[5, 6]"
            ]
          },
          "metadata": {
            "tags": []
          },
          "execution_count": 19
        }
      ]
    },
    {
      "cell_type": "markdown",
      "metadata": {
        "id": "6heKvS2jymut"
      },
      "source": [
        "Squaring Elements if they are > 3"
      ]
    },
    {
      "cell_type": "code",
      "metadata": {
        "colab": {
          "base_uri": "https://localhost:8080/"
        },
        "id": "W1O5vRpMymut",
        "outputId": "70c80f1b-61c0-4f58-a865-8e44cd2df149"
      },
      "source": [
        "a_list = [1,3,5,7,8,2,3]\n",
        "\n",
        "squared_ints = [ e**2 for e in a_list if e >= 3 ]\n",
        "print (squared_ints)\n",
        "\n",
        "# Output expression is        \"e**2\"\n",
        "# Variable is                  \"e\"\n",
        "# Input sequence is            \"a_list\"\n",
        "# Optional Predicate is     \"if e >= 3\""
      ],
      "execution_count": null,
      "outputs": [
        {
          "output_type": "stream",
          "text": [
            "[9, 25, 49, 64, 9]\n"
          ],
          "name": "stdout"
        }
      ]
    },
    {
      "cell_type": "code",
      "metadata": {
        "id": "vigVgw6y0d4B"
      },
      "source": [
        ""
      ],
      "execution_count": null,
      "outputs": []
    }
  ]
}