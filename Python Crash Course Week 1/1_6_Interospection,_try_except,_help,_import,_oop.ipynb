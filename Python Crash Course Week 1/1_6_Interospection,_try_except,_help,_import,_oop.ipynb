{
  "nbformat": 4,
  "nbformat_minor": 0,
  "metadata": {
    "anaconda-cloud": {
      "environment": null,
      "summary": "Python Crash Course"
    },
    "kernelspec": {
      "display_name": "Python 3",
      "language": "python",
      "name": "python3"
    },
    "language_info": {
      "codemirror_mode": {
        "name": "ipython",
        "version": 3
      },
      "file_extension": ".py",
      "mimetype": "text/x-python",
      "name": "python",
      "nbconvert_exporter": "python",
      "pygments_lexer": "ipython3",
      "version": "3.7.3"
    },
    "colab": {
      "name": "1.6 Interospection, try-except, help, import, oop.ipynb",
      "provenance": []
    }
  },
  "cells": [
    {
      "cell_type": "markdown",
      "metadata": {
        "id": "y5uwR0akK8hA"
      },
      "source": [
        "# **Python Crash Course**\n"
      ]
    },
    {
      "cell_type": "markdown",
      "metadata": {
        "id": "-GdjIgF8K8hI"
      },
      "source": [
        "# **Interospection**\n",
        "**Introspection is an act of self examination. In computer programming, introspection is the ability to determine type or properties of objects at runtime.**\n",
        "\n",
        "To introspect you use `isinstance`"
      ]
    },
    {
      "cell_type": "code",
      "metadata": {
        "colab": {
          "base_uri": "https://localhost:8080/"
        },
        "id": "mIZwV8W0K8hJ",
        "outputId": "1bce862f-0e7c-4088-f807-0297e37cec9c"
      },
      "source": [
        "l = [2,3,4,5]\n",
        "t = (6,7,8,9)\n",
        "d = {2: \"a\",\n",
        "     3: \"b\",\n",
        "     4: \"c\",\n",
        "     5: \"d\"}\n",
        "\n",
        "print(isinstance(l, list))\n",
        "print(isinstance(t, tuple))\n",
        "print(isinstance(d, dict))"
      ],
      "execution_count": null,
      "outputs": [
        {
          "output_type": "stream",
          "text": [
            "True\n",
            "True\n",
            "True\n"
          ],
          "name": "stdout"
        }
      ]
    },
    {
      "cell_type": "markdown",
      "metadata": {
        "id": "3qTs9--_K8hM"
      },
      "source": [
        "##dir() \n",
        "Now the dir() function return all the attributes of any Object <br>\n",
        "If no parameters are passed it returns a list of names in the current local scope."
      ]
    },
    {
      "cell_type": "code",
      "metadata": {
        "colab": {
          "base_uri": "https://localhost:8080/"
        },
        "id": "0JhCxHIZK8hN",
        "outputId": "91e171a0-0d9e-4c5f-e0a0-eeea6633eaf7"
      },
      "source": [
        "dir(l)"
      ],
      "execution_count": null,
      "outputs": [
        {
          "output_type": "execute_result",
          "data": {
            "text/plain": [
              "['__add__',\n",
              " '__class__',\n",
              " '__contains__',\n",
              " '__delattr__',\n",
              " '__delitem__',\n",
              " '__dir__',\n",
              " '__doc__',\n",
              " '__eq__',\n",
              " '__format__',\n",
              " '__ge__',\n",
              " '__getattribute__',\n",
              " '__getitem__',\n",
              " '__gt__',\n",
              " '__hash__',\n",
              " '__iadd__',\n",
              " '__imul__',\n",
              " '__init__',\n",
              " '__init_subclass__',\n",
              " '__iter__',\n",
              " '__le__',\n",
              " '__len__',\n",
              " '__lt__',\n",
              " '__mul__',\n",
              " '__ne__',\n",
              " '__new__',\n",
              " '__reduce__',\n",
              " '__reduce_ex__',\n",
              " '__repr__',\n",
              " '__reversed__',\n",
              " '__rmul__',\n",
              " '__setattr__',\n",
              " '__setitem__',\n",
              " '__sizeof__',\n",
              " '__str__',\n",
              " '__subclasshook__',\n",
              " 'append',\n",
              " 'clear',\n",
              " 'copy',\n",
              " 'count',\n",
              " 'extend',\n",
              " 'index',\n",
              " 'insert',\n",
              " 'pop',\n",
              " 'remove',\n",
              " 'reverse',\n",
              " 'sort']"
            ]
          },
          "metadata": {
            "tags": []
          },
          "execution_count": 5
        }
      ]
    },
    {
      "cell_type": "markdown",
      "metadata": {
        "id": "j7vfp0mXK8hO"
      },
      "source": [
        "## Type()\n",
        "This return the type of Object"
      ]
    },
    {
      "cell_type": "code",
      "metadata": {
        "colab": {
          "base_uri": "https://localhost:8080/"
        },
        "id": "fwIcOa3LK8hP",
        "outputId": "4afec742-fc1d-431e-a3b5-721dd856dcc5"
      },
      "source": [
        "type(l)"
      ],
      "execution_count": null,
      "outputs": [
        {
          "output_type": "execute_result",
          "data": {
            "text/plain": [
              "list"
            ]
          },
          "metadata": {
            "tags": []
          },
          "execution_count": 6
        }
      ]
    },
    {
      "cell_type": "markdown",
      "metadata": {
        "id": "NJs6pTPjK8hS"
      },
      "source": [
        "## Help \n",
        "The help function gives you a nic documentation on the object, its attributes , its types, its usage etc."
      ]
    },
    {
      "cell_type": "code",
      "metadata": {
        "scrolled": false,
        "colab": {
          "base_uri": "https://localhost:8080/"
        },
        "id": "Y6DGlNAqK8hU",
        "outputId": "3e695f6a-9e08-4082-d4af-3b9261d024d8"
      },
      "source": [
        "help(l)"
      ],
      "execution_count": null,
      "outputs": [
        {
          "output_type": "stream",
          "text": [
            "Help on list object:\n",
            "\n",
            "class list(object)\n",
            " |  list(iterable=(), /)\n",
            " |  \n",
            " |  Built-in mutable sequence.\n",
            " |  \n",
            " |  If no argument is given, the constructor creates a new empty list.\n",
            " |  The argument must be an iterable if specified.\n",
            " |  \n",
            " |  Methods defined here:\n",
            " |  \n",
            " |  __add__(self, value, /)\n",
            " |      Return self+value.\n",
            " |  \n",
            " |  __contains__(self, key, /)\n",
            " |      Return key in self.\n",
            " |  \n",
            " |  __delitem__(self, key, /)\n",
            " |      Delete self[key].\n",
            " |  \n",
            " |  __eq__(self, value, /)\n",
            " |      Return self==value.\n",
            " |  \n",
            " |  __ge__(self, value, /)\n",
            " |      Return self>=value.\n",
            " |  \n",
            " |  __getattribute__(self, name, /)\n",
            " |      Return getattr(self, name).\n",
            " |  \n",
            " |  __getitem__(...)\n",
            " |      x.__getitem__(y) <==> x[y]\n",
            " |  \n",
            " |  __gt__(self, value, /)\n",
            " |      Return self>value.\n",
            " |  \n",
            " |  __iadd__(self, value, /)\n",
            " |      Implement self+=value.\n",
            " |  \n",
            " |  __imul__(self, value, /)\n",
            " |      Implement self*=value.\n",
            " |  \n",
            " |  __init__(self, /, *args, **kwargs)\n",
            " |      Initialize self.  See help(type(self)) for accurate signature.\n",
            " |  \n",
            " |  __iter__(self, /)\n",
            " |      Implement iter(self).\n",
            " |  \n",
            " |  __le__(self, value, /)\n",
            " |      Return self<=value.\n",
            " |  \n",
            " |  __len__(self, /)\n",
            " |      Return len(self).\n",
            " |  \n",
            " |  __lt__(self, value, /)\n",
            " |      Return self<value.\n",
            " |  \n",
            " |  __mul__(self, value, /)\n",
            " |      Return self*value.\n",
            " |  \n",
            " |  __ne__(self, value, /)\n",
            " |      Return self!=value.\n",
            " |  \n",
            " |  __repr__(self, /)\n",
            " |      Return repr(self).\n",
            " |  \n",
            " |  __reversed__(self, /)\n",
            " |      Return a reverse iterator over the list.\n",
            " |  \n",
            " |  __rmul__(self, value, /)\n",
            " |      Return value*self.\n",
            " |  \n",
            " |  __setitem__(self, key, value, /)\n",
            " |      Set self[key] to value.\n",
            " |  \n",
            " |  __sizeof__(self, /)\n",
            " |      Return the size of the list in memory, in bytes.\n",
            " |  \n",
            " |  append(self, object, /)\n",
            " |      Append object to the end of the list.\n",
            " |  \n",
            " |  clear(self, /)\n",
            " |      Remove all items from list.\n",
            " |  \n",
            " |  copy(self, /)\n",
            " |      Return a shallow copy of the list.\n",
            " |  \n",
            " |  count(self, value, /)\n",
            " |      Return number of occurrences of value.\n",
            " |  \n",
            " |  extend(self, iterable, /)\n",
            " |      Extend list by appending elements from the iterable.\n",
            " |  \n",
            " |  index(self, value, start=0, stop=9223372036854775807, /)\n",
            " |      Return first index of value.\n",
            " |      \n",
            " |      Raises ValueError if the value is not present.\n",
            " |  \n",
            " |  insert(self, index, object, /)\n",
            " |      Insert object before index.\n",
            " |  \n",
            " |  pop(self, index=-1, /)\n",
            " |      Remove and return item at index (default last).\n",
            " |      \n",
            " |      Raises IndexError if list is empty or index is out of range.\n",
            " |  \n",
            " |  remove(self, value, /)\n",
            " |      Remove first occurrence of value.\n",
            " |      \n",
            " |      Raises ValueError if the value is not present.\n",
            " |  \n",
            " |  reverse(self, /)\n",
            " |      Reverse *IN PLACE*.\n",
            " |  \n",
            " |  sort(self, /, *, key=None, reverse=False)\n",
            " |      Stable sort *IN PLACE*.\n",
            " |  \n",
            " |  ----------------------------------------------------------------------\n",
            " |  Static methods defined here:\n",
            " |  \n",
            " |  __new__(*args, **kwargs) from builtins.type\n",
            " |      Create and return a new object.  See help(type) for accurate signature.\n",
            " |  \n",
            " |  ----------------------------------------------------------------------\n",
            " |  Data and other attributes defined here:\n",
            " |  \n",
            " |  __hash__ = None\n",
            "\n"
          ],
          "name": "stdout"
        }
      ]
    },
    {
      "cell_type": "markdown",
      "metadata": {
        "id": "Z2hUZgqyK8hV"
      },
      "source": [
        "## Try & Except block  \n",
        " ** Error handling in Python is done through the use of exceptions that are caught in try blocks and handled in except blocks. **"
      ]
    },
    {
      "cell_type": "markdown",
      "metadata": {
        "id": "RRWfQAzCK8hW"
      },
      "source": [
        "For example lets put the below block in a try block to handle a condition of avoiding division by zero"
      ]
    },
    {
      "cell_type": "code",
      "metadata": {
        "colab": {
          "base_uri": "https://localhost:8080/",
          "height": 163
        },
        "id": "IJza_JyDK8hX",
        "outputId": "7594aad2-2c0f-4b2e-bcac-f4ab84ce8601"
      },
      "source": [
        "7/0"
      ],
      "execution_count": null,
      "outputs": [
        {
          "output_type": "error",
          "ename": "ZeroDivisionError",
          "evalue": "ignored",
          "traceback": [
            "\u001b[0;31m---------------------------------------------------------------------------\u001b[0m",
            "\u001b[0;31mZeroDivisionError\u001b[0m                         Traceback (most recent call last)",
            "\u001b[0;32m<ipython-input-8-ff4b999c47a3>\u001b[0m in \u001b[0;36m<module>\u001b[0;34m()\u001b[0m\n\u001b[0;32m----> 1\u001b[0;31m \u001b[0;36m7\u001b[0m\u001b[0;34m/\u001b[0m\u001b[0;36m0\u001b[0m\u001b[0;34m\u001b[0m\u001b[0;34m\u001b[0m\u001b[0m\n\u001b[0m",
            "\u001b[0;31mZeroDivisionError\u001b[0m: division by zero"
          ]
        }
      ]
    },
    {
      "cell_type": "markdown",
      "metadata": {
        "id": "_dEOLCKHK8hY"
      },
      "source": [
        "This is how we avoid zero Division"
      ]
    },
    {
      "cell_type": "code",
      "metadata": {
        "colab": {
          "base_uri": "https://localhost:8080/"
        },
        "id": "6n0Llx20K8hY",
        "outputId": "8153c4aa-fbc5-4d9e-c663-f3acbfd77476"
      },
      "source": [
        "try: \n",
        "    print(7 / 0)\n",
        "    \n",
        "except Exception as e:\n",
        "    print(\"Exception: \",e)"
      ],
      "execution_count": null,
      "outputs": [
        {
          "output_type": "stream",
          "text": [
            "Exception:  division by zero\n"
          ],
          "name": "stdout"
        }
      ]
    },
    {
      "cell_type": "markdown",
      "metadata": {
        "id": "zGFYpLvfK8hZ"
      },
      "source": [
        "A Simple Use case"
      ]
    },
    {
      "cell_type": "code",
      "metadata": {
        "colab": {
          "base_uri": "https://localhost:8080/"
        },
        "id": "knhhvMnfK8ha",
        "outputId": "b878e759-23f4-43d6-ac43-027c08386c9a"
      },
      "source": [
        "a= int(input(\"Enter a number to divide 10 by: \"))\n",
        "try:\n",
        "    result = 10 / a\n",
        "    print(result)\n",
        "except Exception as ZeroDivisionError:\n",
        "    print(\"Undefined\")"
      ],
      "execution_count": null,
      "outputs": [
        {
          "output_type": "stream",
          "text": [
            "Enter a number to divide 10 by: 4\n",
            "2.5\n"
          ],
          "name": "stdout"
        }
      ]
    },
    {
      "cell_type": "markdown",
      "metadata": {
        "id": "rWMw7Y2uK8hb"
      },
      "source": [
        "**Importing Python Modules/Packages/Libraries**"
      ]
    },
    {
      "cell_type": "markdown",
      "metadata": {
        "id": "WgEUOw0QK8hb"
      },
      "source": [
        "There are multiple ways to import pacakges "
      ]
    },
    {
      "cell_type": "markdown",
      "metadata": {
        "id": "BoSCVZQ7K8hc"
      },
      "source": [
        "You can Import Whole Packages and then use modules from those packages"
      ]
    },
    {
      "cell_type": "code",
      "metadata": {
        "colab": {
          "base_uri": "https://localhost:8080/"
        },
        "id": "WPg6JRdnK8hc",
        "outputId": "6a6cb5c6-9e32-4275-8e7b-82b96e30e4f9"
      },
      "source": [
        "import os\n",
        "os.stat(\"apple.png\")"
      ],
      "execution_count": null,
      "outputs": [
        {
          "output_type": "execute_result",
          "data": {
            "text/plain": [
              "os.stat_result(st_mode=33188, st_ino=2228394, st_dev=49, st_nlink=1, st_uid=0, st_gid=0, st_size=12803, st_atime=1626017582, st_mtime=1626017582, st_ctime=1626017582)"
            ]
          },
          "metadata": {
            "tags": []
          },
          "execution_count": 15
        }
      ]
    },
    {
      "cell_type": "markdown",
      "metadata": {
        "id": "xyYd98PSK8hd"
      },
      "source": [
        "You can directly import modules from packages like this"
      ]
    },
    {
      "cell_type": "code",
      "metadata": {
        "colab": {
          "base_uri": "https://localhost:8080/"
        },
        "id": "AojSHIF2K8hd",
        "outputId": "a6c93e9e-ba62-4775-beb8-4cc643c0a461"
      },
      "source": [
        "from os import stat\n",
        "\n",
        "print(stat(\"apple.png\"))"
      ],
      "execution_count": null,
      "outputs": [
        {
          "output_type": "stream",
          "text": [
            "os.stat_result(st_mode=33188, st_ino=2228394, st_dev=49, st_nlink=1, st_uid=0, st_gid=0, st_size=12803, st_atime=1626017582, st_mtime=1626017582, st_ctime=1626017582)\n"
          ],
          "name": "stdout"
        }
      ]
    },
    {
      "cell_type": "markdown",
      "metadata": {
        "id": "zS1Jv-w-K8he"
      },
      "source": [
        "Star \"`*`\" imports are wildcard imports , they import all modules from the package and they can overide used names in your namespace."
      ]
    },
    {
      "cell_type": "code",
      "metadata": {
        "colab": {
          "base_uri": "https://localhost:8080/"
        },
        "id": "AxFOwGTyK8he",
        "outputId": "cf07289e-f714-445d-d378-32d3d260768d"
      },
      "source": [
        "from os import *\n",
        "\n",
        "print(stat(\"apple.png\"))"
      ],
      "execution_count": null,
      "outputs": [
        {
          "output_type": "stream",
          "text": [
            "os.stat_result(st_mode=33188, st_ino=2228394, st_dev=49, st_nlink=1, st_uid=0, st_gid=0, st_size=12803, st_atime=1626017582, st_mtime=1626017582, st_ctime=1626017582)\n"
          ],
          "name": "stdout"
        }
      ]
    },
    {
      "cell_type": "markdown",
      "metadata": {
        "id": "NCzP6lpHK8hf"
      },
      "source": [
        "You can give any Alias to your Package name"
      ]
    },
    {
      "cell_type": "code",
      "metadata": {
        "colab": {
          "base_uri": "https://localhost:8080/"
        },
        "id": "k1Je_WHWK8hf",
        "outputId": "6aca327e-26b6-4e13-bcc2-2f0df006507a"
      },
      "source": [
        "import os as donkey\n",
        "\n",
        "print(donkey.stat(\"apple.png\"))"
      ],
      "execution_count": null,
      "outputs": [
        {
          "output_type": "stream",
          "text": [
            "os.stat_result(st_mode=33188, st_ino=2228394, st_dev=49, st_nlink=1, st_uid=0, st_gid=0, st_size=12803, st_atime=1626017582, st_mtime=1626017582, st_ctime=1626017582)\n"
          ],
          "name": "stdout"
        }
      ]
    },
    {
      "cell_type": "markdown",
      "metadata": {
        "id": "TC9UNQT7K8hh"
      },
      "source": [
        "## Object Oriented Programming\n",
        "**One of the popular approach to solve a programming problem is by creating objects. This is known as Object-Oriented Programming (OOP).**\n",
        "\n"
      ]
    },
    {
      "cell_type": "code",
      "metadata": {
        "id": "DR_AVo4OK8hi"
      },
      "source": [
        "class Greeter:\n",
        "\n",
        "    # Constructor\n",
        "    def __init__(self, name, drink):\n",
        "        self.name = name  # Create an instance variable\n",
        "        self.drink = drink \n",
        "\n",
        "    # method of class\n",
        "    def greet(self):\n",
        "            print ('Hello, {} likes {}'.format( self.name, self.drink))"
      ],
      "execution_count": null,
      "outputs": []
    },
    {
      "cell_type": "markdown",
      "metadata": {
        "id": "GzXrK0FFK8hj"
      },
      "source": [
        "Now lets Create the Constructor of the Class"
      ]
    },
    {
      "cell_type": "code",
      "metadata": {
        "id": "MPgQ02UYK8hk"
      },
      "source": [
        "g = Greeter('Taha','pepsi')  # Construct an instance of the Greeter class"
      ],
      "execution_count": null,
      "outputs": []
    },
    {
      "cell_type": "markdown",
      "metadata": {
        "id": "wgNZSwBrK8hl"
      },
      "source": [
        "Now lets use a method of this class"
      ]
    },
    {
      "cell_type": "code",
      "metadata": {
        "colab": {
          "base_uri": "https://localhost:8080/"
        },
        "id": "eZjT2kFpK8hl",
        "outputId": "3f5f05bc-7cf4-43f6-ba13-e944e7b2ef5e"
      },
      "source": [
        "g.greet()"
      ],
      "execution_count": null,
      "outputs": [
        {
          "output_type": "stream",
          "text": [
            "Hello, Taha likes pepsi\n"
          ],
          "name": "stdout"
        }
      ]
    },
    {
      "cell_type": "markdown",
      "metadata": {
        "id": "19l3Flu0K8hm"
      },
      "source": [
        "Similarly you can instert values at instantiation and use them in methods"
      ]
    },
    {
      "cell_type": "code",
      "metadata": {
        "colab": {
          "base_uri": "https://localhost:8080/"
        },
        "id": "QFl7fo3QK8hm",
        "outputId": "eda15887-88ad-4109-8878-ee968a609302"
      },
      "source": [
        "m = Greeter('Mustafa','Juice')  \n",
        "m.greet()\n",
        "g.greet()"
      ],
      "execution_count": null,
      "outputs": [
        {
          "output_type": "stream",
          "text": [
            "Hello, Mustafa likes Juice\n",
            "Hello, Taha likes pepsi\n"
          ],
          "name": "stdout"
        }
      ]
    },
    {
      "cell_type": "markdown",
      "metadata": {
        "id": "QE-KjtG_K8hn"
      },
      "source": [
        "#  <center> <font style=\"color:rgb(134,19,348)\"> The END Folks  </font> </center>"
      ]
    },
    {
      "cell_type": "code",
      "metadata": {
        "id": "jUTuIAyzNF6m"
      },
      "source": [
        ""
      ],
      "execution_count": null,
      "outputs": []
    }
  ]
}