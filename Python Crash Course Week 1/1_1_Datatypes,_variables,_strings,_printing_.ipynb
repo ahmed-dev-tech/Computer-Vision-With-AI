{
  "nbformat": 4,
  "nbformat_minor": 0,
  "metadata": {
    "anaconda-cloud": {
      "environment": null,
      "summary": "Python Crash Course"
    },
    "kernelspec": {
      "display_name": "Python 3",
      "language": "python",
      "name": "python3"
    },
    "language_info": {
      "codemirror_mode": {
        "name": "ipython",
        "version": 3
      },
      "file_extension": ".py",
      "mimetype": "text/x-python",
      "name": "python",
      "nbconvert_exporter": "python",
      "pygments_lexer": "ipython3",
      "version": "3.7.3"
    },
    "colab": {
      "name": "1_1_Datatypes,_variables,_strings,_printing .ipynb",
      "provenance": [],
      "include_colab_link": true
    }
  },
  "cells": [
    {
      "cell_type": "markdown",
      "metadata": {
        "id": "view-in-github",
        "colab_type": "text"
      },
      "source": [
        "<a href=\"https://colab.research.google.com/github/ahmed-dev-tech/Computer-Vision-With-AI/blob/main/Python%20Crash%20Course%20Week%201/1_1_Datatypes%2C_variables%2C_strings%2C_printing_.ipynb\" target=\"_parent\"><img src=\"https://colab.research.google.com/assets/colab-badge.svg\" alt=\"Open In Colab\"/></a>"
      ]
    },
    {
      "cell_type": "markdown",
      "metadata": {
        "id": "iuvyUucWLl04"
      },
      "source": [
        "# **PYTHON CRASH COURSE**\n",
        "\n",
        "\n",
        "\n",
        "\n",
        "\n",
        "\n"
      ]
    },
    {
      "cell_type": "markdown",
      "metadata": {
        "id": "RoOQt5yPWuAk"
      },
      "source": [
        "**Airthmatic Operators**"
      ]
    },
    {
      "cell_type": "code",
      "metadata": {
        "colab": {
          "base_uri": "https://localhost:8080/"
        },
        "id": "Qqws_coaLl09",
        "outputId": "8a0c8360-d517-4a23-b5b0-f65a7d27d55a"
      },
      "source": [
        "90 + 45 "
      ],
      "execution_count": 1,
      "outputs": [
        {
          "output_type": "execute_result",
          "data": {
            "text/plain": [
              "135"
            ]
          },
          "metadata": {
            "tags": []
          },
          "execution_count": 1
        }
      ]
    },
    {
      "cell_type": "code",
      "metadata": {
        "colab": {
          "base_uri": "https://localhost:8080/"
        },
        "id": "ho2kbJYeLl0_",
        "outputId": "69e26aec-c15d-4151-d641-8f69e83528f0"
      },
      "source": [
        "90 + 45 - 32"
      ],
      "execution_count": 2,
      "outputs": [
        {
          "output_type": "execute_result",
          "data": {
            "text/plain": [
              "103"
            ]
          },
          "metadata": {
            "tags": []
          },
          "execution_count": 2
        }
      ]
    },
    {
      "cell_type": "code",
      "metadata": {
        "colab": {
          "base_uri": "https://localhost:8080/"
        },
        "id": "lrqp5MYELl1A",
        "outputId": "0e301c67-137d-4f5b-c7ad-c855f59d3299"
      },
      "source": [
        "3 * 33"
      ],
      "execution_count": 3,
      "outputs": [
        {
          "output_type": "execute_result",
          "data": {
            "text/plain": [
              "99"
            ]
          },
          "metadata": {
            "tags": []
          },
          "execution_count": 3
        }
      ]
    },
    {
      "cell_type": "code",
      "metadata": {
        "colab": {
          "base_uri": "https://localhost:8080/"
        },
        "id": "M5Bt5457Ll1A",
        "outputId": "2591d3c0-ef58-4564-a8cd-e917873ac646"
      },
      "source": [
        "100 / 4"
      ],
      "execution_count": 4,
      "outputs": [
        {
          "output_type": "execute_result",
          "data": {
            "text/plain": [
              "25.0"
            ]
          },
          "metadata": {
            "tags": []
          },
          "execution_count": 4
        }
      ]
    },
    {
      "cell_type": "code",
      "metadata": {
        "colab": {
          "base_uri": "https://localhost:8080/"
        },
        "id": "4CrRpQe2Ll1B",
        "outputId": "42befc8f-5fda-4698-c7f9-84f6d0ddf4bc"
      },
      "source": [
        "2 ** 4"
      ],
      "execution_count": 5,
      "outputs": [
        {
          "output_type": "execute_result",
          "data": {
            "text/plain": [
              "16"
            ]
          },
          "metadata": {
            "tags": []
          },
          "execution_count": 5
        }
      ]
    },
    {
      "cell_type": "code",
      "metadata": {
        "colab": {
          "base_uri": "https://localhost:8080/"
        },
        "id": "HtZXAvtvLl1B",
        "outputId": "ccaba9b5-fb32-4f3c-829c-358d2eba5803"
      },
      "source": [
        "4 % 2   # give me the remainder after I divide 4 by 2"
      ],
      "execution_count": 6,
      "outputs": [
        {
          "output_type": "execute_result",
          "data": {
            "text/plain": [
              "0"
            ]
          },
          "metadata": {
            "tags": []
          },
          "execution_count": 6
        }
      ]
    },
    {
      "cell_type": "code",
      "metadata": {
        "colab": {
          "base_uri": "https://localhost:8080/"
        },
        "id": "NKKXmuW_Ll1C",
        "outputId": "f39e7d4e-1c7a-447e-ac35-95379fe0a122"
      },
      "source": [
        "5 % 2"
      ],
      "execution_count": 7,
      "outputs": [
        {
          "output_type": "execute_result",
          "data": {
            "text/plain": [
              "1"
            ]
          },
          "metadata": {
            "tags": []
          },
          "execution_count": 7
        }
      ]
    },
    {
      "cell_type": "code",
      "metadata": {
        "colab": {
          "base_uri": "https://localhost:8080/"
        },
        "id": "1Pk2z-niLl1E",
        "outputId": "9f221954-3c01-4ff8-8b40-d3a9fc3792b9"
      },
      "source": [
        "(2 + 3) * (5 + 5)   # you can try to make any complex equations"
      ],
      "execution_count": 8,
      "outputs": [
        {
          "output_type": "execute_result",
          "data": {
            "text/plain": [
              "50"
            ]
          },
          "metadata": {
            "tags": []
          },
          "execution_count": 8
        }
      ]
    },
    {
      "cell_type": "code",
      "metadata": {
        "colab": {
          "base_uri": "https://localhost:8080/"
        },
        "id": "cNJbhrK0Ll1E",
        "outputId": "60e1d35e-e9c1-4335-da1f-d4f50196fd6d"
      },
      "source": [
        "4 + 8 / 2  * 4    "
      ],
      "execution_count": 9,
      "outputs": [
        {
          "output_type": "execute_result",
          "data": {
            "text/plain": [
              "20.0"
            ]
          },
          "metadata": {
            "tags": []
          },
          "execution_count": 9
        }
      ]
    },
    {
      "cell_type": "code",
      "metadata": {
        "colab": {
          "base_uri": "https://localhost:8080/"
        },
        "id": "nP8gN5uYLl1F",
        "outputId": "ba12affe-04df-44e4-ce20-f7c3e969203c"
      },
      "source": [
        "4 + 8 / (2 * 4)   "
      ],
      "execution_count": 10,
      "outputs": [
        {
          "output_type": "execute_result",
          "data": {
            "text/plain": [
              "5.0"
            ]
          },
          "metadata": {
            "tags": []
          },
          "execution_count": 10
        }
      ]
    },
    {
      "cell_type": "code",
      "metadata": {
        "colab": {
          "base_uri": "https://localhost:8080/"
        },
        "id": "1NfJbvIeLl1G",
        "outputId": "08f57d97-e339-4bcc-d280-19c0d1a5b397"
      },
      "source": [
        "(4 + ( 8 / 2 ) )  * 4  "
      ],
      "execution_count": 11,
      "outputs": [
        {
          "output_type": "execute_result",
          "data": {
            "text/plain": [
              "32.0"
            ]
          },
          "metadata": {
            "tags": []
          },
          "execution_count": 11
        }
      ]
    },
    {
      "cell_type": "markdown",
      "metadata": {
        "id": "abra0usBLl1G"
      },
      "source": [
        "**Variables**  "
      ]
    },
    {
      "cell_type": "markdown",
      "metadata": {
        "id": "pPqEOHNvLl1H"
      },
      "source": [
        "**Variables are nothing but reserved memory locations to store values. This means that when you create a variable you reserve some space in memory. Based on the data type of a variable, the interpreter allocates memory and decides what can be stored in the reserved memory.**"
      ]
    },
    {
      "cell_type": "code",
      "metadata": {
        "id": "VVqGgEkbLl1H"
      },
      "source": [
        "# Can not start with number or special characters . you can check if you want\n",
        "name_of_var = 2"
      ],
      "execution_count": 12,
      "outputs": []
    },
    {
      "cell_type": "code",
      "metadata": {
        "id": "FCuEu94pLl1H"
      },
      "source": [
        "x = 2\n",
        "y = 3"
      ],
      "execution_count": 13,
      "outputs": []
    },
    {
      "cell_type": "code",
      "metadata": {
        "id": "MQQKiAOQLl1I"
      },
      "source": [
        "z = x + y"
      ],
      "execution_count": 14,
      "outputs": []
    },
    {
      "cell_type": "code",
      "metadata": {
        "colab": {
          "base_uri": "https://localhost:8080/"
        },
        "id": "BNqP4T3sLl1I",
        "outputId": "6af73d46-13fe-4b95-d3b2-bee5e203985a"
      },
      "source": [
        "z"
      ],
      "execution_count": 15,
      "outputs": [
        {
          "output_type": "execute_result",
          "data": {
            "text/plain": [
              "5"
            ]
          },
          "metadata": {
            "tags": []
          },
          "execution_count": 15
        }
      ]
    },
    {
      "cell_type": "code",
      "metadata": {
        "colab": {
          "base_uri": "https://localhost:8080/"
        },
        "id": "Wkq5OzejLl1I",
        "outputId": "9f8850be-a135-4ad0-c7fd-1352ce068b17"
      },
      "source": [
        "z = z + 3     \n",
        "z"
      ],
      "execution_count": 16,
      "outputs": [
        {
          "output_type": "execute_result",
          "data": {
            "text/plain": [
              "8"
            ]
          },
          "metadata": {
            "tags": []
          },
          "execution_count": 16
        }
      ]
    },
    {
      "cell_type": "code",
      "metadata": {
        "colab": {
          "base_uri": "https://localhost:8080/"
        },
        "id": "5TS9UFevLl1J",
        "outputId": "6851fea1-a631-440c-de6c-85ba20ce3d2f"
      },
      "source": [
        "z += 3\n",
        "z"
      ],
      "execution_count": 17,
      "outputs": [
        {
          "output_type": "execute_result",
          "data": {
            "text/plain": [
              "11"
            ]
          },
          "metadata": {
            "tags": []
          },
          "execution_count": 17
        }
      ]
    },
    {
      "cell_type": "markdown",
      "metadata": {
        "id": "TjrtoOqsLl1J"
      },
      "source": [
        "**Assignment 1: Solve Maths**\n",
        "**Construct the following equation and calculate the value the value of `y` using Python**"
      ]
    },
    {
      "cell_type": "markdown",
      "metadata": {
        "id": "M-kpmgKvNpBz"
      },
      "source": [
        "![math.PNG](data:image/png;base64,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)"
      ]
    },
    {
      "cell_type": "code",
      "metadata": {
        "id": "d5oupizpLl1J"
      },
      "source": [
        "## ADD CODE BELOW\n",
        "# ~ 1 line of code\n",
        "\n",
        "#y = 2(x**2) + (3*x) - 1 / (1-x)\n"
      ],
      "execution_count": 18,
      "outputs": []
    },
    {
      "cell_type": "markdown",
      "metadata": {
        "id": "aINoTz3CXJZC"
      },
      "source": [
        "**Strings**"
      ]
    },
    {
      "cell_type": "markdown",
      "metadata": {
        "id": "t326sXJsLl1K"
      },
      "source": [
        "**A string is usually a bit of text you want to display to someone, or \"export\" out of the program you are writing. Python knows you want something to be a string when you put either \" (double-quotes) or ' (single-quotes) around the text**"
      ]
    },
    {
      "cell_type": "code",
      "metadata": {
        "colab": {
          "base_uri": "https://localhost:8080/",
          "height": 35
        },
        "id": "OpmuomjJLl1K",
        "outputId": "14a64bce-821e-423a-bd48-2778b044954a"
      },
      "source": [
        "'single quotes'"
      ],
      "execution_count": 19,
      "outputs": [
        {
          "output_type": "execute_result",
          "data": {
            "application/vnd.google.colaboratory.intrinsic+json": {
              "type": "string"
            },
            "text/plain": [
              "'single quotes'"
            ]
          },
          "metadata": {
            "tags": []
          },
          "execution_count": 19
        }
      ]
    },
    {
      "cell_type": "code",
      "metadata": {
        "colab": {
          "base_uri": "https://localhost:8080/",
          "height": 35
        },
        "id": "6ge1w3dVLl1L",
        "outputId": "cc0d9ffa-cbbe-4a18-fec2-e2c4062f069f"
      },
      "source": [
        "\"double quotes\""
      ],
      "execution_count": 20,
      "outputs": [
        {
          "output_type": "execute_result",
          "data": {
            "application/vnd.google.colaboratory.intrinsic+json": {
              "type": "string"
            },
            "text/plain": [
              "'double quotes'"
            ]
          },
          "metadata": {
            "tags": []
          },
          "execution_count": 20
        }
      ]
    },
    {
      "cell_type": "markdown",
      "metadata": {
        "id": "gA146olVLl1L"
      },
      "source": [
        "And just like Integers you can save strings in varaibles and display them"
      ]
    },
    {
      "cell_type": "code",
      "metadata": {
        "colab": {
          "base_uri": "https://localhost:8080/",
          "height": 35
        },
        "id": "xo1FL1-NLl1L",
        "outputId": "9d535d08-9113-4ff4-a325-df0ff1584e72"
      },
      "source": [
        "my_string = 'hello world'\n",
        "my_string"
      ],
      "execution_count": 21,
      "outputs": [
        {
          "output_type": "execute_result",
          "data": {
            "application/vnd.google.colaboratory.intrinsic+json": {
              "type": "string"
            },
            "text/plain": [
              "'hello world'"
            ]
          },
          "metadata": {
            "tags": []
          },
          "execution_count": 21
        }
      ]
    },
    {
      "cell_type": "markdown",
      "metadata": {
        "id": "HiCj3i4GLl1M"
      },
      "source": [
        "**You can even add Strings**"
      ]
    },
    {
      "cell_type": "code",
      "metadata": {
        "colab": {
          "base_uri": "https://localhost:8080/",
          "height": 35
        },
        "id": "vSn2LCZJLl1M",
        "outputId": "121b541f-e268-4af7-ec14-424cf224f6dc"
      },
      "source": [
        "part_1 = 'Hello'\n",
        "part_2 = ' World'\n",
        "\n",
        "part_1 + part_2"
      ],
      "execution_count": 22,
      "outputs": [
        {
          "output_type": "execute_result",
          "data": {
            "application/vnd.google.colaboratory.intrinsic+json": {
              "type": "string"
            },
            "text/plain": [
              "'Hello World'"
            ]
          },
          "metadata": {
            "tags": []
          },
          "execution_count": 22
        }
      ]
    },
    {
      "cell_type": "markdown",
      "metadata": {
        "id": "ZxhsVkgdLl1M"
      },
      "source": [
        "**But Don't Try to add two differnt Data Types Together**"
      ]
    },
    {
      "cell_type": "code",
      "metadata": {
        "id": "KGBySRvULl1N",
        "colab": {
          "base_uri": "https://localhost:8080/",
          "height": 163
        },
        "outputId": "e99f13bc-71fc-47a1-fc2b-720b314b13ae"
      },
      "source": [
        "4 + '4'"
      ],
      "execution_count": 23,
      "outputs": [
        {
          "output_type": "error",
          "ename": "TypeError",
          "evalue": "ignored",
          "traceback": [
            "\u001b[0;31m---------------------------------------------------------------------------\u001b[0m",
            "\u001b[0;31mTypeError\u001b[0m                                 Traceback (most recent call last)",
            "\u001b[0;32m<ipython-input-23-ae36418677da>\u001b[0m in \u001b[0;36m<module>\u001b[0;34m()\u001b[0m\n\u001b[0;32m----> 1\u001b[0;31m \u001b[0;36m4\u001b[0m \u001b[0;34m+\u001b[0m \u001b[0;34m'4'\u001b[0m\u001b[0;34m\u001b[0m\u001b[0;34m\u001b[0m\u001b[0m\n\u001b[0m",
            "\u001b[0;31mTypeError\u001b[0m: unsupported operand type(s) for +: 'int' and 'str'"
          ]
        }
      ]
    },
    {
      "cell_type": "markdown",
      "metadata": {
        "id": "jVD5NJrOLl1O"
      },
      "source": [
        "#### When you are going to be using quotations as part of the string then you can use escape characters like `\\` to ignore them."
      ]
    },
    {
      "cell_type": "code",
      "metadata": {
        "colab": {
          "base_uri": "https://localhost:8080/",
          "height": 35
        },
        "id": "pPrEk4IxLl1P",
        "outputId": "0f981ad9-ee5c-4480-b3a1-c1fa74b015f3"
      },
      "source": [
        "'wrap lot\\'s of other quotes'   "
      ],
      "execution_count": 24,
      "outputs": [
        {
          "output_type": "execute_result",
          "data": {
            "application/vnd.google.colaboratory.intrinsic+json": {
              "type": "string"
            },
            "text/plain": [
              "\"wrap lot's of other quotes\""
            ]
          },
          "metadata": {
            "tags": []
          },
          "execution_count": 24
        }
      ]
    },
    {
      "cell_type": "markdown",
      "metadata": {
        "id": "mOYbR22gLl1P"
      },
      "source": [
        "Or you can wrap single quotes in double quotes"
      ]
    },
    {
      "cell_type": "code",
      "metadata": {
        "colab": {
          "base_uri": "https://localhost:8080/",
          "height": 35
        },
        "id": "_TYlkrydLl1P",
        "outputId": "b441c77c-d2d2-42e4-c0a5-49dd5b3e0d05"
      },
      "source": [
        "\"wrap lot's of other quotes\""
      ],
      "execution_count": 25,
      "outputs": [
        {
          "output_type": "execute_result",
          "data": {
            "application/vnd.google.colaboratory.intrinsic+json": {
              "type": "string"
            },
            "text/plain": [
              "\"wrap lot's of other quotes\""
            ]
          },
          "metadata": {
            "tags": []
          },
          "execution_count": 25
        }
      ]
    },
    {
      "cell_type": "markdown",
      "metadata": {
        "id": "-jySsmxZLl1Q"
      },
      "source": [
        "**Printing**"
      ]
    },
    {
      "cell_type": "code",
      "metadata": {
        "colab": {
          "base_uri": "https://localhost:8080/"
        },
        "id": "tgXzZecvLl1Q",
        "outputId": "f1225195-a32d-4656-b6d0-19ec8716915e"
      },
      "source": [
        "my_string = \"Hello world\"\n",
        "print(\"Hello world\")"
      ],
      "execution_count": 26,
      "outputs": [
        {
          "output_type": "stream",
          "text": [
            "Hello world\n"
          ],
          "name": "stdout"
        }
      ]
    },
    {
      "cell_type": "code",
      "metadata": {
        "colab": {
          "base_uri": "https://localhost:8080/",
          "height": 35
        },
        "id": "AeHMDvu6Ll1Q",
        "outputId": "6a649e07-0624-4552-a56b-dc70b605971f"
      },
      "source": [
        "my_string = \"Hello world\"\n",
        "my_string"
      ],
      "execution_count": 27,
      "outputs": [
        {
          "output_type": "execute_result",
          "data": {
            "application/vnd.google.colaboratory.intrinsic+json": {
              "type": "string"
            },
            "text/plain": [
              "'Hello world'"
            ]
          },
          "metadata": {
            "tags": []
          },
          "execution_count": 27
        }
      ]
    },
    {
      "cell_type": "code",
      "metadata": {
        "id": "GFNyrgSfLl1R"
      },
      "source": [
        "my_string = \"Hello world\"\n",
        "my_string\n",
        "x = 5"
      ],
      "execution_count": 28,
      "outputs": []
    },
    {
      "cell_type": "code",
      "metadata": {
        "colab": {
          "base_uri": "https://localhost:8080/"
        },
        "id": "3h--UX1ILl1R",
        "outputId": "641f3fa2-765a-4f44-8f81-c2b8bd8347bb"
      },
      "source": [
        "my_string = \"Hello world\"\n",
        "print(\"Hello world\")\n",
        "x = 5"
      ],
      "execution_count": 29,
      "outputs": [
        {
          "output_type": "stream",
          "text": [
            "Hello world\n"
          ],
          "name": "stdout"
        }
      ]
    },
    {
      "cell_type": "markdown",
      "metadata": {
        "id": "0_PpkXF4Ll1R"
      },
      "source": [
        "**String Formatting**"
      ]
    },
    {
      "cell_type": "code",
      "metadata": {
        "id": "pUjl0duULl1S"
      },
      "source": [
        "num = 12\n",
        "name = 'Sam'"
      ],
      "execution_count": 30,
      "outputs": []
    },
    {
      "cell_type": "markdown",
      "metadata": {
        "id": "zsAs_s1DLl1T"
      },
      "source": [
        "Method 1"
      ]
    },
    {
      "cell_type": "code",
      "metadata": {
        "colab": {
          "base_uri": "https://localhost:8080/"
        },
        "id": "7GLQT2KJLl1T",
        "outputId": "2f27b1e8-f443-4d46-b4e2-936ed2e37611"
      },
      "source": [
        "print('My age is: {one}, and my name is: {two}'.format(one=num,two=name))"
      ],
      "execution_count": 31,
      "outputs": [
        {
          "output_type": "stream",
          "text": [
            "My age is: 12, and my name is: Sam\n"
          ],
          "name": "stdout"
        }
      ]
    },
    {
      "cell_type": "markdown",
      "metadata": {
        "id": "UmFF3tBSLl1U"
      },
      "source": [
        "Method 2"
      ]
    },
    {
      "cell_type": "code",
      "metadata": {
        "colab": {
          "base_uri": "https://localhost:8080/"
        },
        "id": "W3LmRKyXLl1U",
        "outputId": "288627ce-ef04-4645-987d-45e7f9e7f162"
      },
      "source": [
        "print('My age is: {}, and my name is: {}'.format(num,name))"
      ],
      "execution_count": 32,
      "outputs": [
        {
          "output_type": "stream",
          "text": [
            "My age is: 12, and my name is: Sam\n"
          ],
          "name": "stdout"
        }
      ]
    },
    {
      "cell_type": "markdown",
      "metadata": {
        "id": "rRlCF0UHLl1U"
      },
      "source": [
        "Method 3"
      ]
    },
    {
      "cell_type": "code",
      "metadata": {
        "colab": {
          "base_uri": "https://localhost:8080/"
        },
        "id": "2SFdwC5pLl1U",
        "outputId": "8fdd8ed8-98b0-4e16-8c0e-c541b74b208e"
      },
      "source": [
        "print('My age is: ' + str(num) + ', and my name is: ' + name) "
      ],
      "execution_count": 33,
      "outputs": [
        {
          "output_type": "stream",
          "text": [
            "My age is: 12, and my name is: Sam\n"
          ],
          "name": "stdout"
        }
      ]
    },
    {
      "cell_type": "markdown",
      "metadata": {
        "id": "VO1CqMGSLl1V"
      },
      "source": [
        "Method 4"
      ]
    },
    {
      "cell_type": "code",
      "metadata": {
        "colab": {
          "base_uri": "https://localhost:8080/"
        },
        "id": "XYTVXiWrLl1V",
        "outputId": "e4c58aad-ddc7-4ce9-c5bf-d80a494294dc"
      },
      "source": [
        "and18 = '%s how are you %s %d' % ('hello', 'Android', 18)  # sprintf style string formatting\n",
        "print(and18)"
      ],
      "execution_count": 34,
      "outputs": [
        {
          "output_type": "stream",
          "text": [
            "hello how are you Android 18\n"
          ],
          "name": "stdout"
        }
      ]
    },
    {
      "cell_type": "code",
      "metadata": {
        "id": "PzRcXB3wQHNb"
      },
      "source": [
        "\n"
      ],
      "execution_count": null,
      "outputs": []
    }
  ]
}