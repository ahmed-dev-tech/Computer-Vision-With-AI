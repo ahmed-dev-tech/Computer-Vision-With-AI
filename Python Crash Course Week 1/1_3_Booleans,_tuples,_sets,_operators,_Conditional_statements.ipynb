{
  "nbformat": 4,
  "nbformat_minor": 0,
  "metadata": {
    "anaconda-cloud": {
      "environment": null,
      "summary": "Python Crash Course"
    },
    "kernelspec": {
      "display_name": "Python 3",
      "language": "python",
      "name": "python3"
    },
    "language_info": {
      "codemirror_mode": {
        "name": "ipython",
        "version": 3
      },
      "file_extension": ".py",
      "mimetype": "text/x-python",
      "name": "python",
      "nbconvert_exporter": "python",
      "pygments_lexer": "ipython3",
      "version": "3.7.3"
    },
    "colab": {
      "name": "1.3 Booleans, tuples, sets, operators, Conditional statements.ipynb",
      "provenance": []
    }
  },
  "cells": [
    {
      "cell_type": "markdown",
      "metadata": {
        "id": "tYVQADOjVCgH"
      },
      "source": [
        "# **Python Crash Course**\n"
      ]
    },
    {
      "cell_type": "markdown",
      "metadata": {
        "id": "W5wvdyikVCgO"
      },
      "source": [
        "**Booleans**"
      ]
    },
    {
      "cell_type": "markdown",
      "metadata": {
        "id": "ksKLOQsxVCgP"
      },
      "source": [
        "**True or False in Python. ... Boolean values are the two constant objects False and True. They are used to represent truth values**"
      ]
    },
    {
      "cell_type": "code",
      "metadata": {
        "id": "bJRX9qIuVCgP"
      },
      "source": [
        "Bachelor  = True"
      ],
      "execution_count": null,
      "outputs": []
    },
    {
      "cell_type": "code",
      "metadata": {
        "colab": {
          "base_uri": "https://localhost:8080/"
        },
        "id": "cPI6kmnSVCgQ",
        "outputId": "9588fdf3-4da6-42a2-d5ad-fb5aec5d8533"
      },
      "source": [
        "Bachelor"
      ],
      "execution_count": null,
      "outputs": [
        {
          "output_type": "execute_result",
          "data": {
            "text/plain": [
              "True"
            ]
          },
          "metadata": {
            "tags": []
          },
          "execution_count": 35
        }
      ]
    },
    {
      "cell_type": "markdown",
      "metadata": {
        "id": "BGxtrFRDVCgT"
      },
      "source": [
        "You can Compare Two Values to see if the statement or values on both sides are equal or not"
      ]
    },
    {
      "cell_type": "code",
      "metadata": {
        "colab": {
          "base_uri": "https://localhost:8080/"
        },
        "id": "PQ5nbrjtVCgT",
        "outputId": "d4681c25-c653-4062-ba9a-fc2ba545a688"
      },
      "source": [
        "5 == 3"
      ],
      "execution_count": null,
      "outputs": [
        {
          "output_type": "execute_result",
          "data": {
            "text/plain": [
              "False"
            ]
          },
          "metadata": {
            "tags": []
          },
          "execution_count": 36
        }
      ]
    },
    {
      "cell_type": "code",
      "metadata": {
        "colab": {
          "base_uri": "https://localhost:8080/"
        },
        "id": "P6v63JrSVCgU",
        "outputId": "d9329d2c-f595-4903-b72a-a229c203c14c"
      },
      "source": [
        "1 + 3 == 2 * 2 == 2 + 2"
      ],
      "execution_count": null,
      "outputs": [
        {
          "output_type": "execute_result",
          "data": {
            "text/plain": [
              "True"
            ]
          },
          "metadata": {
            "tags": []
          },
          "execution_count": 37
        }
      ]
    },
    {
      "cell_type": "code",
      "metadata": {
        "colab": {
          "base_uri": "https://localhost:8080/"
        },
        "id": "9Af0pN0HVCgV",
        "outputId": "dd033408-79f2-448d-ea48-c21ce1b2ef85"
      },
      "source": [
        "2.0 == 2     "
      ],
      "execution_count": null,
      "outputs": [
        {
          "output_type": "execute_result",
          "data": {
            "text/plain": [
              "True"
            ]
          },
          "metadata": {
            "tags": []
          },
          "execution_count": 38
        }
      ]
    },
    {
      "cell_type": "markdown",
      "metadata": {
        "id": "cQ0lf94yVCgV"
      },
      "source": [
        "Remeber to use a double  `=` sign for comparasion , a single `=` means assignment "
      ]
    },
    {
      "cell_type": "code",
      "metadata": {
        "id": "5TFXgaAEVCgW"
      },
      "source": [
        "name = 'Sam'"
      ],
      "execution_count": null,
      "outputs": []
    },
    {
      "cell_type": "code",
      "metadata": {
        "colab": {
          "base_uri": "https://localhost:8080/"
        },
        "id": "s8Rc_VhNVCgW",
        "outputId": "72f67aa1-0fbc-4a79-8e36-62b59caba2bd"
      },
      "source": [
        "name == 'Sam'"
      ],
      "execution_count": null,
      "outputs": [
        {
          "output_type": "execute_result",
          "data": {
            "text/plain": [
              "True"
            ]
          },
          "metadata": {
            "tags": []
          },
          "execution_count": 40
        }
      ]
    },
    {
      "cell_type": "markdown",
      "metadata": {
        "id": "F1wzF4WYVCgX"
      },
      "source": [
        "Remeber Captial Alphabets are not equal to normal ones"
      ]
    },
    {
      "cell_type": "code",
      "metadata": {
        "colab": {
          "base_uri": "https://localhost:8080/"
        },
        "id": "mqKR-I0DVCgX",
        "outputId": "b23f9bac-2fa9-48a1-db0c-436fcd3eb4e4"
      },
      "source": [
        "\"Sam\" == \"sAm\"    "
      ],
      "execution_count": null,
      "outputs": [
        {
          "output_type": "execute_result",
          "data": {
            "text/plain": [
              "False"
            ]
          },
          "metadata": {
            "tags": []
          },
          "execution_count": 41
        }
      ]
    },
    {
      "cell_type": "markdown",
      "metadata": {
        "id": "Ir97d8LoVCgY"
      },
      "source": [
        "**Tuples**"
      ]
    },
    {
      "cell_type": "markdown",
      "metadata": {
        "id": "ZRGu42bZVCgZ"
      },
      "source": [
        "**A tuple is a sequence of immutable (Non-changable or fixed) Python objects. Tuples are sequences, just like lists. The differences between tuples and lists are, the tuples cannot be changed unlike lists and tuples use parentheses, whereas lists use square brackets. Creating a tuple is as simple as putting different comma-separated values.**"
      ]
    },
    {
      "cell_type": "code",
      "metadata": {
        "id": "baB7TB51VCgZ"
      },
      "source": [
        "t = (1,2,3)"
      ],
      "execution_count": null,
      "outputs": []
    },
    {
      "cell_type": "code",
      "metadata": {
        "colab": {
          "base_uri": "https://localhost:8080/"
        },
        "id": "Ut2ihMdrVCga",
        "outputId": "ded2ca6d-e65b-463a-c61c-e7ffa9b01dcb"
      },
      "source": [
        "t[0]"
      ],
      "execution_count": null,
      "outputs": [
        {
          "output_type": "execute_result",
          "data": {
            "text/plain": [
              "1"
            ]
          },
          "metadata": {
            "tags": []
          },
          "execution_count": 43
        }
      ]
    },
    {
      "cell_type": "markdown",
      "metadata": {
        "id": "na9zR4fGVCga"
      },
      "source": [
        "You cannot assign values to a tuple nor you can append it"
      ]
    },
    {
      "cell_type": "code",
      "metadata": {
        "colab": {
          "base_uri": "https://localhost:8080/",
          "height": 163
        },
        "id": "tLT-L_jZVCgb",
        "outputId": "e394b589-9bf9-4130-d449-40661d3fa67d"
      },
      "source": [
        "t[0] = 'NEW'"
      ],
      "execution_count": null,
      "outputs": [
        {
          "output_type": "error",
          "ename": "TypeError",
          "evalue": "ignored",
          "traceback": [
            "\u001b[0;31m---------------------------------------------------------------------------\u001b[0m",
            "\u001b[0;31mTypeError\u001b[0m                                 Traceback (most recent call last)",
            "\u001b[0;32m<ipython-input-44-93bfe9be1549>\u001b[0m in \u001b[0;36m<module>\u001b[0;34m()\u001b[0m\n\u001b[0;32m----> 1\u001b[0;31m \u001b[0mt\u001b[0m\u001b[0;34m[\u001b[0m\u001b[0;36m0\u001b[0m\u001b[0;34m]\u001b[0m \u001b[0;34m=\u001b[0m \u001b[0;34m'NEW'\u001b[0m\u001b[0;34m\u001b[0m\u001b[0;34m\u001b[0m\u001b[0m\n\u001b[0m",
            "\u001b[0;31mTypeError\u001b[0m: 'tuple' object does not support item assignment"
          ]
        }
      ]
    },
    {
      "cell_type": "markdown",
      "metadata": {
        "id": "mew48mkSVCgb"
      },
      "source": [
        "Otherwise its pretty much same as a list"
      ]
    },
    {
      "cell_type": "code",
      "metadata": {
        "colab": {
          "base_uri": "https://localhost:8080/"
        },
        "id": "-HcUyPU-VCgc",
        "outputId": "38801dad-2b6a-46c3-a4ad-7fd7bd66d504"
      },
      "source": [
        "t1 = ('ali','ahmed','ammar')\n",
        "t1"
      ],
      "execution_count": null,
      "outputs": [
        {
          "output_type": "execute_result",
          "data": {
            "text/plain": [
              "('ali', 'ahmed', 'ammar')"
            ]
          },
          "metadata": {
            "tags": []
          },
          "execution_count": 45
        }
      ]
    },
    {
      "cell_type": "code",
      "metadata": {
        "id": "wLl2L5r_VCgd"
      },
      "source": [
        "t2 = (\"Ali\",'Ammar',1)     "
      ],
      "execution_count": null,
      "outputs": []
    },
    {
      "cell_type": "markdown",
      "metadata": {
        "id": "RPgzrooYVCgd"
      },
      "source": [
        "Sets"
      ]
    },
    {
      "cell_type": "markdown",
      "metadata": {
        "id": "lP6ct_tNVCge"
      },
      "source": [
        "**A Set is an unordered collection data type that is iterable, mutable, and has no duplicate elements**"
      ]
    },
    {
      "cell_type": "markdown",
      "metadata": {
        "id": "4xJunG6MVCge"
      },
      "source": [
        "You can include elements of Different Datatypes"
      ]
    },
    {
      "cell_type": "code",
      "metadata": {
        "colab": {
          "base_uri": "https://localhost:8080/"
        },
        "id": "aUrhxmw8VCge",
        "outputId": "cfce30d8-e59a-4da6-a957-b661bdd82cf4"
      },
      "source": [
        "s1= {1,2,4,3,\"h\"}          #collection of different data type, always print in order wise\n",
        "s1"
      ],
      "execution_count": null,
      "outputs": [
        {
          "output_type": "execute_result",
          "data": {
            "text/plain": [
              "{1, 2, 3, 4, 'h'}"
            ]
          },
          "metadata": {
            "tags": []
          },
          "execution_count": 47
        }
      ]
    },
    {
      "cell_type": "markdown",
      "metadata": {
        "id": "H8TwGFrQVCgf"
      },
      "source": [
        "No Duplicates, And Numbers are in Order"
      ]
    },
    {
      "cell_type": "code",
      "metadata": {
        "colab": {
          "base_uri": "https://localhost:8080/"
        },
        "id": "I17vZoPpVCgf",
        "outputId": "78a6805b-d0de-4546-f512-c40534062d89"
      },
      "source": [
        "{1,2,3,1,2,1,2,3,3,3,3,2,2,2,1,1,2}  # unique elemnents are included only"
      ],
      "execution_count": null,
      "outputs": [
        {
          "output_type": "execute_result",
          "data": {
            "text/plain": [
              "{1, 2, 3}"
            ]
          },
          "metadata": {
            "tags": []
          },
          "execution_count": 48
        }
      ]
    },
    {
      "cell_type": "markdown",
      "metadata": {
        "id": "1Va6ctYiVCgg"
      },
      "source": [
        "You add new Elements like this"
      ]
    },
    {
      "cell_type": "code",
      "metadata": {
        "colab": {
          "base_uri": "https://localhost:8080/"
        },
        "id": "cCiAwOAwVCgg",
        "outputId": "ea558cd3-33be-404f-c448-5cedaf25acc8"
      },
      "source": [
        "s1.add(6)        \n",
        "s1"
      ],
      "execution_count": null,
      "outputs": [
        {
          "output_type": "execute_result",
          "data": {
            "text/plain": [
              "{1, 2, 3, 4, 6, 'h'}"
            ]
          },
          "metadata": {
            "tags": []
          },
          "execution_count": 49
        }
      ]
    },
    {
      "cell_type": "markdown",
      "metadata": {
        "id": "fkkySmprVCgh"
      },
      "source": [
        "Comparison Operator"
      ]
    },
    {
      "cell_type": "markdown",
      "metadata": {
        "id": "9JCtap_TVCgi"
      },
      "source": [
        "**A comparison operator in python, also called python relational operator, compares the values of two operands and returns True or False based on whether the condition is met**"
      ]
    },
    {
      "cell_type": "code",
      "metadata": {
        "colab": {
          "base_uri": "https://localhost:8080/"
        },
        "id": "ffCI8CXzVCgi",
        "outputId": "cb661145-a03f-412a-acfe-3cb12f5cbd68"
      },
      "source": [
        "1 > 2      #greater than"
      ],
      "execution_count": null,
      "outputs": [
        {
          "output_type": "execute_result",
          "data": {
            "text/plain": [
              "False"
            ]
          },
          "metadata": {
            "tags": []
          },
          "execution_count": 50
        }
      ]
    },
    {
      "cell_type": "code",
      "metadata": {
        "colab": {
          "base_uri": "https://localhost:8080/"
        },
        "id": "eTJ18-WFVCgj",
        "outputId": "3ee6669a-fdce-4d1d-d428-d297809bd514"
      },
      "source": [
        "1 < 2     # less than"
      ],
      "execution_count": null,
      "outputs": [
        {
          "output_type": "execute_result",
          "data": {
            "text/plain": [
              "True"
            ]
          },
          "metadata": {
            "tags": []
          },
          "execution_count": 51
        }
      ]
    },
    {
      "cell_type": "code",
      "metadata": {
        "colab": {
          "base_uri": "https://localhost:8080/"
        },
        "id": "_FCow-cIVCgk",
        "outputId": "00ed8a1d-a5c4-4a91-8ba5-10b8f6d00396"
      },
      "source": [
        "1 == 1    #equal to"
      ],
      "execution_count": null,
      "outputs": [
        {
          "output_type": "execute_result",
          "data": {
            "text/plain": [
              "True"
            ]
          },
          "metadata": {
            "tags": []
          },
          "execution_count": 52
        }
      ]
    },
    {
      "cell_type": "code",
      "metadata": {
        "colab": {
          "base_uri": "https://localhost:8080/"
        },
        "id": "rWLNoyeXVCgk",
        "outputId": "aa5de879-ee7d-43a7-b33f-c05b8127d301"
      },
      "source": [
        "1 >= 1    #greater than or equal to"
      ],
      "execution_count": null,
      "outputs": [
        {
          "output_type": "execute_result",
          "data": {
            "text/plain": [
              "True"
            ]
          },
          "metadata": {
            "tags": []
          },
          "execution_count": 53
        }
      ]
    },
    {
      "cell_type": "code",
      "metadata": {
        "colab": {
          "base_uri": "https://localhost:8080/"
        },
        "id": "askc0lTJVCgl",
        "outputId": "dfa0aa7b-6279-4958-9bef-cac3f60e8fea"
      },
      "source": [
        "1 <= 4    # less than or equal to"
      ],
      "execution_count": null,
      "outputs": [
        {
          "output_type": "execute_result",
          "data": {
            "text/plain": [
              "True"
            ]
          },
          "metadata": {
            "tags": []
          },
          "execution_count": 54
        }
      ]
    },
    {
      "cell_type": "code",
      "metadata": {
        "colab": {
          "base_uri": "https://localhost:8080/"
        },
        "id": "Q1bYNltPVCgm",
        "outputId": "5f6aeac5-6c8d-4480-d9ec-ba33126a7e05"
      },
      "source": [
        "'Win' == 'win'"
      ],
      "execution_count": null,
      "outputs": [
        {
          "output_type": "execute_result",
          "data": {
            "text/plain": [
              "False"
            ]
          },
          "metadata": {
            "tags": []
          },
          "execution_count": 55
        }
      ]
    },
    {
      "cell_type": "code",
      "metadata": {
        "colab": {
          "base_uri": "https://localhost:8080/"
        },
        "id": "IsXG3GMZVCgn",
        "outputId": "ee3f8daf-607d-48a5-e63d-6fb56068df52"
      },
      "source": [
        "'Win' != \"win\"     #not equals to"
      ],
      "execution_count": null,
      "outputs": [
        {
          "output_type": "execute_result",
          "data": {
            "text/plain": [
              "True"
            ]
          },
          "metadata": {
            "tags": []
          },
          "execution_count": 56
        }
      ]
    },
    {
      "cell_type": "markdown",
      "metadata": {
        "id": "5ilDQVnIVCgn"
      },
      "source": [
        "Logic Operators "
      ]
    },
    {
      "cell_type": "markdown",
      "metadata": {
        "id": "v9bFLMrMVCgo"
      },
      "source": [
        "**The logical operators in Python are used to combine the true or false values of variables (or expressions) so you can figure out their resultant truth value. Three logical operators are available in Python:**"
      ]
    },
    {
      "cell_type": "markdown",
      "metadata": {
        "id": "5yHmpyJIVCgo"
      },
      "source": [
        "The And Operator"
      ]
    },
    {
      "cell_type": "code",
      "metadata": {
        "colab": {
          "base_uri": "https://localhost:8080/"
        },
        "id": "pXYp6KXGVCgp",
        "outputId": "53fe8959-05a8-4824-d4c9-73c1c441879f"
      },
      "source": [
        "(1 < 2)"
      ],
      "execution_count": null,
      "outputs": [
        {
          "output_type": "execute_result",
          "data": {
            "text/plain": [
              "True"
            ]
          },
          "metadata": {
            "tags": []
          },
          "execution_count": 57
        }
      ]
    },
    {
      "cell_type": "code",
      "metadata": {
        "colab": {
          "base_uri": "https://localhost:8080/"
        },
        "id": "JFDPGnvjVCgp",
        "outputId": "5aab3016-aa4c-4354-eb86-58c7d1d8b6a7"
      },
      "source": [
        "(1 < 2) and (2 > 3)        #AND"
      ],
      "execution_count": null,
      "outputs": [
        {
          "output_type": "execute_result",
          "data": {
            "text/plain": [
              "False"
            ]
          },
          "metadata": {
            "tags": []
          },
          "execution_count": 58
        }
      ]
    },
    {
      "cell_type": "code",
      "metadata": {
        "colab": {
          "base_uri": "https://localhost:8080/"
        },
        "id": "QNKyf2WdVCgq",
        "outputId": "e74570c4-d071-46f0-949a-b5064d6d983a"
      },
      "source": [
        "5 == 5 and 0 < 3"
      ],
      "execution_count": null,
      "outputs": [
        {
          "output_type": "execute_result",
          "data": {
            "text/plain": [
              "True"
            ]
          },
          "metadata": {
            "tags": []
          },
          "execution_count": 59
        }
      ]
    },
    {
      "cell_type": "markdown",
      "metadata": {
        "id": "GM6hj3vrVCgq"
      },
      "source": [
        "The Or Operator"
      ]
    },
    {
      "cell_type": "code",
      "metadata": {
        "colab": {
          "base_uri": "https://localhost:8080/"
        },
        "id": "D6YSHiX-VCgq",
        "outputId": "429994dc-d22e-4a50-8246-c15600e56d02"
      },
      "source": [
        "(1 > 2) or (2 < 3)          # OR"
      ],
      "execution_count": null,
      "outputs": [
        {
          "output_type": "execute_result",
          "data": {
            "text/plain": [
              "True"
            ]
          },
          "metadata": {
            "tags": []
          },
          "execution_count": 60
        }
      ]
    },
    {
      "cell_type": "code",
      "metadata": {
        "colab": {
          "base_uri": "https://localhost:8080/"
        },
        "id": "qq5BlAtgVCgt",
        "outputId": "2b9eed0e-b25a-4450-d6cf-060ca3790fec"
      },
      "source": [
        "20 + 3 >= 23 or 5 != 5"
      ],
      "execution_count": null,
      "outputs": [
        {
          "output_type": "execute_result",
          "data": {
            "text/plain": [
              "True"
            ]
          },
          "metadata": {
            "tags": []
          },
          "execution_count": 61
        }
      ]
    },
    {
      "cell_type": "code",
      "metadata": {
        "colab": {
          "base_uri": "https://localhost:8080/"
        },
        "id": "F7KU2-mRVCgu",
        "outputId": "e4c50452-f845-4738-91b8-1dbe436e7181"
      },
      "source": [
        "(1 == 2) or (2 == 3) or (4 == 4)"
      ],
      "execution_count": null,
      "outputs": [
        {
          "output_type": "execute_result",
          "data": {
            "text/plain": [
              "True"
            ]
          },
          "metadata": {
            "tags": []
          },
          "execution_count": 62
        }
      ]
    },
    {
      "cell_type": "markdown",
      "metadata": {
        "id": "sxC1tcFNVCgu"
      },
      "source": [
        "The Not Operator"
      ]
    },
    {
      "cell_type": "code",
      "metadata": {
        "colab": {
          "base_uri": "https://localhost:8080/"
        },
        "id": "7F0KmHXkVCgv",
        "outputId": "5a80f0f1-b89c-44a9-a197-6995319eb999"
      },
      "source": [
        "not True           #NOT"
      ],
      "execution_count": null,
      "outputs": [
        {
          "output_type": "execute_result",
          "data": {
            "text/plain": [
              "False"
            ]
          },
          "metadata": {
            "tags": []
          },
          "execution_count": 63
        }
      ]
    },
    {
      "cell_type": "code",
      "metadata": {
        "colab": {
          "base_uri": "https://localhost:8080/"
        },
        "id": "PeFfRUrYVCgv",
        "outputId": "74581042-7153-412f-edec-3d60c9269f93"
      },
      "source": [
        "not 5 > 3"
      ],
      "execution_count": null,
      "outputs": [
        {
          "output_type": "execute_result",
          "data": {
            "text/plain": [
              "False"
            ]
          },
          "metadata": {
            "tags": []
          },
          "execution_count": 64
        }
      ]
    },
    {
      "cell_type": "code",
      "metadata": {
        "colab": {
          "base_uri": "https://localhost:8080/"
        },
        "id": "KUMieeW7VCgw",
        "outputId": "70e640b1-83b3-47e9-e3be-90ef7a39727a"
      },
      "source": [
        "not (5 < 3 and 5 < 33)"
      ],
      "execution_count": null,
      "outputs": [
        {
          "output_type": "execute_result",
          "data": {
            "text/plain": [
              "True"
            ]
          },
          "metadata": {
            "tags": []
          },
          "execution_count": 65
        }
      ]
    },
    {
      "cell_type": "code",
      "metadata": {
        "colab": {
          "base_uri": "https://localhost:8080/"
        },
        "id": "0XncMjFYVCgw",
        "outputId": "ce76c45b-01a4-4821-c76c-8056c3e4da0a"
      },
      "source": [
        "not (5 < 6 or 5 < 3 and 5 < 33)"
      ],
      "execution_count": null,
      "outputs": [
        {
          "output_type": "execute_result",
          "data": {
            "text/plain": [
              "False"
            ]
          },
          "metadata": {
            "tags": []
          },
          "execution_count": 66
        }
      ]
    },
    {
      "cell_type": "markdown",
      "metadata": {
        "id": "pIHY3XOgVCgx"
      },
      "source": [
        "**Conditional Statements**\n",
        "**if,elif, else Statements**"
      ]
    },
    {
      "cell_type": "markdown",
      "metadata": {
        "id": "oeYMBRGzVCgx"
      },
      "source": [
        "**Decision making is required when we want to execute a code only if a certain condition is satisfied. <br>\n",
        "<i> The if…elif…else statement is used in Python for decision making.</i>**"
      ]
    },
    {
      "cell_type": "markdown",
      "metadata": {
        "id": "kGmZg96EVCgy"
      },
      "source": [
        "To use an if statement you write if then pass in a condition followed by a colon, the condition part comes in the next line after indentation (space). "
      ]
    },
    {
      "cell_type": "code",
      "metadata": {
        "colab": {
          "base_uri": "https://localhost:8080/"
        },
        "id": "ZIVZqxCgVCgy",
        "outputId": "ab3faaf2-d7f9-4cd7-fa08-546e073bc907"
      },
      "source": [
        "age = 12\n",
        "\n",
        "if age < 14:\n",
        "    print(\"sorry you're too young for this ride\")    "
      ],
      "execution_count": null,
      "outputs": [
        {
          "output_type": "stream",
          "text": [
            "sorry you're too young for this ride\n"
          ],
          "name": "stdout"
        }
      ]
    },
    {
      "cell_type": "markdown",
      "metadata": {
        "id": "rp0ACJguVCg0"
      },
      "source": [
        "Notice only the indented part is actually inside the if condition "
      ]
    },
    {
      "cell_type": "code",
      "metadata": {
        "colab": {
          "base_uri": "https://localhost:8080/"
        },
        "id": "qjv2Vd5WVCg1",
        "outputId": "56c98ccf-3e24-444e-f34b-b3543a1f048d"
      },
      "source": [
        "age = 14\n",
        "\n",
        "if age < 14:\n",
        "    print(\"sorry you're too young for this ride\")    \n",
        "\n",
        "print('Always print')"
      ],
      "execution_count": null,
      "outputs": [
        {
          "output_type": "stream",
          "text": [
            "Always print\n"
          ],
          "name": "stdout"
        }
      ]
    },
    {
      "cell_type": "markdown",
      "metadata": {
        "id": "SV9QWTs4VCg1"
      },
      "source": [
        "Similarly you can also add an else condition like below"
      ]
    },
    {
      "cell_type": "code",
      "metadata": {
        "colab": {
          "base_uri": "https://localhost:8080/"
        },
        "id": "NxjCXSCtVCg2",
        "outputId": "73da3031-5032-4354-853b-5b8d999b25ec"
      },
      "source": [
        "Memeber_of_club = False\n",
        "\n",
        "if Memeber_of_club == True:\n",
        "    print('Welcome')\n",
        "else:\n",
        "    print('Sorry You are not allowed here')"
      ],
      "execution_count": null,
      "outputs": [
        {
          "output_type": "stream",
          "text": [
            "Sorry You are not allowed here\n"
          ],
          "name": "stdout"
        }
      ]
    },
    {
      "cell_type": "markdown",
      "metadata": {
        "id": "vq3-1C0VVCg3"
      },
      "source": [
        "<b>Note: </b> Bollean Conditions like above can also be checked like this: `if condition:` <br>\n",
        "<i>No Need to do `== True` </i>"
      ]
    },
    {
      "cell_type": "code",
      "metadata": {
        "colab": {
          "base_uri": "https://localhost:8080/"
        },
        "id": "7VgeefakVCg3",
        "outputId": "e9cbff30-836c-43c4-b023-792400d6759b"
      },
      "source": [
        "Memeber_of_club = True\n",
        "if Memeber_of_club:\n",
        "    print('Welcome')"
      ],
      "execution_count": null,
      "outputs": [
        {
          "output_type": "stream",
          "text": [
            "Welcome\n"
          ],
          "name": "stdout"
        }
      ]
    },
    {
      "cell_type": "markdown",
      "metadata": {
        "id": "818TZh1ZVCg3"
      },
      "source": [
        "In Other Programming Languages there is an `else if`  check for multiple conditions, just like that python also has an else if but its called `elif` in python 3."
      ]
    },
    {
      "cell_type": "code",
      "metadata": {
        "colab": {
          "base_uri": "https://localhost:8080/"
        },
        "id": "W0EXFqZBVCg3",
        "outputId": "fb321fb3-6670-4511-94bc-242195176252"
      },
      "source": [
        "status = 'bad'\n",
        "\n",
        "if status == 'good':\n",
        "    print('He did pretty well')\n",
        "elif status == 'bad':\n",
        "    print('He really messed up')\n",
        "else:\n",
        "    print('I dont know how he did')"
      ],
      "execution_count": null,
      "outputs": [
        {
          "output_type": "stream",
          "text": [
            "He really messed up\n"
          ],
          "name": "stdout"
        }
      ]
    },
    {
      "cell_type": "markdown",
      "metadata": {
        "id": "R3sc30bJVCg4"
      },
      "source": [
        "### Now look at this automatic datatype finder, which spits out the datatype of the entered value"
      ]
    },
    {
      "cell_type": "code",
      "metadata": {
        "colab": {
          "base_uri": "https://localhost:8080/"
        },
        "id": "kAKkvQE2VCg4",
        "outputId": "c6302120-9930-49bb-dfb8-79d6d78da9d5"
      },
      "source": [
        "var1 = input(\"Enter anything\")\n",
        "var1 = eval(var1)\n",
        "\n",
        "if (type(var1) == int):\n",
        "    print(\"Type of the variable is Integer\")\n",
        "elif (type(var1) == float):\n",
        "    print(\"Type of the variable is Float\")\n",
        "elif (type(var1) == complex):\n",
        "    print(\"Type of the variable is Complex\")\n",
        "elif (type(var1) == bool):\n",
        "    print(\"Type of the variable is Bool\")\n",
        "elif (type(var1) == str):\n",
        "    print(\"Type of the variable is String\")\n",
        "elif (type(var1) == tuple):\n",
        "    print(\"Type of the variable is Tuple\")\n",
        "elif (type(var1) == dict):\n",
        "    print(\"Type of the variable is Dictionaries\")\n",
        "elif (type(var1) == list):\n",
        "    print(\"Type of the variable is List\")\n",
        "else:\n",
        "    print(\"Type of the variable is Unknown\")"
      ],
      "execution_count": null,
      "outputs": [
        {
          "output_type": "stream",
          "text": [
            "Enter anything[1]\n",
            "Type of the variable is List\n"
          ],
          "name": "stdout"
        }
      ]
    },
    {
      "cell_type": "markdown",
      "metadata": {
        "id": "HzLZvZDvVCg5"
      },
      "source": [
        "## **Assignment 3:  Make an Auto Grader**\n",
        "So your task is to make an auto grader which will be a program that asks user their percentage and based on the percentage prints their Grade i.e. A+, A, B, C, and F. The threshold of the grades can be decided by you for e.g you can choose to give A+ over 90 or 90+ <br>\n",
        "The code will be pretty similar to the above code"
      ]
    },
    {
      "cell_type": "code",
      "metadata": {
        "colab": {
          "base_uri": "https://localhost:8080/"
        },
        "id": "TH0GezSRVCg5",
        "outputId": "86c3ec9d-677e-4408-8d86-52222030c2ac"
      },
      "source": [
        "#ADD CODE HERE\n",
        "percentage = int(input(\"what is your percentage \"))\n",
        "\n",
        "if percentage >= 90:\n",
        "  print(\"A+\")\n",
        "elif percentage >= 80 & percentage < 90:\n",
        "  print(\"A\")\n",
        "elif percentage >= 70 & percentage < 80:\n",
        "  print(\"B\")\n",
        "elif percentage >= 60 & percentage < 70:\n",
        "  print(\"C\")\n",
        "else :\n",
        "  print(\"F\")\n"
      ],
      "execution_count": null,
      "outputs": [
        {
          "output_type": "stream",
          "text": [
            "what is your percentage 85\n",
            "A\n"
          ],
          "name": "stdout"
        }
      ]
    },
    {
      "cell_type": "code",
      "metadata": {
        "id": "FckE_61AxL2b"
      },
      "source": [
        ""
      ],
      "execution_count": null,
      "outputs": []
    }
  ]
}