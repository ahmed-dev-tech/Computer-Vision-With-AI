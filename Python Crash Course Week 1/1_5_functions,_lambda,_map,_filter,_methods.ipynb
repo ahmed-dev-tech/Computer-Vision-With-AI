{
  "nbformat": 4,
  "nbformat_minor": 0,
  "metadata": {
    "anaconda-cloud": {
      "environment": null,
      "summary": "Python Crash Course"
    },
    "kernelspec": {
      "display_name": "Python 3",
      "language": "python",
      "name": "python3"
    },
    "language_info": {
      "codemirror_mode": {
        "name": "ipython",
        "version": 3
      },
      "file_extension": ".py",
      "mimetype": "text/x-python",
      "name": "python",
      "nbconvert_exporter": "python",
      "pygments_lexer": "ipython3",
      "version": "3.7.4"
    },
    "colab": {
      "name": "1.5 functions, lambda, map, filter, methods.ipynb",
      "provenance": []
    }
  },
  "cells": [
    {
      "cell_type": "markdown",
      "metadata": {
        "id": "EELP9w4BJXc4"
      },
      "source": [
        "# **Python Crash Course**\n"
      ]
    },
    {
      "cell_type": "markdown",
      "metadata": {
        "id": "ps6oz_YBJXc8"
      },
      "source": [
        "### **Creating Functions**"
      ]
    },
    {
      "cell_type": "markdown",
      "metadata": {
        "id": "UatYaRnCJXc9"
      },
      "source": [
        "Function is block of code that is also called by its name. <br>\n",
        " The function can have different parameters or may not have any at all. If any data (parameters) are passed, they are passed explicitly. <br>\n",
        "It may or may not return any data. <br>\n",
        "Function does not deal with Class and its instance concept."
      ]
    },
    {
      "cell_type": "markdown",
      "metadata": {
        "id": "Yk__phJXJXc-"
      },
      "source": [
        "**A simple Function that prints `hello there`**"
      ]
    },
    {
      "cell_type": "code",
      "metadata": {
        "id": "PUJz1uwNJXc-"
      },
      "source": [
        "def hello():\n",
        "    print('hello there')"
      ],
      "execution_count": null,
      "outputs": []
    },
    {
      "cell_type": "markdown",
      "metadata": {
        "id": "I4Yr8-yRJXc_"
      },
      "source": [
        "Now that I've created the function above I have to call it to use it"
      ]
    },
    {
      "cell_type": "code",
      "metadata": {
        "colab": {
          "base_uri": "https://localhost:8080/"
        },
        "id": "0Wx-nf3jJXdA",
        "outputId": "85034039-5ab2-409a-d37f-1cdb40419354"
      },
      "source": [
        "hello()"
      ],
      "execution_count": null,
      "outputs": [
        {
          "output_type": "stream",
          "text": [
            "hello there\n"
          ],
          "name": "stdout"
        }
      ]
    },
    {
      "cell_type": "markdown",
      "metadata": {
        "id": "FyobikQuJXdB"
      },
      "source": [
        "Now This time lets create another function and this time it will write hello with the name of the person we pass <br>\n",
        "Since we want this function to be dynamic and adapt to any name , we will pass the name as a parameter"
      ]
    },
    {
      "cell_type": "code",
      "metadata": {
        "id": "Rgxl_KEhJXdC"
      },
      "source": [
        "def hello2(name):\n",
        "    print(\"hello {} how are you\".format(name))"
      ],
      "execution_count": null,
      "outputs": []
    },
    {
      "cell_type": "markdown",
      "metadata": {
        "id": "7OWpoZoaJXdD"
      },
      "source": [
        "Now lets use the above function with different names"
      ]
    },
    {
      "cell_type": "code",
      "metadata": {
        "colab": {
          "base_uri": "https://localhost:8080/"
        },
        "id": "UXBlGeOvJXdD",
        "outputId": "5e268d3f-cec5-47c0-95e2-4cce0b4da10c"
      },
      "source": [
        "hello2('Taha')"
      ],
      "execution_count": null,
      "outputs": [
        {
          "output_type": "stream",
          "text": [
            "hello Taha how are you\n"
          ],
          "name": "stdout"
        }
      ]
    },
    {
      "cell_type": "code",
      "metadata": {
        "colab": {
          "base_uri": "https://localhost:8080/"
        },
        "id": "BbSgPF7cJXdE",
        "outputId": "6363a221-1368-443f-c9ce-04c34f9f8ac3"
      },
      "source": [
        "hello2(\"Mustafa\")"
      ],
      "execution_count": null,
      "outputs": [
        {
          "output_type": "stream",
          "text": [
            "hello Mustafa how are you\n"
          ],
          "name": "stdout"
        }
      ]
    },
    {
      "cell_type": "code",
      "metadata": {
        "colab": {
          "base_uri": "https://localhost:8080/",
          "height": 163
        },
        "id": "B_eifz_dJXdE",
        "outputId": "3a4e77c2-eb68-4ac9-b40e-d16a0e29d1e5"
      },
      "source": [
        "hello2()"
      ],
      "execution_count": null,
      "outputs": [
        {
          "output_type": "error",
          "ename": "TypeError",
          "evalue": "ignored",
          "traceback": [
            "\u001b[0;31m---------------------------------------------------------------------------\u001b[0m",
            "\u001b[0;31mTypeError\u001b[0m                                 Traceback (most recent call last)",
            "\u001b[0;32m<ipython-input-6-be96a2e6ee90>\u001b[0m in \u001b[0;36m<module>\u001b[0;34m()\u001b[0m\n\u001b[0;32m----> 1\u001b[0;31m \u001b[0mhello2\u001b[0m\u001b[0;34m(\u001b[0m\u001b[0;34m)\u001b[0m\u001b[0;34m\u001b[0m\u001b[0;34m\u001b[0m\u001b[0m\n\u001b[0m",
            "\u001b[0;31mTypeError\u001b[0m: hello2() missing 1 required positional argument: 'name'"
          ]
        }
      ]
    },
    {
      "cell_type": "markdown",
      "metadata": {
        "id": "u8F7WhZsJXdE"
      },
      "source": [
        "Right now , if you don't pass a param in the above function then it will give an error , so lets put a default param so the function always have a value to display"
      ]
    },
    {
      "cell_type": "code",
      "metadata": {
        "id": "dcQENGDdJXdF"
      },
      "source": [
        "def hello3(name='there,'):\n",
        "    print(\"hello {} how are you\".format(name))"
      ],
      "execution_count": null,
      "outputs": []
    },
    {
      "cell_type": "code",
      "metadata": {
        "colab": {
          "base_uri": "https://localhost:8080/"
        },
        "id": "yvptFDbAJXdH",
        "outputId": "df91d921-bb5f-4e2f-bb8e-a9050017af9b"
      },
      "source": [
        "hello3('Taha')"
      ],
      "execution_count": null,
      "outputs": [
        {
          "output_type": "stream",
          "text": [
            "hello Taha how are you\n"
          ],
          "name": "stdout"
        }
      ]
    },
    {
      "cell_type": "code",
      "metadata": {
        "colab": {
          "base_uri": "https://localhost:8080/"
        },
        "id": "g84WrchKJXdH",
        "outputId": "c5b13dd8-caef-44d6-9048-f7a822e3263a"
      },
      "source": [
        "hello3()"
      ],
      "execution_count": null,
      "outputs": [
        {
          "output_type": "stream",
          "text": [
            "hello there, how are you\n"
          ],
          "name": "stdout"
        }
      ]
    },
    {
      "cell_type": "markdown",
      "metadata": {
        "id": "dyHBhslTJXdI"
      },
      "source": [
        "Now lets make a function return a value , for that we will need to use the `return` keyword <br>\n",
        "below is simple function which returns the square of any number passed in"
      ]
    },
    {
      "cell_type": "code",
      "metadata": {
        "id": "x2N2wsyEJXdI"
      },
      "source": [
        "def square(x):\n",
        "    return x**2"
      ],
      "execution_count": null,
      "outputs": []
    },
    {
      "cell_type": "code",
      "metadata": {
        "colab": {
          "base_uri": "https://localhost:8080/"
        },
        "id": "N-3OBswKJXdI",
        "outputId": "34628b37-06b5-4487-dca4-625768d4b837"
      },
      "source": [
        "square(5)"
      ],
      "execution_count": null,
      "outputs": [
        {
          "output_type": "execute_result",
          "data": {
            "text/plain": [
              "25"
            ]
          },
          "metadata": {
            "tags": []
          },
          "execution_count": 11
        }
      ]
    },
    {
      "cell_type": "markdown",
      "metadata": {
        "id": "fL-x3FwgJXdJ"
      },
      "source": [
        "Now let's have a function for multiplication"
      ]
    },
    {
      "cell_type": "code",
      "metadata": {
        "id": "tZUJQanGJXdJ"
      },
      "source": [
        "def multiply(x,y):\n",
        "    return x*y"
      ],
      "execution_count": null,
      "outputs": []
    },
    {
      "cell_type": "code",
      "metadata": {
        "colab": {
          "base_uri": "https://localhost:8080/"
        },
        "id": "fhKdziWjJXdK",
        "outputId": "39fe101f-4a12-4763-c6e8-17023ea775af"
      },
      "source": [
        "multiply(3,4)"
      ],
      "execution_count": null,
      "outputs": [
        {
          "output_type": "execute_result",
          "data": {
            "text/plain": [
              "12"
            ]
          },
          "metadata": {
            "tags": []
          },
          "execution_count": 13
        }
      ]
    },
    {
      "cell_type": "markdown",
      "metadata": {
        "id": "DQ2I3_phJXdK"
      },
      "source": [
        "Now lets have another Muliplication function with an optional parameter"
      ]
    },
    {
      "cell_type": "code",
      "metadata": {
        "id": "t-XUHXzFJXdK"
      },
      "source": [
        "def multiply2(x,y,const=4): #optional parameter can be left with default values\n",
        "    return x*y  + const"
      ],
      "execution_count": null,
      "outputs": []
    },
    {
      "cell_type": "code",
      "metadata": {
        "colab": {
          "base_uri": "https://localhost:8080/"
        },
        "id": "sufxTNW3JXdL",
        "outputId": "e24e39c9-41f4-47b5-a16b-486e19045ea2"
      },
      "source": [
        "multiply2(3,5)"
      ],
      "execution_count": null,
      "outputs": [
        {
          "output_type": "execute_result",
          "data": {
            "text/plain": [
              "19"
            ]
          },
          "metadata": {
            "tags": []
          },
          "execution_count": 15
        }
      ]
    },
    {
      "cell_type": "markdown",
      "metadata": {
        "id": "DEVXaPaYJXdL"
      },
      "source": [
        "You can modify the optiional param"
      ]
    },
    {
      "cell_type": "code",
      "metadata": {
        "colab": {
          "base_uri": "https://localhost:8080/"
        },
        "id": "RYMJ7jfuJXdL",
        "outputId": "a1dbebcb-8063-4f82-f4bf-0b56fe8f8cdb"
      },
      "source": [
        "multiply2(3,5,10)"
      ],
      "execution_count": null,
      "outputs": [
        {
          "output_type": "execute_result",
          "data": {
            "text/plain": [
              "25"
            ]
          },
          "metadata": {
            "tags": []
          },
          "execution_count": 16
        }
      ]
    },
    {
      "cell_type": "code",
      "metadata": {
        "id": "hqfixH0KJXdL"
      },
      "source": [
        "def multiply3(x,y,squareit=False):\n",
        "   if squareit == True:\n",
        "     return x**y\n",
        "   else:\n",
        "     return x*y"
      ],
      "execution_count": null,
      "outputs": []
    },
    {
      "cell_type": "code",
      "metadata": {
        "colab": {
          "base_uri": "https://localhost:8080/"
        },
        "id": "A4B8R9E5JXdM",
        "outputId": "c00ee8c4-54ac-428a-f17f-63a91954b784"
      },
      "source": [
        "multiply3(3,3)"
      ],
      "execution_count": null,
      "outputs": [
        {
          "output_type": "execute_result",
          "data": {
            "text/plain": [
              "9"
            ]
          },
          "metadata": {
            "tags": []
          },
          "execution_count": 18
        }
      ]
    },
    {
      "cell_type": "code",
      "metadata": {
        "colab": {
          "base_uri": "https://localhost:8080/"
        },
        "id": "cuBta19MJXdM",
        "outputId": "5a1c5bf5-35ca-45a4-94c1-20c209fb536c"
      },
      "source": [
        "multiply3(3,3,squareit=True)"
      ],
      "execution_count": null,
      "outputs": [
        {
          "output_type": "execute_result",
          "data": {
            "text/plain": [
              "27"
            ]
          },
          "metadata": {
            "tags": []
          },
          "execution_count": 19
        }
      ]
    },
    {
      "cell_type": "markdown",
      "metadata": {
        "id": "yCi9i82rJXdN"
      },
      "source": [
        "### **Lambda Expressions**"
      ]
    },
    {
      "cell_type": "markdown",
      "metadata": {
        "id": "dl4RX5YYJXdN"
      },
      "source": [
        "Actually, we don't absolutely need lambda; we could get along without it. But there are certain situations where it makes writing code a bit easier, and the written code a bit cleaner. What kind of situations? … Situations in which (a) the function is fairly simple, and (b) it is going to be used only once."
      ]
    },
    {
      "cell_type": "markdown",
      "metadata": {
        "id": "6Dp00GyQJXdN"
      },
      "source": [
        "Consider the following Function in which yo multiply the element by 2 "
      ]
    },
    {
      "cell_type": "code",
      "metadata": {
        "id": "ktCVR6mVJXdN"
      },
      "source": [
        "def times2(var):\n",
        "    return var*2"
      ],
      "execution_count": null,
      "outputs": []
    },
    {
      "cell_type": "code",
      "metadata": {
        "colab": {
          "base_uri": "https://localhost:8080/"
        },
        "id": "BzUtJjXqJXdO",
        "outputId": "7f73cbe0-b903-4d30-8f32-3605e46b320f"
      },
      "source": [
        "times2(10)"
      ],
      "execution_count": null,
      "outputs": [
        {
          "output_type": "execute_result",
          "data": {
            "text/plain": [
              "20"
            ]
          },
          "metadata": {
            "tags": []
          },
          "execution_count": 21
        }
      ]
    },
    {
      "cell_type": "markdown",
      "metadata": {
        "id": "PioRRCJSJXdO"
      },
      "source": [
        "Same thing with <strong>Lambda</strong> <br>\n",
        "**Note:** this lambda is mostly used in places where we call one liner methods"
      ]
    },
    {
      "cell_type": "code",
      "metadata": {
        "colab": {
          "base_uri": "https://localhost:8080/"
        },
        "id": "jD-q0zzAJXdO",
        "outputId": "c9c24e17-4193-4333-f18e-b31d865f8a10"
      },
      "source": [
        "times=lambda var: var*2\n",
        "times(2)"
      ],
      "execution_count": null,
      "outputs": [
        {
          "output_type": "execute_result",
          "data": {
            "text/plain": [
              "4"
            ]
          },
          "metadata": {
            "tags": []
          },
          "execution_count": 22
        }
      ]
    },
    {
      "cell_type": "markdown",
      "metadata": {
        "id": "NI74O2elJXdP"
      },
      "source": [
        "lambda `arguments` : `expression`  <br>\n",
        "when you are using lambda u are mostly doing functional programming as you are calling functions within a function"
      ]
    },
    {
      "cell_type": "markdown",
      "metadata": {
        "id": "7tlFubi0JXdP"
      },
      "source": [
        "Another Example: This compare two numbers and returns the maximum of two numbers"
      ]
    },
    {
      "cell_type": "code",
      "metadata": {
        "colab": {
          "base_uri": "https://localhost:8080/",
          "height": 35
        },
        "id": "0GavHL8_JXdP",
        "outputId": "74270c55-7f9a-4aed-96c4-5adcb15ebb5a"
      },
      "source": [
        "def test(a, b):\n",
        "    if a > b:\n",
        "        return \"a\"\n",
        "    else:\n",
        "        return \"b\"\n",
        "\n",
        "test(45, 100)"
      ],
      "execution_count": null,
      "outputs": [
        {
          "output_type": "execute_result",
          "data": {
            "application/vnd.google.colaboratory.intrinsic+json": {
              "type": "string"
            },
            "text/plain": [
              "'b'"
            ]
          },
          "metadata": {
            "tags": []
          },
          "execution_count": 23
        }
      ]
    },
    {
      "cell_type": "markdown",
      "metadata": {
        "id": "GnyQVDR2JXdQ"
      },
      "source": [
        "Same with Lambda"
      ]
    },
    {
      "cell_type": "code",
      "metadata": {
        "colab": {
          "base_uri": "https://localhost:8080/",
          "height": 35
        },
        "id": "CjbvnDDTJXdQ",
        "outputId": "c8ca4237-3848-4045-f7a5-55f9a3408c87"
      },
      "source": [
        "test = lambda a, b: \"a\" if a > b else \"b\"\n",
        "test(5, 6)"
      ],
      "execution_count": null,
      "outputs": [
        {
          "output_type": "execute_result",
          "data": {
            "application/vnd.google.colaboratory.intrinsic+json": {
              "type": "string"
            },
            "text/plain": [
              "'b'"
            ]
          },
          "metadata": {
            "tags": []
          },
          "execution_count": 24
        }
      ]
    },
    {
      "cell_type": "markdown",
      "metadata": {
        "id": "Dks7uo4bJXdR"
      },
      "source": [
        "See By using Lambda you get the same job done by fewer lines of code"
      ]
    },
    {
      "cell_type": "markdown",
      "metadata": {
        "id": "nSbdbMzdJXdR"
      },
      "source": [
        "### **Map**"
      ]
    },
    {
      "cell_type": "markdown",
      "metadata": {
        "id": "l8NUj3UGJXdR"
      },
      "source": [
        "**`Map:` Applies a function to all the items in an input_list. Most of the times we want to pass all the list elements to a function one-by-one and then collect the output. Map allows us to implement this in a much simpler and nicer way.**"
      ]
    },
    {
      "cell_type": "code",
      "metadata": {
        "id": "dO5OeAnmJXdS"
      },
      "source": [
        "seq = [1,2,3,4,5]"
      ],
      "execution_count": null,
      "outputs": []
    },
    {
      "cell_type": "markdown",
      "metadata": {
        "id": "zDDKtLuOJXdS"
      },
      "source": [
        "In Map we pass in a function and a list and the funciton is applied to each element of the list"
      ]
    },
    {
      "cell_type": "code",
      "metadata": {
        "colab": {
          "base_uri": "https://localhost:8080/"
        },
        "id": "LT_fslz-JXdS",
        "outputId": "98e02f53-e095-4133-edcd-74132d3216cf"
      },
      "source": [
        "list(map(times2,seq))"
      ],
      "execution_count": null,
      "outputs": [
        {
          "output_type": "execute_result",
          "data": {
            "text/plain": [
              "[2, 4, 6, 8, 10]"
            ]
          },
          "metadata": {
            "tags": []
          },
          "execution_count": 26
        }
      ]
    },
    {
      "cell_type": "markdown",
      "metadata": {
        "id": "TiCwqzW5JXdT"
      },
      "source": [
        "Similarly you can use Map with Lambda"
      ]
    },
    {
      "cell_type": "code",
      "metadata": {
        "colab": {
          "base_uri": "https://localhost:8080/"
        },
        "id": "DcoyWsyEJXdT",
        "outputId": "915c7a13-a3d3-4532-b314-4953e7a3d881"
      },
      "source": [
        "list(map(lambda var: var*2,seq))"
      ],
      "execution_count": null,
      "outputs": [
        {
          "output_type": "execute_result",
          "data": {
            "text/plain": [
              "[2, 4, 6, 8, 10]"
            ]
          },
          "metadata": {
            "tags": []
          },
          "execution_count": 27
        }
      ]
    },
    {
      "cell_type": "markdown",
      "metadata": {
        "id": "o-5KslNdJXdU"
      },
      "source": [
        "### **Filter**\n",
        "**As the name suggests, filter creates a list of elements for which a function returns true. The filter resembles a for loop but it is a builtin function and faster.**"
      ]
    },
    {
      "cell_type": "markdown",
      "metadata": {
        "id": "LQwnYH3cJXdU"
      },
      "source": [
        "So here we are creating a new list from the previous one , this list contains all elements of previous list which are divisible by 2"
      ]
    },
    {
      "cell_type": "code",
      "metadata": {
        "colab": {
          "base_uri": "https://localhost:8080/"
        },
        "id": "xKPMe8cXJXdU",
        "outputId": "52fecc4d-36c6-44e4-be09-17f9c8b111a5"
      },
      "source": [
        "list(filter(lambda item: item %2 == 0,seq))"
      ],
      "execution_count": null,
      "outputs": [
        {
          "output_type": "execute_result",
          "data": {
            "text/plain": [
              "[2, 4]"
            ]
          },
          "metadata": {
            "tags": []
          },
          "execution_count": 28
        }
      ]
    },
    {
      "cell_type": "markdown",
      "metadata": {
        "id": "28yfAMcDJXdV"
      },
      "source": [
        "### **Methods** \n",
        "**Method is called by its name, but it is associated to an object (dependent). Different python objects have their own methods\n",
        "Lets look at some methods of a string**"
      ]
    },
    {
      "cell_type": "code",
      "metadata": {
        "id": "_QWNCDIpJXdV"
      },
      "source": [
        "st = 'hello my name is Sam'"
      ],
      "execution_count": null,
      "outputs": []
    },
    {
      "cell_type": "markdown",
      "metadata": {
        "id": "LLJQNg30JXdW"
      },
      "source": [
        "Converts all letters to lowercase"
      ]
    },
    {
      "cell_type": "code",
      "metadata": {
        "colab": {
          "base_uri": "https://localhost:8080/",
          "height": 35
        },
        "id": "niFVIo4AJXdW",
        "outputId": "17bc6e56-d47b-4097-b6b7-f2f4c3ed7a48"
      },
      "source": [
        "st.lower()"
      ],
      "execution_count": null,
      "outputs": [
        {
          "output_type": "execute_result",
          "data": {
            "application/vnd.google.colaboratory.intrinsic+json": {
              "type": "string"
            },
            "text/plain": [
              "'hello my name is sam'"
            ]
          },
          "metadata": {
            "tags": []
          },
          "execution_count": 30
        }
      ]
    },
    {
      "cell_type": "markdown",
      "metadata": {
        "id": "1KqAV8SpJXdY"
      },
      "source": [
        "Converts all letters to Uppercase"
      ]
    },
    {
      "cell_type": "code",
      "metadata": {
        "colab": {
          "base_uri": "https://localhost:8080/",
          "height": 35
        },
        "id": "pRc9aEm7JXdZ",
        "outputId": "04e38006-94f1-4790-9417-4b54a3a8a8b7"
      },
      "source": [
        "st.upper()"
      ],
      "execution_count": null,
      "outputs": [
        {
          "output_type": "execute_result",
          "data": {
            "application/vnd.google.colaboratory.intrinsic+json": {
              "type": "string"
            },
            "text/plain": [
              "'HELLO MY NAME IS SAM'"
            ]
          },
          "metadata": {
            "tags": []
          },
          "execution_count": 31
        }
      ]
    },
    {
      "cell_type": "markdown",
      "metadata": {
        "id": "xG6x6dS2JXdZ"
      },
      "source": [
        "Split all by space"
      ]
    },
    {
      "cell_type": "code",
      "metadata": {
        "colab": {
          "base_uri": "https://localhost:8080/"
        },
        "id": "BjkPIUA2JXdZ",
        "outputId": "bedb05bc-24ca-49e5-bebb-d94ad2378489"
      },
      "source": [
        "st.split()"
      ],
      "execution_count": null,
      "outputs": [
        {
          "output_type": "execute_result",
          "data": {
            "text/plain": [
              "['hello', 'my', 'name', 'is', 'Sam']"
            ]
          },
          "metadata": {
            "tags": []
          },
          "execution_count": 32
        }
      ]
    },
    {
      "cell_type": "code",
      "metadata": {
        "id": "7HWSHG0sJXda"
      },
      "source": [
        "tweet = 'Go Sports! #Sports'"
      ],
      "execution_count": null,
      "outputs": []
    },
    {
      "cell_type": "markdown",
      "metadata": {
        "id": "SHis6vQEJXda"
      },
      "source": [
        "Split by '#'"
      ]
    },
    {
      "cell_type": "code",
      "metadata": {
        "colab": {
          "base_uri": "https://localhost:8080/"
        },
        "id": "H2WJvcSFJXda",
        "outputId": "1d5ddeeb-0046-4b70-a4fb-12ddf922ef92"
      },
      "source": [
        "tweet.split('#')"
      ],
      "execution_count": null,
      "outputs": [
        {
          "output_type": "execute_result",
          "data": {
            "text/plain": [
              "['Go Sports! ', 'Sports']"
            ]
          },
          "metadata": {
            "tags": []
          },
          "execution_count": 34
        }
      ]
    },
    {
      "cell_type": "markdown",
      "metadata": {
        "id": "-bIeg3ZEJXda"
      },
      "source": [
        "Split and extract the second element of the list"
      ]
    },
    {
      "cell_type": "code",
      "metadata": {
        "colab": {
          "base_uri": "https://localhost:8080/",
          "height": 35
        },
        "id": "_bn9P-DfJXdb",
        "outputId": "cf448b9e-5cb4-4f0d-d7a3-b62d2eb41095"
      },
      "source": [
        "tweet.split('#')[1]"
      ],
      "execution_count": null,
      "outputs": [
        {
          "output_type": "execute_result",
          "data": {
            "application/vnd.google.colaboratory.intrinsic+json": {
              "type": "string"
            },
            "text/plain": [
              "'Sports'"
            ]
          },
          "metadata": {
            "tags": []
          },
          "execution_count": 35
        }
      ]
    },
    {
      "cell_type": "markdown",
      "metadata": {
        "id": "JfWsr-28JXdb"
      },
      "source": [
        "### <font style=\"color:rgb(34,169,134)\"> Assignment 5: Auto List</font> <br>\n",
        "Create a program which lets user add any item to a list when the user types `add_item \"mango\"` (ofcourse instead of a mango it can be any item) and when the the user types `show_list` it shows (prints) the user all items , A user cannot enter a duplicate item, and there should be no distinction between capital letters Mango should be equal to mango. The whole program runs in a loop and at the end of every output , an input box appears for further commands. The program ends when the user types `end`"
      ]
    },
    {
      "cell_type": "code",
      "metadata": {
        "id": "DpZXaM0sJXdb"
      },
      "source": [
        "#ADD CODE HERE\n",
        "\n"
      ],
      "execution_count": null,
      "outputs": []
    }
  ]
}