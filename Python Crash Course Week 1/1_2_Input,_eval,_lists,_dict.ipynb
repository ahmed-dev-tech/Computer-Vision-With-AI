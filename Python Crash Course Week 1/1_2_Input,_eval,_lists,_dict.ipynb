{
  "nbformat": 4,
  "nbformat_minor": 0,
  "metadata": {
    "anaconda-cloud": {
      "environment": null,
      "summary": "Python Crash Course"
    },
    "kernelspec": {
      "display_name": "Python 3",
      "language": "python",
      "name": "python3"
    },
    "language_info": {
      "codemirror_mode": {
        "name": "ipython",
        "version": 3
      },
      "file_extension": ".py",
      "mimetype": "text/x-python",
      "name": "python",
      "nbconvert_exporter": "python",
      "pygments_lexer": "ipython3",
      "version": "3.7.3"
    },
    "colab": {
      "name": "1_2_Input,_eval,_lists,_dict.ipynb",
      "provenance": [],
      "include_colab_link": true
    }
  },
  "cells": [
    {
      "cell_type": "markdown",
      "metadata": {
        "id": "view-in-github",
        "colab_type": "text"
      },
      "source": [
        "<a href=\"https://colab.research.google.com/github/ahmed-dev-tech/Computer-Vision-With-AI/blob/main/Python%20Crash%20Course%20Week%201/1_2_Input%2C_eval%2C_lists%2C_dict.ipynb\" target=\"_parent\"><img src=\"https://colab.research.google.com/assets/colab-badge.svg\" alt=\"Open In Colab\"/></a>"
      ]
    },
    {
      "cell_type": "markdown",
      "metadata": {
        "id": "J-o3FkrIazH6"
      },
      "source": [
        "# **Python Crash Course**"
      ]
    },
    {
      "cell_type": "markdown",
      "metadata": {
        "id": "pXWk_KBBaoeY"
      },
      "source": [
        "**Taking Input**\n"
      ]
    },
    {
      "cell_type": "code",
      "metadata": {
        "colab": {
          "base_uri": "https://localhost:8080/"
        },
        "id": "IyoGLAYLaoeZ",
        "outputId": "fb2d4261-6b65-4872-b1ac-c76bc17b858b"
      },
      "source": [
        "name = input(\"Enter your name: \")\n",
        "print('hello ' + name)"
      ],
      "execution_count": 1,
      "outputs": [
        {
          "output_type": "stream",
          "text": [
            "Enter your name: Ahmed\n",
            "hello Ahmed\n"
          ],
          "name": "stdout"
        }
      ]
    },
    {
      "cell_type": "code",
      "metadata": {
        "id": "nnYi4Niyaoea"
      },
      "source": [
        "Age = int(input(\"Enter your age: \"))\n",
        "print(\"Your actual age is : \" , Age + 2)"
      ],
      "execution_count": null,
      "outputs": []
    },
    {
      "cell_type": "markdown",
      "metadata": {
        "id": "K7xaweWnaoeb"
      },
      "source": [
        "### **Evaluating** \n",
        "`eval:` lets you evaluate expressions or variables"
      ]
    },
    {
      "cell_type": "code",
      "metadata": {
        "colab": {
          "base_uri": "https://localhost:8080/"
        },
        "id": "vy9RnMvOaoec",
        "outputId": "2d7fcafd-e3d7-4f7c-bc6a-98770e549b8d"
      },
      "source": [
        "math = \"(25+5) * 10\"\n",
        "eval(math)"
      ],
      "execution_count": 6,
      "outputs": [
        {
          "output_type": "execute_result",
          "data": {
            "text/plain": [
              "300"
            ]
          },
          "metadata": {
            "tags": []
          },
          "execution_count": 6
        }
      ]
    },
    {
      "cell_type": "markdown",
      "metadata": {
        "id": "fL1JWIA4aoec"
      },
      "source": [
        "You can also Evaluate Variables like below"
      ]
    },
    {
      "cell_type": "code",
      "metadata": {
        "colab": {
          "base_uri": "https://localhost:8080/"
        },
        "id": "KOrUMFcLaoed",
        "outputId": "f59821ab-307a-4427-bbda-0cc08f9055f5"
      },
      "source": [
        "e_value = 45\n",
        "print('e_value')\n",
        "print(eval('e_value'))"
      ],
      "execution_count": 7,
      "outputs": [
        {
          "output_type": "stream",
          "text": [
            "e_value\n",
            "45\n"
          ],
          "name": "stdout"
        }
      ]
    },
    {
      "cell_type": "markdown",
      "metadata": {
        "id": "wR5Tk50Faoef"
      },
      "source": [
        "**Now lets make a Calculator in 2 lines of Python**\n",
        "\n",
        "\n",
        "\n"
      ]
    },
    {
      "cell_type": "code",
      "metadata": {
        "colab": {
          "base_uri": "https://localhost:8080/"
        },
        "id": "mUqAPtA2aoef",
        "outputId": "37b1002f-99c3-4047-8748-47c837f67807"
      },
      "source": [
        "exp = input(\"Enter any Math Expression: \")\n",
        "print('Answer: ' + str(eval(exp)))"
      ],
      "execution_count": 10,
      "outputs": [
        {
          "output_type": "stream",
          "text": [
            "Enter any Math Expression: 5-3\n",
            "Answer: 2\n"
          ],
          "name": "stdout"
        }
      ]
    },
    {
      "cell_type": "markdown",
      "metadata": {
        "id": "aNNxsPaiaoeg"
      },
      "source": [
        "# **Assignment 2: Dynamic Story Make**r \n",
        "**Create a Dynamic e 2-3 lines story in which you first ask the user his name and a few other things and make a story out of it**"
      ]
    },
    {
      "cell_type": "code",
      "metadata": {
        "colab": {
          "base_uri": "https://localhost:8080/"
        },
        "id": "qu-0szZ1aoeg",
        "outputId": "d3c681b2-a542-4ea4-a2ab-fc55d95dc14e"
      },
      "source": [
        "##ADD CODE BELOW\n",
        "# ~ 8 lines\n",
        "prof = input(\"What you want to be ?\")\n",
        "name = input(\"What is your good name ?\")\n",
        "age = input(\"What is your age ?\")\n",
        "print(\"Hey from future \" + prof + \" \" + \"named \" + name + \" \" + \"I hope you are doing well. I am \" + (age) + \" \" + \"old\"  )\n"
      ],
      "execution_count": 11,
      "outputs": [
        {
          "output_type": "stream",
          "text": [
            "What you want to be ?AI Engineer\n",
            "What is your good name ?Ahmed shahid\n",
            "What is your age ?23\n",
            "Hey from future AI Engineer named Ahmed shahid I hope you are doing well. I am 23 old\n"
          ],
          "name": "stdout"
        }
      ]
    },
    {
      "cell_type": "markdown",
      "metadata": {
        "id": "yZuUtoqjaoeh"
      },
      "source": [
        "### **Lists**"
      ]
    },
    {
      "cell_type": "markdown",
      "metadata": {
        "id": "Sosni-4yaoeh"
      },
      "source": [
        "**In Python programming, a list is created by placing all the items (elements) inside a square bracket [ ], separated by commas. It can have any number of items and they may be of different types (integer, float, string etc.).**"
      ]
    },
    {
      "cell_type": "markdown",
      "metadata": {
        "id": "ph3xeN2Paoeh"
      },
      "source": [
        "A list can be of Numbers"
      ]
    },
    {
      "cell_type": "code",
      "metadata": {
        "colab": {
          "base_uri": "https://localhost:8080/"
        },
        "id": "Q5bLX_WZaoei",
        "outputId": "e4f4afca-fb48-4b41-92ff-f6110708e8c6"
      },
      "source": [
        "\n",
        "\n",
        "number_list = [1,2,3]\n",
        "print(number_list)"
      ],
      "execution_count": 12,
      "outputs": [
        {
          "output_type": "stream",
          "text": [
            "[1, 2, 3]\n"
          ],
          "name": "stdout"
        }
      ]
    },
    {
      "cell_type": "markdown",
      "metadata": {
        "id": "XTllT2Y0aoei"
      },
      "source": [
        "It can be of Letters"
      ]
    },
    {
      "cell_type": "code",
      "metadata": {
        "colab": {
          "base_uri": "https://localhost:8080/"
        },
        "id": "_a6VvR1Waoei",
        "outputId": "96995b5e-23a4-420e-b1e8-9924bcad6f02"
      },
      "source": [
        "letter_list = ['s','d','f','d']\n",
        "print(letter_list)"
      ],
      "execution_count": 13,
      "outputs": [
        {
          "output_type": "stream",
          "text": [
            "['s', 'd', 'f', 'd']\n"
          ],
          "name": "stdout"
        }
      ]
    },
    {
      "cell_type": "markdown",
      "metadata": {
        "id": "rIczuM4raoej"
      },
      "source": [
        "It Can be of Words"
      ]
    },
    {
      "cell_type": "code",
      "metadata": {
        "colab": {
          "base_uri": "https://localhost:8080/"
        },
        "id": "gjNr7q24aoej",
        "outputId": "ab9dac31-f358-4c4f-b214-fe9542c07138"
      },
      "source": [
        "word_list = ['hello', 'Who','Mister','what']\n",
        "print(word_list)"
      ],
      "execution_count": 14,
      "outputs": [
        {
          "output_type": "stream",
          "text": [
            "['hello', 'Who', 'Mister', 'what']\n"
          ],
          "name": "stdout"
        }
      ]
    },
    {
      "cell_type": "markdown",
      "metadata": {
        "id": "EFcG42-_aoej"
      },
      "source": [
        "A list can be a list of Lists"
      ]
    },
    {
      "cell_type": "code",
      "metadata": {
        "colab": {
          "base_uri": "https://localhost:8080/"
        },
        "id": "IsXzmKQ9aoej",
        "outputId": "ed9f8b28-d6c1-4244-ad48-6f13e9267dbf"
      },
      "source": [
        "list_of_lists =[[1,2,3], [12,2,213,212,3],['sdsa','df','fd']]\n",
        "print(list_of_lists)"
      ],
      "execution_count": 15,
      "outputs": [
        {
          "output_type": "stream",
          "text": [
            "[[1, 2, 3], [12, 2, 213, 212, 3], ['sdsa', 'df', 'fd']]\n"
          ],
          "name": "stdout"
        }
      ]
    },
    {
      "cell_type": "markdown",
      "metadata": {
        "id": "_XM8Ip3Saoek"
      },
      "source": [
        "It can be a combination of All of them"
      ]
    },
    {
      "cell_type": "code",
      "metadata": {
        "colab": {
          "base_uri": "https://localhost:8080/"
        },
        "id": "FvRABB0Raoek",
        "outputId": "06452ffe-0f6c-4368-9a7d-5d1d585101a2"
      },
      "source": [
        "mix_list = ['h',1,'world',[2,'ad']]\n",
        "print(mix_list)"
      ],
      "execution_count": 16,
      "outputs": [
        {
          "output_type": "stream",
          "text": [
            "['h', 1, 'world', [2, 'ad']]\n"
          ],
          "name": "stdout"
        }
      ]
    },
    {
      "cell_type": "markdown",
      "metadata": {
        "id": "ka5hbbyvaoel"
      },
      "source": [
        "### **Some List methods**"
      ]
    },
    {
      "cell_type": "code",
      "metadata": {
        "id": "DoFMlJ4Daoel"
      },
      "source": [
        "my_list = ['a','b','c','d','e']"
      ],
      "execution_count": 17,
      "outputs": []
    },
    {
      "cell_type": "markdown",
      "metadata": {
        "id": "OLerTTSTaoel"
      },
      "source": [
        "Pop out the last Element"
      ]
    },
    {
      "cell_type": "code",
      "metadata": {
        "colab": {
          "base_uri": "https://localhost:8080/"
        },
        "id": "fUzBpPCxaoel",
        "outputId": "df9472f4-7052-4b1c-bdf2-4bba91de282d"
      },
      "source": [
        "my_list.pop()\n",
        "my_list"
      ],
      "execution_count": 18,
      "outputs": [
        {
          "output_type": "execute_result",
          "data": {
            "text/plain": [
              "['a', 'b', 'c', 'd']"
            ]
          },
          "metadata": {
            "tags": []
          },
          "execution_count": 18
        }
      ]
    },
    {
      "cell_type": "markdown",
      "metadata": {
        "id": "_xnKClOtaoem"
      },
      "source": [
        "Add an Element to the List"
      ]
    },
    {
      "cell_type": "code",
      "metadata": {
        "id": "CMhoMZvVaoem"
      },
      "source": [
        "my_list.append('z')"
      ],
      "execution_count": 19,
      "outputs": []
    },
    {
      "cell_type": "code",
      "metadata": {
        "colab": {
          "base_uri": "https://localhost:8080/"
        },
        "id": "tiY8kgcLaoem",
        "outputId": "2477b83f-add6-49a8-9376-a91bea54df2a"
      },
      "source": [
        "my_list"
      ],
      "execution_count": 20,
      "outputs": [
        {
          "output_type": "execute_result",
          "data": {
            "text/plain": [
              "['a', 'b', 'c', 'd', 'z']"
            ]
          },
          "metadata": {
            "tags": []
          },
          "execution_count": 20
        }
      ]
    },
    {
      "cell_type": "markdown",
      "metadata": {
        "id": "y09UtXnpaoen"
      },
      "source": [
        "**Indexing**\n",
        "You can index into the list and pull out a specific Element"
      ]
    },
    {
      "cell_type": "code",
      "metadata": {
        "colab": {
          "base_uri": "https://localhost:8080/",
          "height": 35
        },
        "id": "ulHs8PHaaoen",
        "outputId": "4bc0311a-edef-4fec-c6f0-4fb58783ebcf"
      },
      "source": [
        "my_list[0]"
      ],
      "execution_count": 21,
      "outputs": [
        {
          "output_type": "execute_result",
          "data": {
            "application/vnd.google.colaboratory.intrinsic+json": {
              "type": "string"
            },
            "text/plain": [
              "'a'"
            ]
          },
          "metadata": {
            "tags": []
          },
          "execution_count": 21
        }
      ]
    },
    {
      "cell_type": "code",
      "metadata": {
        "colab": {
          "base_uri": "https://localhost:8080/",
          "height": 35
        },
        "id": "3MqWvCdpaoen",
        "outputId": "9d64a1a3-6022-4bd7-a06d-cd3511f63e0f"
      },
      "source": [
        "my_list[1]"
      ],
      "execution_count": 22,
      "outputs": [
        {
          "output_type": "execute_result",
          "data": {
            "application/vnd.google.colaboratory.intrinsic+json": {
              "type": "string"
            },
            "text/plain": [
              "'b'"
            ]
          },
          "metadata": {
            "tags": []
          },
          "execution_count": 22
        }
      ]
    },
    {
      "cell_type": "markdown",
      "metadata": {
        "id": "6Efl8qITaoeo"
      },
      "source": [
        "You can also Reverse Index in a list <br>\n",
        "For e.g `-1` will give you the the last element of the list"
      ]
    },
    {
      "cell_type": "code",
      "metadata": {
        "colab": {
          "base_uri": "https://localhost:8080/",
          "height": 35
        },
        "id": "t-a1gAHkaoeo",
        "outputId": "f43df944-84a4-4826-f2fc-a1d24b777def"
      },
      "source": [
        "my_list[-1]"
      ],
      "execution_count": 23,
      "outputs": [
        {
          "output_type": "execute_result",
          "data": {
            "application/vnd.google.colaboratory.intrinsic+json": {
              "type": "string"
            },
            "text/plain": [
              "'z'"
            ]
          },
          "metadata": {
            "tags": []
          },
          "execution_count": 23
        }
      ]
    },
    {
      "cell_type": "code",
      "metadata": {
        "colab": {
          "base_uri": "https://localhost:8080/",
          "height": 35
        },
        "id": "FSGSh_ivaoeo",
        "outputId": "f06c9f72-a5c0-4701-813c-b134594e3ed0"
      },
      "source": [
        "my_list[-2] # 2nd last"
      ],
      "execution_count": 24,
      "outputs": [
        {
          "output_type": "execute_result",
          "data": {
            "application/vnd.google.colaboratory.intrinsic+json": {
              "type": "string"
            },
            "text/plain": [
              "'d'"
            ]
          },
          "metadata": {
            "tags": []
          },
          "execution_count": 24
        }
      ]
    },
    {
      "cell_type": "markdown",
      "metadata": {
        "id": "VzvUtj2Vaoep"
      },
      "source": [
        "### **Slicing**\n",
        "You can Slice the list, Upper Limit is not Included <br>\n",
        "So `0:3` Means Give me Elements ranging from 0 to 2"
      ]
    },
    {
      "cell_type": "code",
      "metadata": {
        "colab": {
          "base_uri": "https://localhost:8080/"
        },
        "id": "WjItdhZ8aoep",
        "outputId": "0d1c46b7-51de-4690-e3d7-07137d90fc37"
      },
      "source": [
        "my_list[:1]  # the upper limit is not included"
      ],
      "execution_count": 25,
      "outputs": [
        {
          "output_type": "execute_result",
          "data": {
            "text/plain": [
              "['a']"
            ]
          },
          "metadata": {
            "tags": []
          },
          "execution_count": 25
        }
      ]
    },
    {
      "cell_type": "code",
      "metadata": {
        "colab": {
          "base_uri": "https://localhost:8080/"
        },
        "id": "G87hKV1Faoep",
        "outputId": "32e35a8d-d160-4cc2-a6d2-1f66abaaf3ac"
      },
      "source": [
        "my_list[1:3]"
      ],
      "execution_count": 26,
      "outputs": [
        {
          "output_type": "execute_result",
          "data": {
            "text/plain": [
              "['b', 'c']"
            ]
          },
          "metadata": {
            "tags": []
          },
          "execution_count": 26
        }
      ]
    },
    {
      "cell_type": "markdown",
      "metadata": {
        "id": "VJwpEXt9aoeq"
      },
      "source": [
        "Below Command is Equal to the Above command <br>\n",
        "So `:3` Means give me Elements from Start to 2"
      ]
    },
    {
      "cell_type": "code",
      "metadata": {
        "colab": {
          "base_uri": "https://localhost:8080/"
        },
        "id": "7l_Csxspaoeq",
        "outputId": "c8d74726-7947-40d4-dd31-9d3ccb0f7e6a"
      },
      "source": [
        "my_list[:3]"
      ],
      "execution_count": 27,
      "outputs": [
        {
          "output_type": "execute_result",
          "data": {
            "text/plain": [
              "['a', 'b', 'c']"
            ]
          },
          "metadata": {
            "tags": []
          },
          "execution_count": 27
        }
      ]
    },
    {
      "cell_type": "markdown",
      "metadata": {
        "id": "naZFXu79aoeq"
      },
      "source": [
        "Similarly you can slice from some index to End of list"
      ]
    },
    {
      "cell_type": "code",
      "metadata": {
        "colab": {
          "base_uri": "https://localhost:8080/"
        },
        "id": "dY9_DRDSaoeq",
        "outputId": "41371983-33b4-4823-c24c-005e60736db6"
      },
      "source": [
        "\n",
        "my_list[3:]"
      ],
      "execution_count": 28,
      "outputs": [
        {
          "output_type": "execute_result",
          "data": {
            "text/plain": [
              "['d', 'z']"
            ]
          },
          "metadata": {
            "tags": []
          },
          "execution_count": 28
        }
      ]
    },
    {
      "cell_type": "markdown",
      "metadata": {
        "id": "KUwAvsh6aoer"
      },
      "source": [
        "You Can Modify any existing value of the list"
      ]
    },
    {
      "cell_type": "code",
      "metadata": {
        "id": "SaqDShYkaoer"
      },
      "source": [
        "my_list[0] = 'NEW'"
      ],
      "execution_count": 29,
      "outputs": []
    },
    {
      "cell_type": "code",
      "metadata": {
        "id": "b6VTRwk7aoer",
        "colab": {
          "base_uri": "https://localhost:8080/"
        },
        "outputId": "aa1258b9-8056-48f9-840a-354bd6c9c3c8"
      },
      "source": [
        "my_list"
      ],
      "execution_count": 30,
      "outputs": [
        {
          "output_type": "execute_result",
          "data": {
            "text/plain": [
              "['NEW', 'b', 'c', 'd', 'z']"
            ]
          },
          "metadata": {
            "tags": []
          },
          "execution_count": 30
        }
      ]
    },
    {
      "cell_type": "markdown",
      "metadata": {
        "id": "CpZBPt9Uaoer"
      },
      "source": [
        "#### Lets take Look at a Nested list\n",
        "Can you print out the string target through Indexing"
      ]
    },
    {
      "cell_type": "code",
      "metadata": {
        "id": "TnXAgOkcaoes"
      },
      "source": [
        "\n",
        "nest = [1,2,3,[4,5,['target']]]  # the third element of thrid element is also a list # this is like dabe me daba"
      ],
      "execution_count": 31,
      "outputs": []
    },
    {
      "cell_type": "code",
      "metadata": {
        "colab": {
          "base_uri": "https://localhost:8080/"
        },
        "id": "ccmj3ca-aoes",
        "outputId": "8a6c6f03-5b63-4b51-835c-702f6b132797"
      },
      "source": [
        "nest[3]"
      ],
      "execution_count": 32,
      "outputs": [
        {
          "output_type": "execute_result",
          "data": {
            "text/plain": [
              "[4, 5, ['target']]"
            ]
          },
          "metadata": {
            "tags": []
          },
          "execution_count": 32
        }
      ]
    },
    {
      "cell_type": "code",
      "metadata": {
        "colab": {
          "base_uri": "https://localhost:8080/"
        },
        "id": "L_ycQ-fUaoes",
        "outputId": "91fafb6b-f39e-4fee-8c27-696f9ab6414a"
      },
      "source": [
        "nest[3][2]"
      ],
      "execution_count": 33,
      "outputs": [
        {
          "output_type": "execute_result",
          "data": {
            "text/plain": [
              "['target']"
            ]
          },
          "metadata": {
            "tags": []
          },
          "execution_count": 33
        }
      ]
    },
    {
      "cell_type": "code",
      "metadata": {
        "colab": {
          "base_uri": "https://localhost:8080/",
          "height": 35
        },
        "id": "PgusQF0Caoet",
        "outputId": "4934a01b-0371-4a1a-8abb-974428afa109"
      },
      "source": [
        "nest[3][2][0]"
      ],
      "execution_count": 34,
      "outputs": [
        {
          "output_type": "execute_result",
          "data": {
            "application/vnd.google.colaboratory.intrinsic+json": {
              "type": "string"
            },
            "text/plain": [
              "'target'"
            ]
          },
          "metadata": {
            "tags": []
          },
          "execution_count": 34
        }
      ]
    },
    {
      "cell_type": "markdown",
      "metadata": {
        "id": "ic4NrLgVaoet"
      },
      "source": [
        "You can also check if a particular element exists in a list"
      ]
    },
    {
      "cell_type": "code",
      "metadata": {
        "colab": {
          "base_uri": "https://localhost:8080/"
        },
        "id": "8ceTZS_Raoet",
        "outputId": "2eb48ec5-540d-48a8-af94-6b971011299c"
      },
      "source": [
        "'x' in ['x','y','z']"
      ],
      "execution_count": 35,
      "outputs": [
        {
          "output_type": "execute_result",
          "data": {
            "text/plain": [
              "True"
            ]
          },
          "metadata": {
            "tags": []
          },
          "execution_count": 35
        }
      ]
    },
    {
      "cell_type": "markdown",
      "metadata": {
        "id": "5AFTW9Anaoeu"
      },
      "source": [
        "### **Dictionaries**"
      ]
    },
    {
      "cell_type": "markdown",
      "metadata": {
        "id": "-oVe5jDLaoeu"
      },
      "source": [
        "**A dictionary is a collection which is unordered, changeable and indexed. In Python dictionaries are written with curly brackets, and they have keys and values.**"
      ]
    },
    {
      "cell_type": "code",
      "metadata": {
        "id": "O-3yGwlvaoeu"
      },
      "source": [
        "d = {'key1': 'Value1' ,  'key2':'Value'}"
      ],
      "execution_count": 36,
      "outputs": []
    },
    {
      "cell_type": "markdown",
      "metadata": {
        "id": "UmeSDu6Paoeu"
      },
      "source": [
        "Consider Below Example of a Dictionary in which Key is the name of a person and the value is his/her phone number"
      ]
    },
    {
      "cell_type": "code",
      "metadata": {
        "id": "qGwyueI9aoev"
      },
      "source": [
        "d = {'Taha': 923132283550,  'Sara' : 923332234450 , 'Mustafa': 923212062374}"
      ],
      "execution_count": 37,
      "outputs": []
    },
    {
      "cell_type": "markdown",
      "metadata": {
        "id": "yAxWVuNBaoev"
      },
      "source": [
        "Now if Needed Mustafa's Phone Number I would do this:"
      ]
    },
    {
      "cell_type": "code",
      "metadata": {
        "colab": {
          "base_uri": "https://localhost:8080/"
        },
        "id": "MfUmDq5Uaoev",
        "outputId": "9fc354ed-e3ca-4ac5-c1fe-2811494966f9"
      },
      "source": [
        "d['Mustafa']"
      ],
      "execution_count": 38,
      "outputs": [
        {
          "output_type": "execute_result",
          "data": {
            "text/plain": [
              "923212062374"
            ]
          },
          "metadata": {
            "tags": []
          },
          "execution_count": 38
        }
      ]
    },
    {
      "cell_type": "markdown",
      "metadata": {
        "id": "UhRUQzyoaoev"
      },
      "source": [
        "You can use anything as a key, integers, strings etc."
      ]
    },
    {
      "cell_type": "markdown",
      "metadata": {
        "id": "j3lXD77-aoev"
      },
      "source": [
        "Note: You can't Append to a dictionary"
      ]
    },
    {
      "cell_type": "code",
      "metadata": {
        "colab": {
          "base_uri": "https://localhost:8080/",
          "height": 163
        },
        "id": "U--dPP_Raoew",
        "outputId": "4753fc04-0c16-4be9-c1fe-f4fc65f867ce"
      },
      "source": [
        "d.append['Mouse'] = \"Cheese\"         #we can't use append keyword in dictionary"
      ],
      "execution_count": 39,
      "outputs": [
        {
          "output_type": "error",
          "ename": "AttributeError",
          "evalue": "ignored",
          "traceback": [
            "\u001b[0;31m---------------------------------------------------------------------------\u001b[0m",
            "\u001b[0;31mAttributeError\u001b[0m                            Traceback (most recent call last)",
            "\u001b[0;32m<ipython-input-39-69de06ce8208>\u001b[0m in \u001b[0;36m<module>\u001b[0;34m()\u001b[0m\n\u001b[0;32m----> 1\u001b[0;31m \u001b[0md\u001b[0m\u001b[0;34m.\u001b[0m\u001b[0mappend\u001b[0m\u001b[0;34m[\u001b[0m\u001b[0;34m'Mouse'\u001b[0m\u001b[0;34m]\u001b[0m \u001b[0;34m=\u001b[0m \u001b[0;34m\"Cheese\"\u001b[0m         \u001b[0;31m#we can't use append keyword in dictionary\u001b[0m\u001b[0;34m\u001b[0m\u001b[0;34m\u001b[0m\u001b[0m\n\u001b[0m",
            "\u001b[0;31mAttributeError\u001b[0m: 'dict' object has no attribute 'append'"
          ]
        }
      ]
    },
    {
      "cell_type": "markdown",
      "metadata": {
        "id": "PO_mhgQ_aoew"
      },
      "source": [
        "Now this is how you add a new Key Value Pair "
      ]
    },
    {
      "cell_type": "code",
      "metadata": {
        "colab": {
          "base_uri": "https://localhost:8080/"
        },
        "id": "tqmTBij0aoew",
        "outputId": "26c6aa80-f400-480a-f127-f0902013d464"
      },
      "source": [
        "d['Mouse'] = 'Cheese'    # Set a new entry in a dictionary\n",
        "d"
      ],
      "execution_count": 40,
      "outputs": [
        {
          "output_type": "execute_result",
          "data": {
            "text/plain": [
              "{'Mouse': 'Cheese',\n",
              " 'Mustafa': 923212062374,\n",
              " 'Sara': 923332234450,\n",
              " 'Taha': 923132283550}"
            ]
          },
          "metadata": {
            "tags": []
          },
          "execution_count": 40
        }
      ]
    },
    {
      "cell_type": "markdown",
      "metadata": {
        "id": "RuIBJSqiaoex"
      },
      "source": [
        "This is How you Delete a Key Value Pair"
      ]
    },
    {
      "cell_type": "code",
      "metadata": {
        "id": "kMOAalfraoex"
      },
      "source": [
        "del d['Sara']        "
      ],
      "execution_count": 41,
      "outputs": []
    },
    {
      "cell_type": "code",
      "metadata": {
        "colab": {
          "base_uri": "https://localhost:8080/"
        },
        "id": "L8gm1xcKaoex",
        "outputId": "be1758a3-ebd5-42a6-f7aa-89f2904325ef"
      },
      "source": [
        "d"
      ],
      "execution_count": 42,
      "outputs": [
        {
          "output_type": "execute_result",
          "data": {
            "text/plain": [
              "{'Mouse': 'Cheese', 'Mustafa': 923212062374, 'Taha': 923132283550}"
            ]
          },
          "metadata": {
            "tags": []
          },
          "execution_count": 42
        }
      ]
    },
    {
      "cell_type": "markdown",
      "metadata": {
        "id": "S711QE7Haoex"
      },
      "source": [
        "You Can Update Existing Values"
      ]
    },
    {
      "cell_type": "code",
      "metadata": {
        "colab": {
          "base_uri": "https://localhost:8080/"
        },
        "id": "_WdRPB1Saoex",
        "outputId": "33de4fd6-6698-44f1-9cab-729b74a4840d"
      },
      "source": [
        "d['Taha'] = '92323358330'      #update key1 value with chicken\n",
        "d"
      ],
      "execution_count": 43,
      "outputs": [
        {
          "output_type": "execute_result",
          "data": {
            "text/plain": [
              "{'Mouse': 'Cheese', 'Mustafa': 923212062374, 'Taha': '92323358330'}"
            ]
          },
          "metadata": {
            "tags": []
          },
          "execution_count": 43
        }
      ]
    },
    {
      "cell_type": "markdown",
      "metadata": {
        "id": "xWsul-Nsaoey"
      },
      "source": [
        "Here are all your dict keys"
      ]
    },
    {
      "cell_type": "code",
      "metadata": {
        "colab": {
          "base_uri": "https://localhost:8080/"
        },
        "id": "Bkfr45Z1aoey",
        "outputId": "4605e91f-9fe7-45a6-bf67-561131263049"
      },
      "source": [
        "d.keys()"
      ],
      "execution_count": 44,
      "outputs": [
        {
          "output_type": "execute_result",
          "data": {
            "text/plain": [
              "dict_keys(['Taha', 'Mustafa', 'Mouse'])"
            ]
          },
          "metadata": {
            "tags": []
          },
          "execution_count": 44
        }
      ]
    },
    {
      "cell_type": "markdown",
      "metadata": {
        "id": "CP722Ri_aoey"
      },
      "source": [
        "Here are all you dict values"
      ]
    },
    {
      "cell_type": "code",
      "metadata": {
        "colab": {
          "base_uri": "https://localhost:8080/"
        },
        "id": "PfUCirh0aoez",
        "outputId": "e98f010d-ee6b-4bb7-ac1e-2009c4d1499d"
      },
      "source": [
        "d.values()"
      ],
      "execution_count": 45,
      "outputs": [
        {
          "output_type": "execute_result",
          "data": {
            "text/plain": [
              "dict_values(['92323358330', 923212062374, 'Cheese'])"
            ]
          },
          "metadata": {
            "tags": []
          },
          "execution_count": 45
        }
      ]
    },
    {
      "cell_type": "markdown",
      "metadata": {
        "id": "WcfHHx5aaoez"
      },
      "source": [
        "Here are all your dict items (key/value pairs) "
      ]
    },
    {
      "cell_type": "code",
      "metadata": {
        "colab": {
          "base_uri": "https://localhost:8080/"
        },
        "id": "C53i34s9aoez",
        "outputId": "c4a8d97c-f8ad-4c66-9d04-ca4a69fd19e1"
      },
      "source": [
        "d.items()"
      ],
      "execution_count": 46,
      "outputs": [
        {
          "output_type": "execute_result",
          "data": {
            "text/plain": [
              "dict_items([('Taha', '92323358330'), ('Mustafa', 923212062374), ('Mouse', 'Cheese')])"
            ]
          },
          "metadata": {
            "tags": []
          },
          "execution_count": 46
        }
      ]
    },
    {
      "cell_type": "code",
      "metadata": {
        "id": "wf7fm4zvcON5"
      },
      "source": [
        ""
      ],
      "execution_count": 46,
      "outputs": []
    }
  ]
}