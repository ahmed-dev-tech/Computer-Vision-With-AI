{
  "nbformat": 4,
  "nbformat_minor": 0,
  "metadata": {
    "kernelspec": {
      "display_name": "Python 3",
      "language": "python",
      "name": "python3"
    },
    "language_info": {
      "codemirror_mode": {
        "name": "ipython",
        "version": 3
      },
      "file_extension": ".py",
      "mimetype": "text/x-python",
      "name": "python",
      "nbconvert_exporter": "python",
      "pygments_lexer": "ipython3",
      "version": "3.7.3"
    },
    "colab": {
      "name": "1.8 Numpy part 2.ipynb",
      "provenance": []
    }
  },
  "cells": [
    {
      "cell_type": "markdown",
      "metadata": {
        "id": "89W_mKHO6aIb"
      },
      "source": [
        "\n",
        "# <center><font>  Numpy Crash Course</font><center>\n"
      ]
    },
    {
      "cell_type": "code",
      "metadata": {
        "id": "5xoVAOAz6aIh"
      },
      "source": [
        "import numpy as np"
      ],
      "execution_count": null,
      "outputs": []
    },
    {
      "cell_type": "markdown",
      "metadata": {
        "id": "MNPPQhJA6aIj"
      },
      "source": [
        "**Creating Array of Zeros**"
      ]
    },
    {
      "cell_type": "code",
      "metadata": {
        "colab": {
          "base_uri": "https://localhost:8080/"
        },
        "id": "9Se10HpK6aIl",
        "outputId": "34437561-5c48-4e41-9558-52b022491b42"
      },
      "source": [
        "a = np.zeros((2, 2))   # Create an array of all zeros of specified shape\n",
        "print(a) "
      ],
      "execution_count": null,
      "outputs": [
        {
          "output_type": "stream",
          "text": [
            "[[0. 0.]\n",
            " [0. 0.]]\n"
          ],
          "name": "stdout"
        }
      ]
    },
    {
      "cell_type": "markdown",
      "metadata": {
        "id": "03jrRIFX6aIq"
      },
      "source": [
        "**Creating Array of Ones**"
      ]
    },
    {
      "cell_type": "code",
      "metadata": {
        "colab": {
          "base_uri": "https://localhost:8080/"
        },
        "id": "nIrpfz3O6aIr",
        "outputId": "5fdd8ae7-aa29-40fd-8198-30d68b436fc8"
      },
      "source": [
        "a = np.ones((2, 2))    # Create an array of all ones\n",
        "print(a)"
      ],
      "execution_count": null,
      "outputs": [
        {
          "output_type": "stream",
          "text": [
            "[[1. 1.]\n",
            " [1. 1.]]\n"
          ],
          "name": "stdout"
        }
      ]
    },
    {
      "cell_type": "markdown",
      "metadata": {
        "id": "1rqU_hI06aIs"
      },
      "source": [
        "**Creating an Array of Constant Values** <br>\n",
        "Here we chose the constant value to be `7`"
      ]
    },
    {
      "cell_type": "code",
      "metadata": {
        "colab": {
          "base_uri": "https://localhost:8080/"
        },
        "id": "OxnyQX6D6aIt",
        "outputId": "fc29b0eb-a7cb-4d5f-e39a-98508ff6aa1c"
      },
      "source": [
        "b = np.full((2, 2), 7)  # Create a constant array\n",
        "print(b)   "
      ],
      "execution_count": null,
      "outputs": [
        {
          "output_type": "stream",
          "text": [
            "[[7 7]\n",
            " [7 7]]\n"
          ],
          "name": "stdout"
        }
      ]
    },
    {
      "cell_type": "markdown",
      "metadata": {
        "id": "ALqVc9wu6aIv"
      },
      "source": [
        "**Creating an Identity Matrix**"
      ]
    },
    {
      "cell_type": "code",
      "metadata": {
        "colab": {
          "base_uri": "https://localhost:8080/"
        },
        "id": "dkl3aNRT6aIw",
        "outputId": "b0f786b5-2867-4266-d12b-89f880442958"
      },
      "source": [
        "c = np.eye(2)   # Create a 2 x 2 identity matrix\n",
        "print(c)  "
      ],
      "execution_count": null,
      "outputs": [
        {
          "output_type": "stream",
          "text": [
            "[[1. 0.]\n",
            " [0. 1.]]\n"
          ],
          "name": "stdout"
        }
      ]
    },
    {
      "cell_type": "markdown",
      "metadata": {
        "id": "SSllNCkz6aIy"
      },
      "source": [
        "**Creating an Array of Random Values**"
      ]
    },
    {
      "cell_type": "code",
      "metadata": {
        "colab": {
          "base_uri": "https://localhost:8080/"
        },
        "id": "qz42RyWD6aI2",
        "outputId": "a363c300-81d2-4dec-d068-23ab4c47db64"
      },
      "source": [
        "d = np.random.randint(5,10, size=(2, 2))  # Create a 2x2 array filled with random values from 5-10\n",
        "print(d)"
      ],
      "execution_count": null,
      "outputs": [
        {
          "output_type": "stream",
          "text": [
            "[[7 7]\n",
            " [6 8]]\n"
          ],
          "name": "stdout"
        }
      ]
    },
    {
      "cell_type": "markdown",
      "metadata": {
        "id": "oVsofz5B6aI5"
      },
      "source": [
        "###  <font style=\"color:rgb(134,19,348)\"> Reshaping an Array  </font> "
      ]
    },
    {
      "cell_type": "code",
      "metadata": {
        "colab": {
          "base_uri": "https://localhost:8080/"
        },
        "id": "Jckl7Kux6aI6",
        "outputId": "85f3997d-213c-4ed4-9443-fc65eaf83eb6"
      },
      "source": [
        "nums = np.arange(16)\n",
        "print(nums)\n",
        "print(nums.shape)"
      ],
      "execution_count": null,
      "outputs": [
        {
          "output_type": "stream",
          "text": [
            "[ 0  1  2  3  4  5  6  7  8  9 10 11 12 13 14 15]\n",
            "(16,)\n"
          ],
          "name": "stdout"
        }
      ]
    },
    {
      "cell_type": "markdown",
      "metadata": {
        "id": "UlIdbITK6aJ_"
      },
      "source": [
        "**Now lets reshape that 16, to a 4x4 array**"
      ]
    },
    {
      "cell_type": "code",
      "metadata": {
        "colab": {
          "base_uri": "https://localhost:8080/"
        },
        "id": "91w530Wt6aKB",
        "outputId": "4af693a6-5658-4acd-a032-3c5ede12bbe7"
      },
      "source": [
        "nums = nums.reshape((4, 4))\n",
        "print('Reshaped:\\n', nums)\n",
        "print(nums.shape)"
      ],
      "execution_count": null,
      "outputs": [
        {
          "output_type": "stream",
          "text": [
            "Reshaped:\n",
            " [[ 0  1  2  3]\n",
            " [ 4  5  6  7]\n",
            " [ 8  9 10 11]\n",
            " [12 13 14 15]]\n",
            "(4, 4)\n"
          ],
          "name": "stdout"
        }
      ]
    },
    {
      "cell_type": "markdown",
      "metadata": {
        "id": "rHqYySr56aKD"
      },
      "source": [
        "**Using -1** \n",
        "\n",
        "The -1 in reshape corresponds to an unknown dimension that numpy will figure out based on all other dimensions and the array size. We Can only specify one unknown dimension. For example, sometimes we might have an unknown number of data points, and so we can use -1 instead without worrying about the true number."
      ]
    },
    {
      "cell_type": "code",
      "metadata": {
        "colab": {
          "base_uri": "https://localhost:8080/"
        },
        "id": "x3DVJg126aKE",
        "outputId": "d7e2b696-2d98-434c-d535-3f27f35740d6"
      },
      "source": [
        "nums = nums.reshape((4,-1 ))\n",
        "print('Reshaped with -1:\\n', nums)\n",
        "print(nums.shape)"
      ],
      "execution_count": null,
      "outputs": [
        {
          "output_type": "stream",
          "text": [
            "Reshaped with -1:\n",
            " [[ 0  1  2  3]\n",
            " [ 4  5  6  7]\n",
            " [ 8  9 10 11]\n",
            " [12 13 14 15]]\n",
            "(4, 4)\n"
          ],
          "name": "stdout"
        }
      ]
    },
    {
      "cell_type": "markdown",
      "metadata": {
        "id": "b9Of8KXg6aKF"
      },
      "source": [
        "**NumPy supports an object-oriented paradigm, such that ndarray has a number of methods and attributes, with functions similar to ones in the outermost NumPy namespace.** <br>\n",
        "For example, we can do both: "
      ]
    },
    {
      "cell_type": "code",
      "metadata": {
        "colab": {
          "base_uri": "https://localhost:8080/"
        },
        "id": "5fd3iTJb6aKH",
        "outputId": "60f5adfd-526d-4333-aea0-291381c47325"
      },
      "source": [
        "nums = np.arange(8)\n",
        "print(nums.min())     \n",
        "print(np.min(nums))   "
      ],
      "execution_count": null,
      "outputs": [
        {
          "output_type": "stream",
          "text": [
            "0\n",
            "0\n"
          ],
          "name": "stdout"
        }
      ]
    },
    {
      "cell_type": "markdown",
      "metadata": {
        "id": "LIEi5DuO6aKJ"
      },
      "source": [
        "##  <font style=\"color:rgb(134,19,348)\"> Flatten vs Ravel   </font> "
      ]
    },
    {
      "cell_type": "markdown",
      "metadata": {
        "id": "1dtXCsPf6aKK"
      },
      "source": [
        " The primary functional difference is that flatten() is a method of an ndarray object and hence can only be called for true numpy arrays. In contrast ravel() is a library-level function and hence can be called on any object that can successfully be parsed. For example ravel() will work on a list of ndarrays, while flatten (obviously) won't"
      ]
    },
    {
      "cell_type": "code",
      "metadata": {
        "colab": {
          "base_uri": "https://localhost:8080/"
        },
        "id": "qt2-zO7C6aKL",
        "outputId": "6fa97d85-e65d-4b88-fdac-967a52460df7"
      },
      "source": [
        "print (b)"
      ],
      "execution_count": null,
      "outputs": [
        {
          "output_type": "stream",
          "text": [
            "[[7 7]\n",
            " [7 7]]\n"
          ],
          "name": "stdout"
        }
      ]
    },
    {
      "cell_type": "code",
      "metadata": {
        "colab": {
          "base_uri": "https://localhost:8080/"
        },
        "id": "34x2q-rB6aKM",
        "outputId": "7b3b79ac-ec14-48e6-b838-86fa624a004a"
      },
      "source": [
        "b.flatten() "
      ],
      "execution_count": null,
      "outputs": [
        {
          "output_type": "execute_result",
          "data": {
            "text/plain": [
              "array([7, 7, 7, 7])"
            ]
          },
          "metadata": {
            "tags": []
          },
          "execution_count": 15
        }
      ]
    },
    {
      "cell_type": "code",
      "metadata": {
        "colab": {
          "base_uri": "https://localhost:8080/"
        },
        "id": "dp1xqn1b6aKN",
        "outputId": "797d00f3-d661-481e-dc1c-76f2a9e3eca9"
      },
      "source": [
        "# flattening the array ...used in computer vision a lot..\n",
        "b.ravel()"
      ],
      "execution_count": null,
      "outputs": [
        {
          "output_type": "execute_result",
          "data": {
            "text/plain": [
              "array([7, 7, 7, 7])"
            ]
          },
          "metadata": {
            "tags": []
          },
          "execution_count": 16
        }
      ]
    },
    {
      "cell_type": "markdown",
      "metadata": {
        "id": "4eZv0jxG6aKO"
      },
      "source": [
        "## Array Operations/Math  "
      ]
    },
    {
      "cell_type": "markdown",
      "metadata": {
        "id": "K4Sry_kx6aKO"
      },
      "source": [
        "NumPy supports many elementwise operations:"
      ]
    },
    {
      "cell_type": "code",
      "metadata": {
        "id": "qwQ9MsHR6aKP"
      },
      "source": [
        "x = np.array([[1, 2],\n",
        "              [3, 4]], dtype=np.float64)\n",
        "y = np.array([[5, 6],\n",
        "              [7, 8]], dtype=np.float64)"
      ],
      "execution_count": null,
      "outputs": []
    },
    {
      "cell_type": "markdown",
      "metadata": {
        "id": "PZ9q2O-n6aKP"
      },
      "source": [
        "**Addition**"
      ]
    },
    {
      "cell_type": "code",
      "metadata": {
        "colab": {
          "base_uri": "https://localhost:8080/"
        },
        "id": "9VIrAOU06aKP",
        "outputId": "0d737cdf-a7cc-4dbc-8519-b492ac74445b"
      },
      "source": [
        "print(x + y)\n",
        "print(np.add(x, y))"
      ],
      "execution_count": null,
      "outputs": [
        {
          "output_type": "stream",
          "text": [
            "[[ 6.  8.]\n",
            " [10. 12.]]\n",
            "[[ 6.  8.]\n",
            " [10. 12.]]\n"
          ],
          "name": "stdout"
        }
      ]
    },
    {
      "cell_type": "markdown",
      "metadata": {
        "id": "u6OXcZTb6aKQ"
      },
      "source": [
        "**Subtraction**"
      ]
    },
    {
      "cell_type": "code",
      "metadata": {
        "colab": {
          "base_uri": "https://localhost:8080/"
        },
        "id": "qwawWofC6aKR",
        "outputId": "f8f1ac5e-33fb-413a-f08c-0e3922a399e0"
      },
      "source": [
        "print(x - y)\n",
        "print(np.subtract(x, y))"
      ],
      "execution_count": null,
      "outputs": [
        {
          "output_type": "stream",
          "text": [
            "[[-4. -4.]\n",
            " [-4. -4.]]\n",
            "[[-4. -4.]\n",
            " [-4. -4.]]\n"
          ],
          "name": "stdout"
        }
      ]
    },
    {
      "cell_type": "markdown",
      "metadata": {
        "id": "QJ9YRYKy6aKR"
      },
      "source": [
        "**Multiplication**"
      ]
    },
    {
      "cell_type": "code",
      "metadata": {
        "colab": {
          "base_uri": "https://localhost:8080/"
        },
        "id": "RIFU_NHl6aKS",
        "outputId": "7d4b90d5-64b9-4721-fe34-5f48037966bf"
      },
      "source": [
        "print(x * y)\n",
        "print(np.multiply(x, y))"
      ],
      "execution_count": null,
      "outputs": [
        {
          "output_type": "stream",
          "text": [
            "[[ 5. 12.]\n",
            " [21. 32.]]\n",
            "[[ 5. 12.]\n",
            " [21. 32.]]\n"
          ],
          "name": "stdout"
        }
      ]
    },
    {
      "cell_type": "markdown",
      "metadata": {
        "id": "XQpxEn9-6aKT"
      },
      "source": [
        "**Division**"
      ]
    },
    {
      "cell_type": "markdown",
      "metadata": {
        "id": "Td4lWx2d6aKU"
      },
      "source": [
        "How do we elementwise divide between two arrays?"
      ]
    },
    {
      "cell_type": "code",
      "metadata": {
        "colab": {
          "base_uri": "https://localhost:8080/"
        },
        "id": "BdxeJOkA6aKU",
        "outputId": "377d1f87-8fe3-452f-d7ee-d6ea8e2a9c48"
      },
      "source": [
        "print(x / y)\n",
        "print(np.divide(x, y))"
      ],
      "execution_count": null,
      "outputs": [
        {
          "output_type": "stream",
          "text": [
            "[[0.2        0.33333333]\n",
            " [0.42857143 0.5       ]]\n",
            "[[0.2        0.33333333]\n",
            " [0.42857143 0.5       ]]\n"
          ],
          "name": "stdout"
        }
      ]
    },
    {
      "cell_type": "markdown",
      "metadata": {
        "id": "S12iGlrx6aKV"
      },
      "source": [
        "<small>**Note:** This is elementwise multiplication, not matrix multiplication. We instead use the dot function to compute inner products of vectors, to multiply a vector by a matrix, and to multiply matrices. dot is available both as a function in the numpy module and as an instance method of array objects </small>\n",
        "\n"
      ]
    },
    {
      "cell_type": "markdown",
      "metadata": {
        "id": "7RGTotxw6aKV"
      },
      "source": [
        " ##  Numpy Functions \n",
        "There are many useful functions built into NumPy, and often we're able to express them across specific axes of the ndarray:"
      ]
    },
    {
      "cell_type": "code",
      "metadata": {
        "colab": {
          "base_uri": "https://localhost:8080/"
        },
        "id": "3h6-SArg6aKW",
        "outputId": "b8c95340-8a86-496f-9ac4-19317087eb97"
      },
      "source": [
        "x = np.array([[1, 2, 3], \n",
        "              [4, 5, 6]])\n",
        "\n",
        "print(np.sum(x))          # Compute sum of all elements\n",
        "print(np.sum(x, axis=0))  # Compute sum of each row\n",
        "print(np.sum(x, axis=1))  # Compute sum of each col"
      ],
      "execution_count": null,
      "outputs": [
        {
          "output_type": "stream",
          "text": [
            "21\n",
            "[5 7 9]\n",
            "[ 6 15]\n"
          ],
          "name": "stdout"
        }
      ]
    },
    {
      "cell_type": "markdown",
      "metadata": {
        "id": "Ux2BFBib6aKX"
      },
      "source": [
        "**Note:** `Axis 0` is `row` and `Axis 1` is `column`"
      ]
    },
    {
      "cell_type": "markdown",
      "metadata": {
        "id": "jcgBljHx6aKY"
      },
      "source": [
        "**np.Max**"
      ]
    },
    {
      "cell_type": "code",
      "metadata": {
        "colab": {
          "base_uri": "https://localhost:8080/"
        },
        "id": "eIneH0IK6aKY",
        "outputId": "bca7c1c6-dac6-4877-9938-06a1a52ceb73"
      },
      "source": [
        "print(np.max(x, axis=1))  # Compute max of each row"
      ],
      "execution_count": null,
      "outputs": [
        {
          "output_type": "stream",
          "text": [
            "[3 6]\n"
          ],
          "name": "stdout"
        }
      ]
    },
    {
      "cell_type": "markdown",
      "metadata": {
        "id": "GFi3AWAc6aKZ"
      },
      "source": [
        "**Argmax** <br>\n",
        "How can we compute the index of the max value of each row? Useful, to say, find the class that corresponds to the maximum score for an input image."
      ]
    },
    {
      "cell_type": "code",
      "metadata": {
        "colab": {
          "base_uri": "https://localhost:8080/"
        },
        "id": "zzUQTgVC6aKZ",
        "outputId": "93f5e832-deae-4a9f-f0f9-3e932713a5fa"
      },
      "source": [
        "x = np.array([[1, 7, 3], \n",
        "              [4, 5, 6]])\n",
        "\n",
        "print(np.argmax(x, axis=0)) # Compute index of max of each row"
      ],
      "execution_count": null,
      "outputs": [
        {
          "output_type": "stream",
          "text": [
            "[1 0 1]\n"
          ],
          "name": "stdout"
        }
      ]
    },
    {
      "cell_type": "markdown",
      "metadata": {
        "id": "o-ebgCSx6aKa"
      },
      "source": [
        "**Computing on a specific Axis**"
      ]
    },
    {
      "cell_type": "code",
      "metadata": {
        "colab": {
          "base_uri": "https://localhost:8080/"
        },
        "id": "gJ4hdQ-f6aKa",
        "outputId": "e508d65a-f534-40d0-8188-e31ed49afd0a"
      },
      "source": [
        "x = np.array([[1,2],[3,4]])\n",
        "print(\"array: \",x)\n",
        "print(\"-----\")\n",
        "print (\"sum of all elements : \",np.sum(x))  # Compute sum of all elements; prints \"10\"\n",
        "print (\"sum of rows : \", np.sum(x, axis=0))  # Compute sum of each rows; prints \"[4 6]\"\n",
        "print (\"sum of cols : \" ,np.sum(x, axis=1))  # Compute sum of each cols; prints \"[3 7]\""
      ],
      "execution_count": null,
      "outputs": [
        {
          "output_type": "stream",
          "text": [
            "array:  [[1 2]\n",
            " [3 4]]\n",
            "-----\n",
            "sum of all elements :  10\n",
            "sum of rows :  [4 6]\n",
            "sum of cols :  [3 7]\n"
          ],
          "name": "stdout"
        }
      ]
    },
    {
      "cell_type": "markdown",
      "metadata": {
        "id": "yV5GMV806aKb"
      },
      "source": [
        "**Slicing** <br>\n",
        "Numpy slicing is pretty similar to python list slicing"
      ]
    },
    {
      "cell_type": "code",
      "metadata": {
        "colab": {
          "base_uri": "https://localhost:8080/"
        },
        "id": "iThVoA1c6aKc",
        "outputId": "7892b0c3-8614-4868-f708-a3d5abf06d79"
      },
      "source": [
        "b[0:2,0]  # from row 0 and 1 take column 1st"
      ],
      "execution_count": null,
      "outputs": [
        {
          "output_type": "execute_result",
          "data": {
            "text/plain": [
              "array([7, 7])"
            ]
          },
          "metadata": {
            "tags": []
          },
          "execution_count": 26
        }
      ]
    },
    {
      "cell_type": "code",
      "metadata": {
        "colab": {
          "base_uri": "https://localhost:8080/"
        },
        "id": "vdRxTD_G6aKd",
        "outputId": "eb6aa45e-21fb-4b11-e8bf-2e833e9b7af2"
      },
      "source": [
        "x[:,1:2]  # gives all rows of col 2"
      ],
      "execution_count": null,
      "outputs": [
        {
          "output_type": "execute_result",
          "data": {
            "text/plain": [
              "array([[2],\n",
              "       [4]])"
            ]
          },
          "metadata": {
            "tags": []
          },
          "execution_count": 27
        }
      ]
    },
    {
      "cell_type": "markdown",
      "metadata": {
        "id": "QDroEQKw6aKd"
      },
      "source": [
        "**Reversing an axis**"
      ]
    },
    {
      "cell_type": "code",
      "metadata": {
        "colab": {
          "base_uri": "https://localhost:8080/"
        },
        "id": "YiY2jVvH6aKe",
        "outputId": "8adb8f58-56d4-47c9-c64d-cdaf17da5b9a"
      },
      "source": [
        "a = np.array([[1, 2, 3, 4],\n",
        "              [5, 6, 7, 8],\n",
        "              [9, 10, 11, 12]])\n",
        "\n",
        "# The following reverses the first row and prints it out\n",
        "print('Reversing the first row (a[0, ::-1]) :\\n', a[0, ::-1]) "
      ],
      "execution_count": null,
      "outputs": [
        {
          "output_type": "stream",
          "text": [
            "Reversing the first row (a[0, ::-1]) :\n",
            " [4 3 2 1]\n"
          ],
          "name": "stdout"
        }
      ]
    },
    {
      "cell_type": "code",
      "metadata": {
        "id": "01PxxaCB8he9"
      },
      "source": [
        ""
      ],
      "execution_count": null,
      "outputs": []
    }
  ]
}