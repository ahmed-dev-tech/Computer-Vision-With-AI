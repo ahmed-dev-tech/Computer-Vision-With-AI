{
  "nbformat": 4,
  "nbformat_minor": 0,
  "metadata": {
    "kernelspec": {
      "display_name": "Python 3",
      "language": "python",
      "name": "python3"
    },
    "language_info": {
      "codemirror_mode": {
        "name": "ipython",
        "version": 3
      },
      "file_extension": ".py",
      "mimetype": "text/x-python",
      "name": "python",
      "nbconvert_exporter": "python",
      "pygments_lexer": "ipython3",
      "version": "3.7.3"
    },
    "colab": {
      "name": "1_7_Numpy_part_1.ipynb",
      "provenance": [],
      "include_colab_link": true
    }
  },
  "cells": [
    {
      "cell_type": "markdown",
      "metadata": {
        "id": "view-in-github",
        "colab_type": "text"
      },
      "source": [
        "<a href=\"https://colab.research.google.com/github/ahmed-dev-tech/Computer-Vision-With-AI/blob/main/Numpy%20Crash%20Course%20Week%201/1_7_Numpy_part_1.ipynb\" target=\"_parent\"><img src=\"https://colab.research.google.com/assets/colab-badge.svg\" alt=\"Open In Colab\"/></a>"
      ]
    },
    {
      "cell_type": "markdown",
      "metadata": {
        "id": "O-f3DBko4kGB"
      },
      "source": [
        "# Numpy Crash Course\n"
      ]
    },
    {
      "cell_type": "markdown",
      "metadata": {
        "id": "eLdlNVzS4kGH"
      },
      "source": [
        "\"NumPy is the fundamental package for scientific computing in Python. It is a Python library that provides a multidimensional array object, various derived objects (such as masked arrays and matrices), and an assortment of routines for fast operations on arrays, including mathematical, logical, shape manipulation, sorting, selecting, I/O, discrete Fourier transforms, basic linear algebra, basic statistical operations, random simulation and much more\"\n",
        "\n",
        "You can visit the full documentation [here](https://docs.scipy.org/doc/numpy-1.10.1/user/whatisnumpy.html)"
      ]
    },
    {
      "cell_type": "markdown",
      "metadata": {
        "id": "fNdg3dDB4kGI"
      },
      "source": [
        "### Importing Numpy\n",
        "\n",
        "**The `np` is a very popular alias given to numpy**"
      ]
    },
    {
      "cell_type": "code",
      "metadata": {
        "id": "PunH3QWL4kGI"
      },
      "source": [
        "\n",
        "import numpy as np"
      ],
      "execution_count": null,
      "outputs": []
    },
    {
      "cell_type": "markdown",
      "metadata": {
        "id": "vCFjgV0q4kGJ"
      },
      "source": [
        "Let's run through an example showing how powerful NumPy is. <br>\n",
        "Suppose we have two lists `a` and `b`, consisting of the first `100,000 non-negative numbers`, and we want to create a new list c whose ith element is `a[i] * b[i]`.\n",
        "\n",
        "\n",
        "###Approach Without NumPy: \n",
        "\n",
        "**Using Python lists**"
      ]
    },
    {
      "cell_type": "code",
      "metadata": {
        "colab": {
          "base_uri": "https://localhost:8080/"
        },
        "id": "rmzjbIyl4kGK",
        "outputId": "5230da39-932a-4d23-c85b-baf8412880e8"
      },
      "source": [
        "%%time\n",
        "a = [i for i in range(100000)]\n",
        "b = [i for i in range(100000)]"
      ],
      "execution_count": null,
      "outputs": [
        {
          "output_type": "stream",
          "text": [
            "CPU times: user 13.3 ms, sys: 4.84 ms, total: 18.1 ms\n",
            "Wall time: 18.3 ms\n"
          ],
          "name": "stdout"
        }
      ]
    },
    {
      "cell_type": "code",
      "metadata": {
        "colab": {
          "base_uri": "https://localhost:8080/"
        },
        "id": "mjBQIXo44kGL",
        "outputId": "e2bd3869-a75c-4107-c5f9-9de35e6f216c"
      },
      "source": [
        "%%time\n",
        "c = []\n",
        "for i in range(len(a)):\n",
        "    c.append(a[i]  *  b[i])"
      ],
      "execution_count": null,
      "outputs": [
        {
          "output_type": "stream",
          "text": [
            "CPU times: user 34.3 ms, sys: 709 µs, total: 35 ms\n",
            "Wall time: 38.5 ms\n"
          ],
          "name": "stdout"
        }
      ]
    },
    {
      "cell_type": "markdown",
      "metadata": {
        "id": "Vus1N5iF4kGL"
      },
      "source": [
        "That's the thing we want you to notice the real time difference.\n",
        "The Wall Time which a process needs to complete its task .\n",
        "- 1st : Wall time: 12 ms \n",
        "- 2nd : Wall time: 36 ms. <br><br>\n",
        "<i> **Note:** The `%%time` is the magic command for calculating the execution time of the cell. <br> </i>\n"
      ]
    },
    {
      "cell_type": "markdown",
      "metadata": {
        "id": "QdDh_eOU4kGM"
      },
      "source": [
        "##Using Numpy"
      ]
    },
    {
      "cell_type": "code",
      "metadata": {
        "colab": {
          "base_uri": "https://localhost:8080/"
        },
        "id": "BfbR-LYm4kGN",
        "outputId": "049bfbea-5417-4377-c741-09f95d24018b"
      },
      "source": [
        "%%time\n",
        "a = np.arange(100000)\n",
        "b = np.arange(100000)"
      ],
      "execution_count": null,
      "outputs": [
        {
          "output_type": "stream",
          "text": [
            "CPU times: user 5.72 ms, sys: 5 µs, total: 5.73 ms\n",
            "Wall time: 5.91 ms\n"
          ],
          "name": "stdout"
        }
      ]
    },
    {
      "cell_type": "code",
      "metadata": {
        "colab": {
          "base_uri": "https://localhost:8080/"
        },
        "id": "-rDEauwu4kGN",
        "outputId": "e069aab8-4857-4f4e-8c33-3f00ab517ef1"
      },
      "source": [
        "%%time\n",
        "c = a  * b"
      ],
      "execution_count": null,
      "outputs": [
        {
          "output_type": "stream",
          "text": [
            "CPU times: user 559 µs, sys: 1.78 ms, total: 2.34 ms\n",
            "Wall time: 7.95 ms\n"
          ],
          "name": "stdout"
        }
      ]
    },
    {
      "cell_type": "markdown",
      "metadata": {
        "id": "scTBSL8B4kGO"
      },
      "source": [
        "The result is 10 to 15 times faster, and we could do it in fewer lines of code (and the code itself is more intuitive)\n",
        "\n",
        "Regular Python is much slower due to type checking and other overhead of needing to interpret code and support Python's abstractions.\n",
        "\n",
        "For example, if we are doing some addition in a loop, constantly type checking in a loop will lead to many more instructions than just performing a regular addition operation. NumPy, using optimized pre-compiled C code, is able to avoid a lot of the overhead introduced.\n",
        "\n",
        "The process we used above is vectorization. Vectorization refers to applying operations to arrays instead of just individual elements (i.e. no loops).\n",
        "\n",
        "**Why vectorize?**\n",
        "\n",
        "1. Much faster\n",
        "2. Easier to read and fewer lines of code\n",
        "3. More closely assembles mathematical notation\n",
        "\n",
        "<i>Vectorization is one of the main reasons why NumPy is so powerful.</i>"
      ]
    },
    {
      "cell_type": "markdown",
      "metadata": {
        "id": "ssznz0Ug4kGO"
      },
      "source": [
        "##What is an Array\n",
        "**A numpy array is a grid of values, all of the same type, and is indexed by a tuple of non-negative integers. The number of dimensions is the rank of the array; the shape of an array is a tuple of integers giving the size of the array along each dimension.**"
      ]
    },
    {
      "cell_type": "markdown",
      "metadata": {
        "id": "dI7rIUQE4kGP"
      },
      "source": [
        "Creating A simple array of 3 integers\n"
      ]
    },
    {
      "cell_type": "code",
      "metadata": {
        "colab": {
          "base_uri": "https://localhost:8080/"
        },
        "id": "Ml7blklu4kGP",
        "outputId": "2bf6c88c-aa1f-4b22-e0c4-9ca1e1780119"
      },
      "source": [
        "array = np.array([1,2,3])\n",
        "print(array)"
      ],
      "execution_count": null,
      "outputs": [
        {
          "output_type": "stream",
          "text": [
            "[1 2 3]\n"
          ],
          "name": "stdout"
        }
      ]
    },
    {
      "cell_type": "markdown",
      "metadata": {
        "id": "VA4G-oGb4kGP"
      },
      "source": [
        " `Item Size`\n",
        "**Itemsize is the size of one element,this gives 4 cause u have integers and so each item = 4 bytes.**"
      ]
    },
    {
      "cell_type": "code",
      "metadata": {
        "colab": {
          "base_uri": "https://localhost:8080/"
        },
        "id": "uivN5QFt4kGQ",
        "outputId": "56da1b3f-8154-4166-da5a-015e0870be66"
      },
      "source": [
        "array.itemsize"
      ],
      "execution_count": null,
      "outputs": [
        {
          "output_type": "execute_result",
          "data": {
            "text/plain": [
              "8"
            ]
          },
          "metadata": {
            "tags": []
          },
          "execution_count": 7
        }
      ]
    },
    {
      "cell_type": "markdown",
      "metadata": {
        "id": "Eb5vGPnR4kGQ"
      },
      "source": [
        "You can also get an array of a range using the `arange` funciton"
      ]
    },
    {
      "cell_type": "code",
      "metadata": {
        "colab": {
          "base_uri": "https://localhost:8080/"
        },
        "id": "5Oebbry24kGQ",
        "outputId": "b4c0fb27-9dca-45d6-d2bb-0bae9471518b"
      },
      "source": [
        "array = np.arange(10)  # ...means give me an array 0-9\n",
        "array"
      ],
      "execution_count": null,
      "outputs": [
        {
          "output_type": "execute_result",
          "data": {
            "text/plain": [
              "array([0, 1, 2, 3, 4, 5, 6, 7, 8, 9])"
            ]
          },
          "metadata": {
            "tags": []
          },
          "execution_count": 8
        }
      ]
    },
    {
      "cell_type": "markdown",
      "metadata": {
        "id": "rYSE6FjQ4kGR"
      },
      "source": [
        "**Check size of array**"
      ]
    },
    {
      "cell_type": "code",
      "metadata": {
        "colab": {
          "base_uri": "https://localhost:8080/"
        },
        "id": "vpClC-bF4kGR",
        "outputId": "c1920e31-887d-436b-8c93-22e6e964a2d4"
      },
      "source": [
        "array.size     "
      ],
      "execution_count": null,
      "outputs": [
        {
          "output_type": "execute_result",
          "data": {
            "text/plain": [
              "10"
            ]
          },
          "metadata": {
            "tags": []
          },
          "execution_count": 9
        }
      ]
    },
    {
      "cell_type": "markdown",
      "metadata": {
        "id": "4yUOMtnB4kGR"
      },
      "source": [
        " Now its better to store things as numpy array cause in array 1 element = 4 bytes but in python 1 object = 14 bytes\n",
        " Numpy array is also fast cause it will take a lot less time to process when you have large data."
      ]
    },
    {
      "cell_type": "code",
      "metadata": {
        "colab": {
          "base_uri": "https://localhost:8080/"
        },
        "id": "2pFKNuUD4kGR",
        "outputId": "b791dc7d-339f-49a3-a44f-ce8847782032"
      },
      "source": [
        "# To create an array of size 3-5.\n",
        "np.arange(3,6)"
      ],
      "execution_count": null,
      "outputs": [
        {
          "output_type": "execute_result",
          "data": {
            "text/plain": [
              "array([3, 4, 5])"
            ]
          },
          "metadata": {
            "tags": []
          },
          "execution_count": 10
        }
      ]
    },
    {
      "cell_type": "markdown",
      "metadata": {
        "id": "xGrvuW2M4kGS"
      },
      "source": [
        "**Getting Length of Array**"
      ]
    },
    {
      "cell_type": "code",
      "metadata": {
        "colab": {
          "base_uri": "https://localhost:8080/"
        },
        "id": "eCFhmXQR4kGS",
        "outputId": "9b4814d5-22b3-4a6c-b665-ad4c18f4b1ef"
      },
      "source": [
        "len(array)"
      ],
      "execution_count": null,
      "outputs": [
        {
          "output_type": "execute_result",
          "data": {
            "text/plain": [
              "10"
            ]
          },
          "metadata": {
            "tags": []
          },
          "execution_count": 11
        }
      ]
    },
    {
      "cell_type": "markdown",
      "metadata": {
        "id": "bVxgWSVI4kGS"
      },
      "source": [
        "**Getting Shape**"
      ]
    },
    {
      "cell_type": "code",
      "metadata": {
        "colab": {
          "base_uri": "https://localhost:8080/"
        },
        "id": "n9burZQJ4kGT",
        "outputId": "7badfe49-c4b1-4742-e083-ead9fea67e70"
      },
      "source": [
        "array.shape"
      ],
      "execution_count": null,
      "outputs": [
        {
          "output_type": "execute_result",
          "data": {
            "text/plain": [
              "(10,)"
            ]
          },
          "metadata": {
            "tags": []
          },
          "execution_count": 12
        }
      ]
    },
    {
      "cell_type": "markdown",
      "metadata": {
        "id": "pukiDDTy4kGT"
      },
      "source": [
        "**Type**"
      ]
    },
    {
      "cell_type": "code",
      "metadata": {
        "colab": {
          "base_uri": "https://localhost:8080/"
        },
        "id": "GEYlJn614kGT",
        "outputId": "bed12a96-2f71-4e7a-c4d2-6d6944347932"
      },
      "source": [
        "print(type(array))           "
      ],
      "execution_count": null,
      "outputs": [
        {
          "output_type": "stream",
          "text": [
            "<class 'numpy.ndarray'>\n"
          ],
          "name": "stdout"
        }
      ]
    },
    {
      "cell_type": "markdown",
      "metadata": {
        "id": "dDJpi7ch4kGU"
      },
      "source": [
        "**Get Datatype of Array**"
      ]
    },
    {
      "cell_type": "code",
      "metadata": {
        "colab": {
          "base_uri": "https://localhost:8080/"
        },
        "id": "l68mzkbB4kGU",
        "outputId": "deb0b441-dd6d-460e-e7fb-9311add73026"
      },
      "source": [
        "array.dtype"
      ],
      "execution_count": null,
      "outputs": [
        {
          "output_type": "execute_result",
          "data": {
            "text/plain": [
              "dtype('int64')"
            ]
          },
          "metadata": {
            "tags": []
          },
          "execution_count": 14
        }
      ]
    },
    {
      "cell_type": "markdown",
      "metadata": {
        "id": "ha63jM9O4kGU"
      },
      "source": [
        "**Changing Datatype of Array**"
      ]
    },
    {
      "cell_type": "code",
      "metadata": {
        "colab": {
          "base_uri": "https://localhost:8080/"
        },
        "id": "Y6oZMKpG4kGU",
        "outputId": "3905e7a8-c052-4630-b4ce-739e0143a1e2"
      },
      "source": [
        "float_array = np.array([2,3,4,5,6,7], dtype=np.float64)\n",
        "int64_array = np.array([1, 2], dtype=np.int64) \n",
        "print(float_array.dtype)\n",
        "print(int64_array.dtype)"
      ],
      "execution_count": null,
      "outputs": [
        {
          "output_type": "stream",
          "text": [
            "float64\n",
            "int64\n"
          ],
          "name": "stdout"
        }
      ]
    },
    {
      "cell_type": "markdown",
      "metadata": {
        "id": "Q_RfEvK54kGV"
      },
      "source": [
        "**Indexing in Array** <br>\n",
        "Example: print 1st 4th and 6th element"
      ]
    },
    {
      "cell_type": "code",
      "metadata": {
        "colab": {
          "base_uri": "https://localhost:8080/"
        },
        "id": "Lii9bcwB4kGV",
        "outputId": "15908cc6-826c-4396-fc42-f4e2835d1530"
      },
      "source": [
        "print(array[0], array[3], array[5])   "
      ],
      "execution_count": null,
      "outputs": [
        {
          "output_type": "stream",
          "text": [
            "0 3 5\n"
          ],
          "name": "stdout"
        }
      ]
    },
    {
      "cell_type": "markdown",
      "metadata": {
        "id": "0MKkc0So4kGW"
      },
      "source": [
        "**Modifying Array elements**"
      ]
    },
    {
      "cell_type": "code",
      "metadata": {
        "colab": {
          "base_uri": "https://localhost:8080/"
        },
        "id": "X7wdEGCo4kGW",
        "outputId": "c289db98-1db5-457c-c755-919ace9e5d5a"
      },
      "source": [
        "array[0] = 100  \n",
        "print(array)"
      ],
      "execution_count": null,
      "outputs": [
        {
          "output_type": "stream",
          "text": [
            "[100   1   2   3   4   5   6   7   8   9]\n"
          ],
          "name": "stdout"
        }
      ]
    },
    {
      "cell_type": "markdown",
      "metadata": {
        "id": "LAzDzX1Z4kGW"
      },
      "source": [
        "Range with Step Size"
      ]
    },
    {
      "cell_type": "code",
      "metadata": {
        "colab": {
          "base_uri": "https://localhost:8080/"
        },
        "id": "9vXJIoKj4kGW",
        "outputId": "cc2795cf-a48e-4158-8264-72a52374e023"
      },
      "source": [
        "#Now take a step of 2 on each step.\n",
        "np.arange(2,11,2)"
      ],
      "execution_count": null,
      "outputs": [
        {
          "output_type": "execute_result",
          "data": {
            "text/plain": [
              "array([ 2,  4,  6,  8, 10])"
            ]
          },
          "metadata": {
            "tags": []
          },
          "execution_count": 18
        }
      ]
    },
    {
      "cell_type": "markdown",
      "metadata": {
        "id": "DZyXjOaB4kGX"
      },
      "source": [
        "##About N-Dimensional Arrays\n",
        "**ndarrays, n-dimensional arrays of homogenous data type, are the fundamental datatype used in NumPy. As these arrays are of the same type and are fixed size at creation, they offer less flexibility than Python lists, but can be substantially more efficient runtime and memory-wise. (Python lists are arrays of pointers to objects, adding a layer of indirection.)**\n",
        "\n",
        "<i>The number of dimensions is the rank of the array; the shape of an array is a tuple of integers giving the size of the array along each dimension.</i>"
      ]
    },
    {
      "cell_type": "markdown",
      "metadata": {
        "id": "_FWkLrFk4kGX"
      },
      "source": [
        " ### 1 Dimensional or Zero Rank Array"
      ]
    },
    {
      "cell_type": "code",
      "metadata": {
        "colab": {
          "base_uri": "https://localhost:8080/"
        },
        "id": "1xx_kEHv4kGX",
        "outputId": "2b4404df-318d-441c-fd42-efae219e53b4"
      },
      "source": [
        "a = np.array([3,3,0,3,3]) #1D array\n",
        "a"
      ],
      "execution_count": null,
      "outputs": [
        {
          "output_type": "execute_result",
          "data": {
            "text/plain": [
              "array([3, 3, 0, 3, 3])"
            ]
          },
          "metadata": {
            "tags": []
          },
          "execution_count": 19
        }
      ]
    },
    {
      "cell_type": "markdown",
      "metadata": {
        "id": "dWSZpTrP4kGY"
      },
      "source": [
        "Get Dimensions of Array"
      ]
    },
    {
      "cell_type": "code",
      "metadata": {
        "colab": {
          "base_uri": "https://localhost:8080/"
        },
        "id": "vqcjChrj4kGY",
        "outputId": "b617eb43-183b-4233-ea88-32a0e0bd14f1"
      },
      "source": [
        "a.ndim"
      ],
      "execution_count": null,
      "outputs": [
        {
          "output_type": "execute_result",
          "data": {
            "text/plain": [
              "1"
            ]
          },
          "metadata": {
            "tags": []
          },
          "execution_count": 20
        }
      ]
    },
    {
      "cell_type": "markdown",
      "metadata": {
        "id": "bLnuIn2x4kGY"
      },
      "source": [
        " ###  Creating a 2D Array "
      ]
    },
    {
      "cell_type": "code",
      "metadata": {
        "colab": {
          "base_uri": "https://localhost:8080/"
        },
        "id": "gv4jtaOH4kGY",
        "outputId": "34721bf3-f16d-4639-9d6c-18f71c663165"
      },
      "source": [
        "b=np.array([[2,3],[4,5],[6,7]]) # 2D array\n",
        "print(b.ndim)\n",
        "print(b.shape) # returns rows,columns\n",
        "b"
      ],
      "execution_count": null,
      "outputs": [
        {
          "output_type": "stream",
          "text": [
            "2\n",
            "(3, 2)\n"
          ],
          "name": "stdout"
        },
        {
          "output_type": "execute_result",
          "data": {
            "text/plain": [
              "array([[2, 3],\n",
              "       [4, 5],\n",
              "       [6, 7]])"
            ]
          },
          "metadata": {
            "tags": []
          },
          "execution_count": 21
        }
      ]
    },
    {
      "cell_type": "markdown",
      "metadata": {
        "id": "0E1IEYBz4kGZ"
      },
      "source": [
        "**Indexing a 2D array** \n",
        "You first pass in the row number than the col number"
      ]
    },
    {
      "cell_type": "code",
      "metadata": {
        "colab": {
          "base_uri": "https://localhost:8080/"
        },
        "id": "1S3XP_kO4kGZ",
        "outputId": "ceaf3fd3-c860-4dda-f333-c49efbf841bd"
      },
      "source": [
        "print(b[0, 0], b[0, 1], b[1, 0])   "
      ],
      "execution_count": null,
      "outputs": [
        {
          "output_type": "stream",
          "text": [
            "2 3 4\n"
          ],
          "name": "stdout"
        }
      ]
    },
    {
      "cell_type": "markdown",
      "metadata": {
        "id": "z_Pfph7a4kGZ"
      },
      "source": [
        "**Alternative**"
      ]
    },
    {
      "cell_type": "code",
      "metadata": {
        "colab": {
          "base_uri": "https://localhost:8080/"
        },
        "id": "G_yBvBno4kGa",
        "outputId": "751abfe2-c48e-4d2c-c364-64be5ee1eb1a"
      },
      "source": [
        "print(b[0][0], b[0][1], b[1][0])   "
      ],
      "execution_count": null,
      "outputs": [
        {
          "output_type": "stream",
          "text": [
            "2 3 4\n"
          ],
          "name": "stdout"
        }
      ]
    },
    {
      "cell_type": "markdown",
      "metadata": {
        "id": "QUA8c3w04kGa"
      },
      "source": [
        " ### Creating 3D  arrays "
      ]
    },
    {
      "cell_type": "code",
      "metadata": {
        "colab": {
          "base_uri": "https://localhost:8080/"
        },
        "id": "vfLc9Cod4kGa",
        "outputId": "271e6c66-9c54-41fe-ee2b-8c8f4dcd62d6"
      },
      "source": [
        "b = np.array([[[1],[2],[3]],[[4],[5],[6]]])   # Create a rank 3 array\n",
        "print (b)\n",
        "print(b.ndim)\n",
        "print(b.shape)"
      ],
      "execution_count": null,
      "outputs": [
        {
          "output_type": "stream",
          "text": [
            "[[[1]\n",
            "  [2]\n",
            "  [3]]\n",
            "\n",
            " [[4]\n",
            "  [5]\n",
            "  [6]]]\n",
            "3\n",
            "(2, 3, 1)\n"
          ],
          "name": "stdout"
        }
      ]
    },
    {
      "cell_type": "markdown",
      "metadata": {
        "id": "U1vLPFkU4kGa"
      },
      "source": [
        "And so on you can Create N dimensional Arrays"
      ]
    },
    {
      "cell_type": "code",
      "metadata": {
        "id": "eFIVEXRn5jJJ"
      },
      "source": [
        "\n"
      ],
      "execution_count": null,
      "outputs": []
    }
  ]
}