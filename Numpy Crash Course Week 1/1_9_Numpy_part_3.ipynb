{
  "nbformat": 4,
  "nbformat_minor": 0,
  "metadata": {
    "kernelspec": {
      "display_name": "Python 3",
      "language": "python",
      "name": "python3"
    },
    "language_info": {
      "codemirror_mode": {
        "name": "ipython",
        "version": 3
      },
      "file_extension": ".py",
      "mimetype": "text/x-python",
      "name": "python",
      "nbconvert_exporter": "python",
      "pygments_lexer": "ipython3",
      "version": "3.7.3"
    },
    "colab": {
      "name": "1.9 Numpy part 3.ipynb",
      "provenance": []
    }
  },
  "cells": [
    {
      "cell_type": "markdown",
      "metadata": {
        "id": "1xlBg1i89B9Y"
      },
      "source": [
        "\n",
        "#  Numpy Crash Course"
      ]
    },
    {
      "cell_type": "code",
      "metadata": {
        "id": "aXkYc5QN9B9h"
      },
      "source": [
        "import numpy as np"
      ],
      "execution_count": null,
      "outputs": []
    },
    {
      "cell_type": "markdown",
      "metadata": {
        "id": "DtJXlgk69B9i"
      },
      "source": [
        "\n",
        "##   Filtering   \n",
        "We can also use boolean indexing/masks. Suppose we want to set all elements greater than MAX to MAX:"
      ]
    },
    {
      "cell_type": "code",
      "metadata": {
        "colab": {
          "base_uri": "https://localhost:8080/"
        },
        "id": "FxolsiL09B9j",
        "outputId": "d57ce49b-415e-439e-e005-ac50eb4c6a9e"
      },
      "source": [
        "MAX = 5\n",
        "nums = np.array([1, 4, 10, -1, 15, 0, 5])\n",
        "print(nums > MAX)           \n",
        "\n",
        "\n",
        "nums[nums > MAX] = MAX\n",
        "print(nums)                 "
      ],
      "execution_count": null,
      "outputs": [
        {
          "output_type": "stream",
          "text": [
            "[False False  True False  True False False]\n",
            "[ 1  4  5 -1  5  0  5]\n"
          ],
          "name": "stdout"
        }
      ]
    },
    {
      "cell_type": "markdown",
      "metadata": {
        "id": "jMQzyMli9B9l"
      },
      "source": [
        "##  Stacking  "
      ]
    },
    {
      "cell_type": "markdown",
      "metadata": {
        "id": "wHGuMkEA9B9l"
      },
      "source": [
        "\n",
        "\n",
        "```\n",
        "# This is formatted as code\n",
        "```\n",
        "\n",
        "`numpy.stack()`:\n",
        "**Joins a sequence of arrays along a new axis.**<br>"
      ]
    },
    {
      "cell_type": "code",
      "metadata": {
        "colab": {
          "base_uri": "https://localhost:8080/"
        },
        "id": "9CoBtZfx9B9m",
        "outputId": "49ccc0ac-28f8-4ff1-977b-c93b9c8aba3f"
      },
      "source": [
        "a =  np.arange(9).reshape(3 , 3)\n",
        "print(a)"
      ],
      "execution_count": null,
      "outputs": [
        {
          "output_type": "stream",
          "text": [
            "[[0 1 2]\n",
            " [3 4 5]\n",
            " [6 7 8]]\n"
          ],
          "name": "stdout"
        }
      ]
    },
    {
      "cell_type": "code",
      "metadata": {
        "colab": {
          "base_uri": "https://localhost:8080/"
        },
        "id": "bKIuSl5W9B9n",
        "outputId": "20a34213-7813-411a-d2f0-be5b9195e75e"
      },
      "source": [
        "b = np.arange(10,19).reshape(3,3)\n",
        "print(b)"
      ],
      "execution_count": null,
      "outputs": [
        {
          "output_type": "stream",
          "text": [
            "[[10 11 12]\n",
            " [13 14 15]\n",
            " [16 17 18]]\n"
          ],
          "name": "stdout"
        }
      ]
    },
    {
      "cell_type": "code",
      "metadata": {
        "colab": {
          "base_uri": "https://localhost:8080/"
        },
        "id": "cSC23goK9B9n",
        "outputId": "68302d36-8548-4a98-fa0d-4a3aa0c43acf"
      },
      "source": [
        "c = np.arange(20,29).reshape(3,3)\n",
        "print(c)"
      ],
      "execution_count": null,
      "outputs": [
        {
          "output_type": "stream",
          "text": [
            "[[20 21 22]\n",
            " [23 24 25]\n",
            " [26 27 28]]\n"
          ],
          "name": "stdout"
        }
      ]
    },
    {
      "cell_type": "markdown",
      "metadata": {
        "id": "NF0CZ3KW9B9o"
      },
      "source": [
        "**Horizontal Stacking**"
      ]
    },
    {
      "cell_type": "code",
      "metadata": {
        "colab": {
          "base_uri": "https://localhost:8080/"
        },
        "id": "_fEpctDw9B9p",
        "outputId": "02148361-5df0-4396-8c9b-20cb0b750926"
      },
      "source": [
        "np.hstack((a, b,c))"
      ],
      "execution_count": null,
      "outputs": [
        {
          "output_type": "execute_result",
          "data": {
            "text/plain": [
              "array([[ 0,  1,  2, 10, 11, 12, 20, 21, 22],\n",
              "       [ 3,  4,  5, 13, 14, 15, 23, 24, 25],\n",
              "       [ 6,  7,  8, 16, 17, 18, 26, 27, 28]])"
            ]
          },
          "metadata": {
            "tags": []
          },
          "execution_count": 6
        }
      ]
    },
    {
      "cell_type": "markdown",
      "metadata": {
        "id": "g9Achv0R9B9p"
      },
      "source": [
        "**Vertical Stacking**"
      ]
    },
    {
      "cell_type": "code",
      "metadata": {
        "colab": {
          "base_uri": "https://localhost:8080/"
        },
        "id": "lXFEKMF19B9q",
        "outputId": "3ec7a002-0107-4e8f-92af-f25e8c265380"
      },
      "source": [
        "np.vstack((a, c , b))"
      ],
      "execution_count": null,
      "outputs": [
        {
          "output_type": "execute_result",
          "data": {
            "text/plain": [
              "array([[ 0,  1,  2],\n",
              "       [ 3,  4,  5],\n",
              "       [ 6,  7,  8],\n",
              "       [20, 21, 22],\n",
              "       [23, 24, 25],\n",
              "       [26, 27, 28],\n",
              "       [10, 11, 12],\n",
              "       [13, 14, 15],\n",
              "       [16, 17, 18]])"
            ]
          },
          "metadata": {
            "tags": []
          },
          "execution_count": 7
        }
      ]
    },
    {
      "cell_type": "markdown",
      "metadata": {
        "id": "o5R0r8sp9B9q"
      },
      "source": [
        "**1D vectors** <br>\n",
        "The problem with 1 D vectors or 0 rank arrays is that you can't define them as row or column vectors, so sometimes it may be better to define them as 2D"
      ]
    },
    {
      "cell_type": "code",
      "metadata": {
        "colab": {
          "base_uri": "https://localhost:8080/"
        },
        "id": "mUKy3TRi9B9r",
        "outputId": "b6ba7c1c-21a2-4275-b3b1-fd8bb5960d25"
      },
      "source": [
        "v=np.random.rand(5)\n",
        "print(v)\n",
        "print(v.shape)"
      ],
      "execution_count": null,
      "outputs": [
        {
          "output_type": "stream",
          "text": [
            "[0.40103438 0.90115578 0.5652284  0.68711842 0.84570781]\n",
            "(5,)\n"
          ],
          "name": "stdout"
        }
      ]
    },
    {
      "cell_type": "markdown",
      "metadata": {
        "id": "lwXllOUz9B9r"
      },
      "source": [
        "**Row Vector** "
      ]
    },
    {
      "cell_type": "code",
      "metadata": {
        "colab": {
          "base_uri": "https://localhost:8080/"
        },
        "id": "ODQtCMjU9B9r",
        "outputId": "5a0115f9-2bbf-4883-b864-cfdc69174612"
      },
      "source": [
        "v=np.random.rand(1,5)\n",
        "print(v)\n",
        "print(v.shape)  #row vector"
      ],
      "execution_count": null,
      "outputs": [
        {
          "output_type": "stream",
          "text": [
            "[[0.0466302  0.05834775 0.7685075  0.8947959  0.69014662]]\n",
            "(1, 5)\n"
          ],
          "name": "stdout"
        }
      ]
    },
    {
      "cell_type": "markdown",
      "metadata": {
        "id": "oX-cxqqb9B9s"
      },
      "source": [
        "**Column Vector** "
      ]
    },
    {
      "cell_type": "code",
      "metadata": {
        "colab": {
          "base_uri": "https://localhost:8080/"
        },
        "id": "0nSNDqTx9B9s",
        "outputId": "bb2a15e0-58bf-4d8c-d398-0e0c5ded32fa"
      },
      "source": [
        "v=np.random.rand(5,1)\n",
        "print(v)\n",
        "print(v.shape)   #column vector"
      ],
      "execution_count": null,
      "outputs": [
        {
          "output_type": "stream",
          "text": [
            "[[0.98922173]\n",
            " [0.83792792]\n",
            " [0.98369073]\n",
            " [0.7921687 ]\n",
            " [0.72587255]]\n",
            "(5, 1)\n"
          ],
          "name": "stdout"
        }
      ]
    },
    {
      "cell_type": "markdown",
      "metadata": {
        "id": "wNe1HDvs9B9t"
      },
      "source": [
        "\n",
        "###  Converting Python Lists to Numpy arrays "
      ]
    },
    {
      "cell_type": "code",
      "metadata": {
        "colab": {
          "base_uri": "https://localhost:8080/"
        },
        "id": "Z_d-iBvr9B9t",
        "outputId": "1c3067d8-5499-4cd1-c6f0-7bd5f8d6fb1e"
      },
      "source": [
        "pythonlist = [2,3,4,4]\n",
        "print(type(pythonlist))\n",
        "numpylist = np.array(pythonlist)\n",
        "print(type(numpylist))"
      ],
      "execution_count": null,
      "outputs": [
        {
          "output_type": "stream",
          "text": [
            "<class 'list'>\n",
            "<class 'numpy.ndarray'>\n"
          ],
          "name": "stdout"
        }
      ]
    },
    {
      "cell_type": "markdown",
      "metadata": {
        "id": "uIEOnrOM9B9u"
      },
      "source": [
        "\n",
        "## View and Copies."
      ]
    },
    {
      "cell_type": "markdown",
      "metadata": {
        "id": "F2udPcPO9B9u"
      },
      "source": [
        "Unlike a copy, in a **view** of an array, the data is shared between the view and the array. Sometimes, our results are copies of arrays, but other times they can be views. Understanding when each is generated is important to avoid any unforeseen issues.\n",
        "\n",
        "\n",
        "### <font style=\"color:rgb(134,19,348)\">  Views  </font> \n",
        "**Views can be created from a slice of an array**"
      ]
    },
    {
      "cell_type": "code",
      "metadata": {
        "colab": {
          "base_uri": "https://localhost:8080/"
        },
        "id": "4Zo2lD-K9B9u",
        "outputId": "9c91d767-7c65-492a-8263-b254ca6fd16e"
      },
      "source": [
        "x = np.arange(5)\n",
        "print('Original:\\n', x)  \n",
        "\n",
        "# Modifying the view will modify the array\n",
        "view = x[0:3]\n",
        "view[0] = -100\n",
        "print('Array After Modified View:\\n', x) "
      ],
      "execution_count": null,
      "outputs": [
        {
          "output_type": "stream",
          "text": [
            "Original:\n",
            " [0 1 2 3 4]\n",
            "Array After Modified View:\n",
            " [-100    1    2    3    4]\n"
          ],
          "name": "stdout"
        }
      ]
    },
    {
      "cell_type": "markdown",
      "metadata": {
        "id": "O3Tdzm0B9B9v"
      },
      "source": [
        "### <font style=\"color:rgb(134,19,348)\"> Copy  </font> \n",
        "Just add a `.copy()` after the array to prevent it from being modified"
      ]
    },
    {
      "cell_type": "code",
      "metadata": {
        "colab": {
          "base_uri": "https://localhost:8080/"
        },
        "id": "LKHbXtWc9B9v",
        "outputId": "7e138112-254a-4b0a-f02a-eabd3d636c62"
      },
      "source": [
        "x = np.arange(5)\n",
        "print('Original:\\n', x) \n",
        "\n",
        "# Copy, will not modify the original array.\n",
        "copy = x[1:3].copy()   \n",
        "copy[1] = -100\n",
        "print('Copy:\\n', copy) \n",
        "print('Array After Modified Copy:\\n', x)  "
      ],
      "execution_count": null,
      "outputs": [
        {
          "output_type": "stream",
          "text": [
            "Original:\n",
            " [0 1 2 3 4]\n",
            "Copy:\n",
            " [   1 -100]\n",
            "Array After Modified Copy:\n",
            " [0 1 2 3 4]\n"
          ],
          "name": "stdout"
        }
      ]
    },
    {
      "cell_type": "markdown",
      "metadata": {
        "id": "-A4lohak9B9w"
      },
      "source": [
        "\n",
        "## <font style=\"color:rgb(134,19,348)\">Summary   </font> \n",
        "\n",
        "1. Numpy is an incredibly powerful library for computation providing both massive efficiency gains and convenience.\n",
        "2. Vectorize! Orders of magnitude faster.\n",
        "3. Keeping track of the shape of your arrays is often useful.\n",
        "4. Many of the useful math functions and operations are built into Numpy.\n",
        "5. Watch out for views vs. copies."
      ]
    },
    {
      "cell_type": "code",
      "metadata": {
        "id": "xNxnIzIn-kKe"
      },
      "source": [
        ""
      ],
      "execution_count": null,
      "outputs": []
    }
  ]
}